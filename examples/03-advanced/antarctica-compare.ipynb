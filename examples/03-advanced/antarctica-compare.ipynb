{
  "cells": [
    {
      "cell_type": "code",
      "execution_count": null,
      "metadata": {
        "collapsed": false
      },
      "outputs": [],
      "source": [
        "%matplotlib inline\nfrom pyvista import set_plot_theme\nset_plot_theme('document')"
      ]
    },
    {
      "cell_type": "markdown",
      "metadata": {},
      "source": [
        "\nCompare Field Across Mesh Regions\n~~~~~~~~~~~~~~~~~~~~~~~~~~~~~~~~~\n\nHere is some velocity data from a glacier modelling simulation that is compared\nacross nodes in the simulation. We have simplified the mesh to have the\nsimulation node value already on the mesh.\n\nThis was originally posted to `pyvista/pyvista-support#83 <https://github.com/pyvista/pyvista-support/issues/83>`_.\n\nThe modeling results are courtesy of `Urruty Benoit <https://github.com/BenoitURRUTY>`_\nand  are from the `Elmer/Ice <http://elmerice.elmerfem.org>`_ simulation\nsoftware.\n"
      ]
    },
    {
      "cell_type": "code",
      "execution_count": null,
      "metadata": {
        "collapsed": false
      },
      "outputs": [],
      "source": [
        "# sphinx_gallery_thumbnail_number = 2\nimport pyvista as pv\nfrom pyvista import examples\nimport numpy as np\n\n# Load the sample data\nmesh = examples.download_antarctica_velocity()\nmesh[\"magnitude\"] = np.linalg.norm(mesh[\"ssavelocity\"], axis=1)\nmesh"
      ]
    },
    {
      "cell_type": "markdown",
      "metadata": {},
      "source": [
        "Here is a helper to extract regions of the mesh based on the simulation node.\n\n"
      ]
    },
    {
      "cell_type": "code",
      "execution_count": null,
      "metadata": {
        "collapsed": false
      },
      "outputs": [],
      "source": [
        "def extract_node(node):\n    idx = mesh[\"node_value\"] == node\n    return mesh.extract_points(idx)"
      ]
    },
    {
      "cell_type": "code",
      "execution_count": null,
      "metadata": {
        "collapsed": false
      },
      "outputs": [],
      "source": [
        "p = pv.Plotter()\np.add_mesh(mesh, scalars=\"node_value\")\nfor node in np.unique(mesh[\"node_value\"]):\n    loc = extract_node(node).center\n    p.add_point_labels(loc, [\"Node {}\".format(node)])\np.show(cpos=\"xy\")"
      ]
    },
    {
      "cell_type": "code",
      "execution_count": null,
      "metadata": {
        "collapsed": false
      },
      "outputs": [],
      "source": [
        "vel_dargs = dict(scalars=\"magnitude\", clim=[1e-3, 1e4], cmap='Blues', log_scale=True)\n\nmesh.plot(cpos=\"xy\", **vel_dargs)"
      ]
    },
    {
      "cell_type": "code",
      "execution_count": null,
      "metadata": {
        "collapsed": false
      },
      "outputs": [],
      "source": [
        "a = extract_node(12)\nb = extract_node(20)"
      ]
    },
    {
      "cell_type": "code",
      "execution_count": null,
      "metadata": {
        "collapsed": false
      },
      "outputs": [],
      "source": [
        "pl = pv.Plotter()\npl.add_mesh(a, **vel_dargs)\npl.add_mesh(b, **vel_dargs)\npl.show(cpos='xy')"
      ]
    },
    {
      "cell_type": "markdown",
      "metadata": {},
      "source": [
        "plot vectors without mesh\n\n"
      ]
    },
    {
      "cell_type": "code",
      "execution_count": null,
      "metadata": {
        "collapsed": false
      },
      "outputs": [],
      "source": [
        "pl = pv.Plotter()\npl.add_mesh(a.glyph(orient=\"ssavelocity\", factor=20), **vel_dargs)\npl.add_mesh(b.glyph(orient=\"ssavelocity\", factor=20), **vel_dargs)\npl.camera_position = [(-1114684.6969340036, 293863.65389149904, 752186.603224546),\n (-1114684.6969340036, 293863.65389149904, 0.0),\n (0.0, 1.0, 0.0)]\npl.show()"
      ]
    },
    {
      "cell_type": "markdown",
      "metadata": {},
      "source": [
        "Compare directions. Normalize them so we can get a reasonable direction\ncomparison.\n\n"
      ]
    },
    {
      "cell_type": "code",
      "execution_count": null,
      "metadata": {
        "collapsed": false
      },
      "outputs": [],
      "source": [
        "flow_a = a.point_arrays['ssavelocity'].copy()\nflow_a /= np.linalg.norm(flow_a, axis=1).reshape(-1, 1)\nflow_b = b.point_arrays['ssavelocity'].copy()\nflow_b /= np.linalg.norm(flow_b, axis=1).reshape(-1, 1)\n\n\n# plot normalized vectors\npl = pv.Plotter()\npl.add_arrows(a.points, flow_a, mag=10000, color='b', label='flow_a')\npl.add_arrows(b.points, flow_b, mag=10000, color='r', label='flow_b')\npl.add_legend()\npl.camera_position = [(-1044239.3240694795, 354805.0268606294, 484178.24825854995),\n                      (-1044239.3240694795, 354805.0268606294, 0.0),\n                      (0.0, 1.0, 0.0)]\npl.show()"
      ]
    },
    {
      "cell_type": "markdown",
      "metadata": {},
      "source": [
        "flow_a that agrees with the mean flow path of flow_b\n\n"
      ]
    },
    {
      "cell_type": "code",
      "execution_count": null,
      "metadata": {
        "collapsed": false
      },
      "outputs": [],
      "source": [
        "agree = flow_a.dot(flow_b.mean(0))\n\npl = pv.Plotter()\npl.add_mesh(a, scalars=agree, cmap='bwr', stitle='Flow agreement with block b')\npl.add_mesh(b, color='w')\npl.show(cpos='xy')"
      ]
    },
    {
      "cell_type": "code",
      "execution_count": null,
      "metadata": {
        "collapsed": false
      },
      "outputs": [],
      "source": [
        "agree = flow_b.dot(flow_a.mean(0))\n\npl = pv.Plotter()\npl.add_mesh(a, color='w')\npl.add_mesh(b, scalars=agree, cmap='bwr', stitle='Flow agreement with block a')\npl.show(cpos='xy')"
      ]
    }
  ],
  "metadata": {
    "kernelspec": {
      "display_name": "Python 3",
      "language": "python",
      "name": "python3"
    },
    "language_info": {
      "codemirror_mode": {
        "name": "ipython",
        "version": 3
      },
      "file_extension": ".py",
      "mimetype": "text/x-python",
      "name": "python",
      "nbconvert_exporter": "python",
      "pygments_lexer": "ipython3",
      "version": "3.7.7"
    }
  },
  "nbformat": 4,
  "nbformat_minor": 0
}