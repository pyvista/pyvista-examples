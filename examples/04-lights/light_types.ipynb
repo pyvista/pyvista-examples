{
  "cells": [
    {
      "cell_type": "code",
      "execution_count": null,
      "metadata": {
        "collapsed": false
      },
      "outputs": [],
      "source": [
        "%matplotlib inline\nfrom pyvista import set_plot_theme\nset_plot_theme('document')"
      ]
    },
    {
      "cell_type": "markdown",
      "metadata": {},
      "source": [
        "Light Types\n===========\n\nLights come in three types:\n\n> -   headlights, the axis of which always coincides with the view of\n>     the camera,\n> -   camera lights, which move together with the camera, but which can\n>     occupy any fixed relative position with respect to the camera,\n> -   scene lights, the position of which is fixed to the scene, and\n>     which is thus unaffected by moving the camera. This is the default\n>     type.\n\nHeadlight\n---------\n\nFor headlights the :py`position`{.interpreted-text role=\"attr\"} and\n:py`focal_point`{.interpreted-text role=\"attr\"} properties are\nmeaningless. No matter where you move the camera, the light always\nemanates from the view point:\n"
      ]
    },
    {
      "cell_type": "code",
      "execution_count": null,
      "metadata": {
        "collapsed": false
      },
      "outputs": [],
      "source": [
        "# sphinx_gallery_thumbnail_number = 2\nimport pyvista as pv\nfrom pyvista import examples\nmesh = examples.download_bunny()\nmesh.rotate_x(90)\nmesh.rotate_z(180)\n\nplotter = pv.Plotter(lighting='none')\nplotter.add_mesh(mesh, color='tan', smooth_shading=True)\nlight = pv.Light(light_type='headlight')\n# these don't do anything for a headlight:\nlight.position = (1, 2, 3)\nlight.focal_point = (4, 5, 6)\nplotter.add_light(light)\nplotter.show()"
      ]
    },
    {
      "cell_type": "markdown",
      "metadata": {},
      "source": [
        "Camera light\n============\n\nCamera lights define their :py`position`{.interpreted-text role=\"attr\"}\nand :py`focal_point`{.interpreted-text role=\"attr\"} properties in a\ncoordinate system that is local to the camera. The coordinates in the\nscene\\'s coordinate system can be accessed through the\n:py`world_position`{.interpreted-text role=\"attr\"} and\n:py`world_focal_point`{.interpreted-text role=\"attr\"} read-only\nproperties, respectively. For specifics of the local coordinate system\nused for the coordinates please see the documentation of\n`pyvista.Light.set_camera_light`{.interpreted-text role=\"func\"}.\n"
      ]
    },
    {
      "cell_type": "code",
      "execution_count": null,
      "metadata": {
        "collapsed": false
      },
      "outputs": [],
      "source": [
        "plotter = pv.Plotter(lighting='none')\nplotter.add_mesh(mesh, color='tan', smooth_shading=True)\n# a light that always shines from the right of the camera\nlight = pv.Light(position=(1, 0, 0), light_type='camera light')\nplotter.add_light(light)\nplotter.show()"
      ]
    },
    {
      "cell_type": "markdown",
      "metadata": {},
      "source": [
        "Scene light\n===========\n\nScene lights are attached to the scene, their position and focal point\nare interpreted as global coordinates:\n"
      ]
    },
    {
      "cell_type": "code",
      "execution_count": null,
      "metadata": {
        "collapsed": false
      },
      "outputs": [],
      "source": [
        "plotter = pv.Plotter(lighting='none')\nplotter.add_mesh(mesh, color='tan', smooth_shading=True)\n# a light that always shines on the left side of the bunny\nlight = pv.Light(position=(0, 1, 0), light_type='scene light')\nplotter.add_light(light)\nplotter.show()"
      ]
    }
  ],
  "metadata": {
    "kernelspec": {
      "display_name": "Python 3",
      "language": "python",
      "name": "python3"
    },
    "language_info": {
      "codemirror_mode": {
        "name": "ipython",
        "version": 3
      },
      "file_extension": ".py",
      "mimetype": "text/x-python",
      "name": "python",
      "nbconvert_exporter": "python",
      "pygments_lexer": "ipython3",
      "version": "3.8.10"
    }
  },
  "nbformat": 4,
  "nbformat_minor": 0
}