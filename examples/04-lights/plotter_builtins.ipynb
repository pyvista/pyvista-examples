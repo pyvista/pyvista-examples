{
  "cells": [
    {
      "cell_type": "code",
      "execution_count": null,
      "metadata": {
        "collapsed": false
      },
      "outputs": [],
      "source": [
        "%matplotlib inline\nfrom pyvista import set_plot_theme\nset_plot_theme('document')"
      ]
    },
    {
      "cell_type": "markdown",
      "metadata": {},
      "source": [
        "Plotter Lighting Systems\n========================\n\nThe `pyvista.Plotter`{.interpreted-text role=\"class\"} class comes with\nthree options for the default lighting system:\n\n> -   a light kit consisting of a headlight and four camera lights,\n> -   an illumination system containing three lights arranged around the\n>     camera,\n> -   no lighting.\n\nWith meshes that don\\'t have depth information encoded in their color\nthe importance of an appropriate lighting setup becomes paramount for\naccurate visualization.\n\nLight kit\n---------\n\nThe default `lighting='light kit'` option recreates a lighting setup\nthat corresponds to a `vtk.vtkLightKit`. We can check what type of\nlights this lighting comprises:\n"
      ]
    },
    {
      "cell_type": "code",
      "execution_count": null,
      "metadata": {
        "collapsed": false
      },
      "outputs": [],
      "source": [
        "# sphinx_gallery_thumbnail_number = 3\nimport pyvista as pv\nfrom pyvista import examples\n\n# default: light kit\nplotter = pv.Plotter()\nlight_types = [light.light_type for light in plotter.renderer.lights]\n\n# Remove from plotters so output is not produced in docs\npv.plotting._ALL_PLOTTERS.clear()\n\nlight_types"
      ]
    },
    {
      "cell_type": "markdown",
      "metadata": {},
      "source": [
        "Add a white terrain to the scene:\n"
      ]
    },
    {
      "cell_type": "code",
      "execution_count": null,
      "metadata": {
        "collapsed": false
      },
      "outputs": [],
      "source": [
        "mesh = examples.download_st_helens().warp_by_scalar()\nplotter = pv.Plotter()\nplotter.add_mesh(mesh, color='white')\nplotter.show()"
      ]
    },
    {
      "cell_type": "markdown",
      "metadata": {},
      "source": [
        "Three-lights illumination\n=========================\n\nSwitching to three-lights illumination gives a different character to\nthe figure, in this case showing less contrast when viewing the mountain\nfrom the top, but having more contrast with views closer to the side.\nThis becomes especially clear when exploring the figures interactively.\n"
      ]
    },
    {
      "cell_type": "code",
      "execution_count": null,
      "metadata": {
        "collapsed": false
      },
      "outputs": [],
      "source": [
        "plotter = pv.Plotter(lighting='three lights')\nplotter.add_mesh(mesh, color='white')\nplotter.show()"
      ]
    },
    {
      "cell_type": "markdown",
      "metadata": {},
      "source": [
        "Again we can check what kind of lights this setting uses:\n"
      ]
    },
    {
      "cell_type": "code",
      "execution_count": null,
      "metadata": {
        "collapsed": false
      },
      "outputs": [],
      "source": [
        "plotter = pv.Plotter(lighting='three lights')\nlight_types = [light.light_type for light in plotter.renderer.lights]\n\n# Remove from plotters so output is not produced in docs\npv.plotting._ALL_PLOTTERS.clear()\n\nlight_types"
      ]
    },
    {
      "cell_type": "markdown",
      "metadata": {},
      "source": [
        "Custom lighting\n===============\n\nWe can introduce our own lighting from scratch by disabling any lighting\non plotter initialization. Adding a single scene light to a scene will\noften result in ominous visuals due to objects having larger regions in\nshadow.\n"
      ]
    },
    {
      "cell_type": "code",
      "execution_count": null,
      "metadata": {
        "collapsed": false
      },
      "outputs": [],
      "source": [
        "plotter = pv.Plotter(lighting='none', window_size=(1000, 1000))\nplotter.add_mesh(mesh, color='white', smooth_shading=True)\nlight = pv.Light()\nlight.set_direction_angle(30, -20)\nplotter.add_light(light)\nplotter.show()"
      ]
    },
    {
      "cell_type": "markdown",
      "metadata": {},
      "source": [
        "Custom lighting with shadows\n============================\n\nHere, we `enable_shadows` to enhance the effect that the lighting angle\nhas. It has a subtle, but realistic effect. Notice the sharp shadows due\nto the mountaintop.\n"
      ]
    },
    {
      "cell_type": "code",
      "execution_count": null,
      "metadata": {
        "collapsed": false
      },
      "outputs": [],
      "source": [
        "plotter = pv.Plotter(lighting='none', window_size=(1000, 1000))\nplotter.add_mesh(mesh, color='white', smooth_shading=True)\nlight = pv.Light()\nlight.set_direction_angle(20, -20)\nplotter.add_light(light)\nplotter.enable_shadows()\nplotter.show()"
      ]
    }
  ],
  "metadata": {
    "kernelspec": {
      "display_name": "Python 3",
      "language": "python",
      "name": "python3"
    },
    "language_info": {
      "codemirror_mode": {
        "name": "ipython",
        "version": 3
      },
      "file_extension": ".py",
      "mimetype": "text/x-python",
      "name": "python",
      "nbconvert_exporter": "python",
      "pygments_lexer": "ipython3",
      "version": "3.8.10"
    }
  },
  "nbformat": 4,
  "nbformat_minor": 0
}