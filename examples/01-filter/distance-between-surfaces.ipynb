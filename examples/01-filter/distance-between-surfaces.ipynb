{
  "cells": [
    {
      "cell_type": "code",
      "execution_count": null,
      "metadata": {
        "collapsed": false
      },
      "outputs": [],
      "source": [
        "%matplotlib inline\nfrom pyvista import set_plot_theme\nset_plot_theme('document')"
      ]
    },
    {
      "cell_type": "markdown",
      "metadata": {},
      "source": [
        "\nDistance Between Two Surfaces\n~~~~~~~~~~~~~~~~~~~~~~~~~~~~~\n\nCompute the average thickness between two surfaces.\n\nFor example, you might have two surfaces that represent the boundaries of\nlithological layers in a subsurface geological model and you want to know the\naverage thickness of a unit between those boundaries.\n\nWe can compute the thickness between the two surfaces using a few different\nmethods. First, we will demo a method where we compute the normals of the\nbottom surface, and then project a ray to the top surface to compute the\ndistance along the surface normals. Second, we will use a KDTree to compute\nthe distance from eevery point in the bottom mesh to it's closest point in\nthe top mesh.\n"
      ]
    },
    {
      "cell_type": "code",
      "execution_count": null,
      "metadata": {
        "collapsed": false
      },
      "outputs": [],
      "source": [
        "import pyvista as pv\nimport numpy as np\n\n# A helper to make a random surface\ndef hill(seed):\n    mesh = pv.ParametricRandomHills(randomseed=seed,\n                                    hillamplitude=0.5)\n    mesh.rotate_y(80) # give the surfaces some tilt\n    return mesh\n\nh0 = hill(1).elevation()\nh1 = hill(10)\n# Shift one surface\nh1.points[:,-1] += 5\nh1 = h1.elevation()"
      ]
    },
    {
      "cell_type": "code",
      "execution_count": null,
      "metadata": {
        "collapsed": false
      },
      "outputs": [],
      "source": [
        "p = pv.Plotter()\np.add_mesh(h0)\np.add_mesh(h1)\np.show_grid()\np.show()"
      ]
    },
    {
      "cell_type": "markdown",
      "metadata": {},
      "source": [
        "Ray Tracing Distance\n++++++++++++++++++++\n\nCompute normals of lower surface\n\n"
      ]
    },
    {
      "cell_type": "code",
      "execution_count": null,
      "metadata": {
        "collapsed": false
      },
      "outputs": [],
      "source": [
        "h0n = h0.compute_normals(point_normals=True, cell_normals=False,\n                         auto_orient_normals=True, )"
      ]
    },
    {
      "cell_type": "markdown",
      "metadata": {},
      "source": [
        "Travel along noramals to the other surface and compute the thickness on each\nvector.\n\n"
      ]
    },
    {
      "cell_type": "code",
      "execution_count": null,
      "metadata": {
        "collapsed": false
      },
      "outputs": [],
      "source": [
        "h0n[\"distances\"] = np.empty(h0.n_points)\nfor i in range(h0n.n_points):\n    p = h0n.points[i]\n    vec = h0n[\"Normals\"][i] * h0n.length\n    p0 = p - vec\n    p1 = p + vec\n    ip, ic = h1.ray_trace(p0, p1, first_point=True)\n    dist = np.sqrt(np.sum((ip - p)**2))\n    h0n[\"distances\"][i] = dist\n\n# Replace zeros with nans\nmask = h0n[\"distances\"] == 0\nh0n[\"distances\"][mask] = np.nan\nnp.nanmean(h0n[\"distances\"])"
      ]
    },
    {
      "cell_type": "code",
      "execution_count": null,
      "metadata": {
        "collapsed": false
      },
      "outputs": [],
      "source": [
        "p = pv.Plotter()\np.add_mesh(h0n, scalars=\"distances\")\np.add_mesh(h1, color=True, opacity=0.75)\np.show()"
      ]
    },
    {
      "cell_type": "markdown",
      "metadata": {},
      "source": [
        "Nearest Neighbor Distance\n+++++++++++++++++++++++++\n\nYou could also use a KDTree to compare the distance between each point of the\nupper surface and the nearest neighbor of the lower surface.\nThis won't be the exact surface to surface distance, but it will be\nnoticeably faster than a ray trace, especially for large surfaces.\n\n"
      ]
    },
    {
      "cell_type": "code",
      "execution_count": null,
      "metadata": {
        "collapsed": false
      },
      "outputs": [],
      "source": [
        "from scipy.spatial import KDTree\n\ntree = KDTree(h1.points)\nd, idx = tree.query(h0.points )\nh0[\"distances\"] = d\nnp.mean(d)"
      ]
    },
    {
      "cell_type": "code",
      "execution_count": null,
      "metadata": {
        "collapsed": false
      },
      "outputs": [],
      "source": [
        "p = pv.Plotter()\np.add_mesh(h0, scalars=\"distances\")\np.add_mesh(h1, color=True, opacity=0.75)\np.show()"
      ]
    }
  ],
  "metadata": {
    "kernelspec": {
      "display_name": "Python 3",
      "language": "python",
      "name": "python3"
    },
    "language_info": {
      "codemirror_mode": {
        "name": "ipython",
        "version": 3
      },
      "file_extension": ".py",
      "mimetype": "text/x-python",
      "name": "python",
      "nbconvert_exporter": "python",
      "pygments_lexer": "ipython3",
      "version": "3.7.7"
    }
  },
  "nbformat": 4,
  "nbformat_minor": 0
}