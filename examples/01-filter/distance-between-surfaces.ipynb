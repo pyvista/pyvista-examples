{
  "cells": [
    {
      "cell_type": "code",
      "execution_count": null,
      "metadata": {
        "collapsed": false
      },
      "outputs": [],
      "source": [
        "%matplotlib inline\nfrom pyvista import set_plot_theme\nset_plot_theme('document')"
      ]
    },
    {
      "cell_type": "markdown",
      "metadata": {},
      "source": [
        "Distance Between Two Surfaces\n=============================\n\nCompute the average thickness between two surfaces.\n\nFor example, you might have two surfaces that represent the boundaries\nof lithological layers in a subsurface geological model and you want to\nknow the average thickness of a unit between those boundaries.\n\nA clarification on terminology in this example is important. A mesh\npoint exists on the vertex of each cell on the mesh. See\n`what_is_a_mesh`{.interpreted-text role=\"ref\"}. Each cell in this\nexample encompasses a 2D region of space which contains an infinite\nnumber of spatial points; these spatial points are not mesh points. The\ndistance between two surfaces can mean different things depending on\ncontext and usage. Each example here explores different aspects of the\ndistance from the vertex points of the bottom mesh to the top mesh.\n\nFirst, we will demo a method where we compute the normals on the vertex\npoints of the bottom surface, and then project a ray to the top surface\nto compute the distance along the surface normals. This ray will usually\nintersect the top surface at a spatial point inside a cell of the mesh.\n\nSecond, we will use a KDTree to compute the distance from every vertex\npoint in the bottom mesh to its closest vertex point in the top mesh.\n\nLastly, we will use a PyVista filter,\n`pyvista.DataSet.find_closest_cell`{.interpreted-text role=\"func\"} to\ncalculate the distance from every vertex point in the bottom mesh to the\nclosest spatial point inside a cell of the top mesh. This will be the\nshortest distance from the vertex point to the top surface, unlike the\nfirst two examples.\n"
      ]
    },
    {
      "cell_type": "code",
      "execution_count": null,
      "metadata": {
        "collapsed": false
      },
      "outputs": [],
      "source": [
        "import numpy as np\n\nimport pyvista as pv\n\n\ndef hill(seed):\n    \"\"\"A helper to make a random surface.\"\"\"\n    mesh = pv.ParametricRandomHills(randomseed=seed, u_res=50, v_res=50, hillamplitude=0.5)\n    mesh.rotate_y(-10, inplace=True)  # give the surfaces some tilt\n\n    return mesh\n\n\nh0 = hill(1).elevation()\nh1 = hill(10)\n# Shift one surface\nh1.points[:, -1] += 5\nh1 = h1.elevation()"
      ]
    },
    {
      "cell_type": "code",
      "execution_count": null,
      "metadata": {
        "collapsed": false
      },
      "outputs": [],
      "source": [
        "p = pv.Plotter()\np.add_mesh(h0, smooth_shading=True)\np.add_mesh(h1, smooth_shading=True)\np.show_grid()\np.show()"
      ]
    },
    {
      "cell_type": "markdown",
      "metadata": {},
      "source": [
        "Ray Tracing Distance\n====================\n\nCompute normals of lower surface at vertex points\n"
      ]
    },
    {
      "cell_type": "code",
      "execution_count": null,
      "metadata": {
        "collapsed": false
      },
      "outputs": [],
      "source": [
        "h0n = h0.compute_normals(point_normals=True, cell_normals=False, auto_orient_normals=True)"
      ]
    },
    {
      "cell_type": "markdown",
      "metadata": {},
      "source": [
        "Travel along normals to the other surface and compute the thickness on\neach vector.\n"
      ]
    },
    {
      "cell_type": "code",
      "execution_count": null,
      "metadata": {
        "collapsed": false
      },
      "outputs": [],
      "source": [
        "h0n[\"distances\"] = np.empty(h0.n_points)\nfor i in range(h0n.n_points):\n    p = h0n.points[i]\n    vec = h0n[\"Normals\"][i] * h0n.length\n    p0 = p - vec\n    p1 = p + vec\n    ip, ic = h1.ray_trace(p0, p1, first_point=True)\n    dist = np.sqrt(np.sum((ip - p) ** 2))\n    h0n[\"distances\"][i] = dist\n\n# Replace zeros with nans\nmask = h0n[\"distances\"] == 0\nh0n[\"distances\"][mask] = np.nan\nnp.nanmean(h0n[\"distances\"])"
      ]
    },
    {
      "cell_type": "code",
      "execution_count": null,
      "metadata": {
        "collapsed": false
      },
      "outputs": [],
      "source": [
        "p = pv.Plotter()\np.add_mesh(h0n, scalars=\"distances\", smooth_shading=True)\np.add_mesh(h1, color=True, opacity=0.75, smooth_shading=True)\np.show()"
      ]
    },
    {
      "cell_type": "markdown",
      "metadata": {},
      "source": [
        "Nearest Neighbor Distance\n=========================\n\nYou could also use a KDTree to compare the distance between each vertex\npoint of the upper surface and the nearest neighbor vertex point of the\nlower surface. This will be noticeably faster than a ray trace,\nespecially for large surfaces.\n"
      ]
    },
    {
      "cell_type": "code",
      "execution_count": null,
      "metadata": {
        "collapsed": false
      },
      "outputs": [],
      "source": [
        "from scipy.spatial import KDTree\n\ntree = KDTree(h1.points)\nd_kdtree, idx = tree.query(h0.points)\nh0[\"distances\"] = d_kdtree\nnp.mean(d_kdtree)"
      ]
    },
    {
      "cell_type": "code",
      "execution_count": null,
      "metadata": {
        "collapsed": false
      },
      "outputs": [],
      "source": [
        "p = pv.Plotter()\np.add_mesh(h0, scalars=\"distances\", smooth_shading=True)\np.add_mesh(h1, color=True, opacity=0.75, smooth_shading=True)\np.show()"
      ]
    },
    {
      "cell_type": "markdown",
      "metadata": {},
      "source": [
        "Using PyVista Filter\n====================\n\nThe `pyvista.DataSet.find_closest_cell`{.interpreted-text role=\"func\"}\nfilter returns the spatial points inside the cells of the top surface\nthat are closest to the vertex points of the bottom surface.\n`closest_points` is returned when using `return_closest_point=True`.\n"
      ]
    },
    {
      "cell_type": "code",
      "execution_count": null,
      "metadata": {
        "collapsed": false
      },
      "outputs": [],
      "source": [
        "closest_cells, closest_points = h1.find_closest_cell(h0.points, return_closest_point=True)\nd_exact = np.linalg.norm(h0.points - closest_points, axis=1)\nh0[\"distances\"] = d_exact\nnp.mean(d_exact)"
      ]
    },
    {
      "cell_type": "markdown",
      "metadata": {},
      "source": [
        "As expected there is only a small difference between this method and the\nKDTree method.\n"
      ]
    },
    {
      "cell_type": "code",
      "execution_count": null,
      "metadata": {
        "collapsed": false
      },
      "outputs": [],
      "source": [
        "p = pv.Plotter()\np.add_mesh(h0, scalars=\"distances\", smooth_shading=True)\np.add_mesh(h1, color=True, opacity=0.75, smooth_shading=True)\np.show()"
      ]
    }
  ],
  "metadata": {
    "kernelspec": {
      "display_name": "Python 3",
      "language": "python",
      "name": "python3"
    },
    "language_info": {
      "codemirror_mode": {
        "name": "ipython",
        "version": 3
      },
      "file_extension": ".py",
      "mimetype": "text/x-python",
      "name": "python",
      "nbconvert_exporter": "python",
      "pygments_lexer": "ipython3",
      "version": "3.11.5"
    }
  },
  "nbformat": 4,
  "nbformat_minor": 0
}