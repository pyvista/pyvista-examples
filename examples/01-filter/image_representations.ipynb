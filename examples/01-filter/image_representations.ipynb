{
  "cells": [
    {
      "cell_type": "code",
      "execution_count": null,
      "metadata": {
        "collapsed": false
      },
      "outputs": [],
      "source": [
        "%matplotlib inline"
      ]
    },
    {
      "cell_type": "markdown",
      "metadata": {},
      "source": [
        "Image Data Representations {#image_representations_example}\n==========================\n\nThis example demonstrates how to use\n`~pyvista.ImageDataFilters.points_to_cells`{.interpreted-text\nrole=\"meth\"} and\n`~pyvista.ImageDataFilters.cells_to_points`{.interpreted-text\nrole=\"meth\"} to re-mesh `~pyvista.ImageData`{.interpreted-text\nrole=\"class\"}.\n\nThese filters can be used to ensure that image data has an appropriate\nrepresentation when generating plots and/or when using either point- or\ncell-based filters such as\n`ImageDataFilters.image_threshold <pyvista.ImageDataFilters.image_threshold>`{.interpreted-text\nrole=\"meth\"} (point-based) and\n`DataSetFilters.threshold <pyvista.DataSetFilters.threshold>`{.interpreted-text\nrole=\"meth\"} (cell-based).\n"
      ]
    },
    {
      "cell_type": "markdown",
      "metadata": {},
      "source": [
        "Representations of 3D Volumes\n=============================\n\nCreate image data of a 3D volume with eight points and a discrete scalar\ndata array.\n"
      ]
    },
    {
      "cell_type": "code",
      "execution_count": null,
      "metadata": {
        "collapsed": false
      },
      "outputs": [],
      "source": [
        "from __future__ import annotations\n\nimport numpy as np\n\nimport pyvista as pv\n\n\n\ndata_array = [8, 7, 6, 5, 4, 3, 2, 1]\npoints_volume = pv.ImageData(dimensions=(2, 2, 2))\npoints_volume.point_data['Data'] = data_array"
      ]
    },
    {
      "cell_type": "markdown",
      "metadata": {},
      "source": [
        "If we plot the volume, it is represented as a single cell with eight\npoints, and the point data is interpolated to color the cell.\n"
      ]
    },
    {
      "cell_type": "code",
      "execution_count": null,
      "metadata": {
        "collapsed": false
      },
      "outputs": [],
      "source": [
        "points_volume.plot(show_edges=True)"
      ]
    },
    {
      "cell_type": "markdown",
      "metadata": {},
      "source": [
        "However, in many applications (e.g. 3D medical imaging), the scalar data\narrays represent discretized samples at the centers of voxels. As such,\nit may be more appropriate to represent the data as eight voxel cells\ninstead of eight points. We can use\n`~pyvista.ImageDataFilters.points_to_cells`{.interpreted-text\nrole=\"meth\"} to generate a cell-based representation.\n"
      ]
    },
    {
      "cell_type": "code",
      "execution_count": null,
      "metadata": {
        "collapsed": false
      },
      "outputs": [],
      "source": [
        "cells_volume = points_volume.points_to_cells()"
      ]
    },
    {
      "cell_type": "markdown",
      "metadata": {},
      "source": [
        "Now, when we plot the volume, we have a more appropriate representation\nwith eight voxel cells and the scalar data is no longer interpolated.\n"
      ]
    },
    {
      "cell_type": "code",
      "execution_count": null,
      "metadata": {
        "collapsed": false
      },
      "outputs": [],
      "source": [
        "cells_volume.plot(show_edges=True)"
      ]
    },
    {
      "cell_type": "markdown",
      "metadata": {},
      "source": [
        "Let\\'s plot the two representations together for comparison.\n\nFor visualization, we color the points volume (inner mesh) and only show\nthe edges of the cells volume (outer mesh). We also plot the cell\ncenters in red. Note how the centers of the image of the cells\ncorrespond to the points of the points image.\n"
      ]
    },
    {
      "cell_type": "code",
      "execution_count": null,
      "metadata": {
        "collapsed": false
      },
      "outputs": [],
      "source": [
        "cell_centers = cells_volume.cell_centers()\ncell_edges = cells_volume.extract_all_edges()\n\nplot = pv.Plotter()\nplot.add_mesh(points_volume, color=True, show_edges=True, opacity=0.7)\nplot.add_mesh(cell_edges, color='black', line_width=2)\nplot.add_points(\n    cell_centers,\n    render_points_as_spheres=True,\n    color='red',\n    point_size=20,\n)\nplot.camera.azimuth = -25\nplot.camera.elevation = 25\nplot.show()"
      ]
    },
    {
      "cell_type": "markdown",
      "metadata": {},
      "source": [
        "As long as only one kind of scalar data is used (i.e. either point or\ncell data, but not both), it is possible to move between representations\nwithout loss of data.\n"
      ]
    },
    {
      "cell_type": "code",
      "execution_count": null,
      "metadata": {
        "collapsed": false
      },
      "outputs": [],
      "source": [
        "array_before = points_volume.active_scalars\narray_after = points_volume.points_to_cells().cells_to_points().active_scalars\nnp.array_equal(array_before, array_after)"
      ]
    },
    {
      "cell_type": "markdown",
      "metadata": {},
      "source": [
        "Point Filters with Image Data\n=============================\n\nUse a point representation of the image when working with point-based\nfilters such as\n`~pyvista.ImageDataFilters.image_threshold`{.interpreted-text\nrole=\"meth\"}. If the image only has cell data, use\n`~pyvista.ImageDataFilters.cells_to_points`{.interpreted-text\nrole=\"meth\"} re-mesh the input first. Here, we reuse the point-based\nimage defined earlier.\n\nFor context, we first show the input data array.\n"
      ]
    },
    {
      "cell_type": "code",
      "execution_count": null,
      "metadata": {
        "collapsed": false
      },
      "outputs": [],
      "source": [
        "points_volume.point_data['Data']"
      ]
    },
    {
      "cell_type": "markdown",
      "metadata": {},
      "source": [
        "Now apply the filter and print the result.\n"
      ]
    },
    {
      "cell_type": "code",
      "execution_count": null,
      "metadata": {
        "collapsed": false
      },
      "outputs": [],
      "source": [
        "points_ithresh = points_volume.image_threshold(2)\npoints_ithresh.point_data['Data']"
      ]
    },
    {
      "cell_type": "markdown",
      "metadata": {},
      "source": [
        "The filter returns binary point data as expected. Values equal to or\ngreater or than the threshold of `2` are ones and less than the\nthreshold are zeros.\n\nHowever, in plotting it, the point values are linearly interpolated. For\nvisualizing binary data, this interpolation is not desirable.\n"
      ]
    },
    {
      "cell_type": "code",
      "execution_count": null,
      "metadata": {
        "collapsed": false
      },
      "outputs": [],
      "source": [
        "points_ithresh.plot(show_edges=True)"
      ]
    },
    {
      "cell_type": "markdown",
      "metadata": {},
      "source": [
        "To better visualize the result, convert the image of the point returned\nby the filter to a cell representation with\n`~pyvista.ImageDataFilters.points_to_cells`{.interpreted-text\nrole=\"meth\"} before plotting.\n"
      ]
    },
    {
      "cell_type": "code",
      "execution_count": null,
      "metadata": {
        "collapsed": false
      },
      "outputs": [],
      "source": [
        "points_ithresh_as_cells = points_ithresh.points_to_cells()\npoints_ithresh_as_cells.plot(show_edges=True)"
      ]
    },
    {
      "cell_type": "markdown",
      "metadata": {},
      "source": [
        "The binary data is now correctly visualized as binary data.\n"
      ]
    },
    {
      "cell_type": "markdown",
      "metadata": {},
      "source": [
        "Cell Filters with Image Data\n============================\n\nUse a cell representation of the image when working with cell-based\nfilters such as `~pyvista.DataSetFilters.threshold`{.interpreted-text\nrole=\"meth\"}. If the image only has point data, use\n`~pyvista.ImageDataFilters.points_to_cells`{.interpreted-text\nrole=\"meth\"} to re-mesh the input first. Here, we reuse the cell-based\nimage created earlier.\n\nFor context, we first show the input data array.\n"
      ]
    },
    {
      "cell_type": "code",
      "execution_count": null,
      "metadata": {
        "collapsed": false
      },
      "outputs": [],
      "source": [
        "cells_volume.cell_data['Data']"
      ]
    },
    {
      "cell_type": "markdown",
      "metadata": {},
      "source": [
        "Now apply the filter and print the result.\n"
      ]
    },
    {
      "cell_type": "code",
      "execution_count": null,
      "metadata": {
        "collapsed": false
      },
      "outputs": [],
      "source": [
        "cells_thresh = cells_volume.threshold(2)\ncells_thresh.cell_data['Data']"
      ]
    },
    {
      "cell_type": "markdown",
      "metadata": {},
      "source": [
        "When the input is cell data, this filter returns seven discrete values\ngreater than or equal to the threshold value of `2` as expected.\n\nIf we plot the result, the cells also produce the correct visualization.\n"
      ]
    },
    {
      "cell_type": "code",
      "execution_count": null,
      "metadata": {
        "collapsed": false
      },
      "outputs": [],
      "source": [
        "cells_thresh.plot(show_edges=True)"
      ]
    },
    {
      "cell_type": "markdown",
      "metadata": {},
      "source": [
        "However, if we apply the same filter to a point-based representation of\nthe image, the filter does not produce the desired result.\n"
      ]
    },
    {
      "cell_type": "code",
      "execution_count": null,
      "metadata": {
        "collapsed": false
      },
      "outputs": [],
      "source": [
        "points_thresh = points_volume.threshold(2)\npoints_thresh.point_data['Data']"
      ]
    },
    {
      "cell_type": "markdown",
      "metadata": {},
      "source": [
        "In this case, since the image of the point only has a single cell, the\nfilter has no effect on the data array\\'s values. The thresholded values\nare the same as the input values.\n\nPlotting the result confirms this. The plot is identical to the initial\nplot of the point-based image shown at the beginning of this example.\n"
      ]
    },
    {
      "cell_type": "code",
      "execution_count": null,
      "metadata": {
        "collapsed": false
      },
      "outputs": [],
      "source": [
        "points_thresh.plot(show_edges=True)"
      ]
    },
    {
      "cell_type": "markdown",
      "metadata": {},
      "source": [
        "Representations of 2D Images\n============================\n\nThe filters\n`~pyvista.ImageDataFilters.points_to_cells`{.interpreted-text\nrole=\"meth\"} and\n`~pyvista.ImageDataFilters.cells_to_points`{.interpreted-text\nrole=\"meth\"} can similarly be used with 2D images.\n\nFor this example, we create a 4x4 2D grayscale image with 16 points to\nrepresent 16 pixels.\n"
      ]
    },
    {
      "cell_type": "code",
      "execution_count": null,
      "metadata": {
        "collapsed": false
      },
      "outputs": [],
      "source": [
        "data_array = np.linspace(0, 255, 16, dtype=np.uint8)[::-1]\npoints_image = pv.ImageData(dimensions=(4, 4, 1))\npoints_image.point_data['Data'] = data_array"
      ]
    },
    {
      "cell_type": "markdown",
      "metadata": {},
      "source": [
        "Plot the image. As before, the plot does not appear correct since the\npoint data is interpolated, and nine cells are shown rather than the\ndesired 16 (one for each pixel).\n"
      ]
    },
    {
      "cell_type": "code",
      "execution_count": null,
      "metadata": {
        "collapsed": false
      },
      "outputs": [],
      "source": [
        "plot_kwargs = dict(\n    cpos='xy',\n    zoom='tight',\n    show_axes=False,\n    cmap='gray',\n    clim=[0, 255],\n    show_edges=True,\n)\npoints_image.plot(**plot_kwargs)"
      ]
    },
    {
      "cell_type": "markdown",
      "metadata": {},
      "source": [
        "To visualize the image correctly, we first use\n`~pyvista.ImageDataFilters.points_to_cells`{.interpreted-text\nrole=\"meth\"} to get a cell-based representation of the image and plot\nthe result. The plot now correctly shows 16-pixel cells with discrete\nvalues.\n"
      ]
    },
    {
      "cell_type": "code",
      "execution_count": null,
      "metadata": {
        "collapsed": false
      },
      "outputs": [],
      "source": [
        "cells_image = points_image.points_to_cells()\ncells_image.plot(**plot_kwargs)"
      ]
    },
    {
      "cell_type": "markdown",
      "metadata": {},
      "source": [
        "Let\\'s plot the two representations together for comparison.\n\nFor visualization, we color the points image (inner mesh) and show the\ncells image (outer mesh) as a wireframe. We also plot the cell centers\nin red. Note how the centers of the image of the cells correspond to the\npoints of the points image.\n"
      ]
    },
    {
      "cell_type": "code",
      "execution_count": null,
      "metadata": {
        "collapsed": false
      },
      "outputs": [],
      "source": [
        "cell_centers = cells_image.cell_centers()\n\nplot = pv.Plotter()\nplot.add_mesh(points_image, color=True, opacity=0.7)\nplot.add_mesh(cells_image, style='wireframe', color='black', line_width=2)\nplot.add_points(\n    cell_centers,\n    render_points_as_spheres=True,\n    color='red',\n    point_size=20,\n)\nplot.view_xy()\nplot.show()"
      ]
    },
    {
      "cell_type": "markdown",
      "metadata": {},
      "source": [
        "::: {.tags}\nfilter\n:::\n"
      ]
    }
  ],
  "metadata": {
    "kernelspec": {
      "display_name": "Python 3",
      "language": "python",
      "name": "python3"
    },
    "language_info": {
      "codemirror_mode": {
        "name": "ipython",
        "version": 3
      },
      "file_extension": ".py",
      "mimetype": "text/x-python",
      "name": "python",
      "nbconvert_exporter": "python",
      "pygments_lexer": "ipython3",
      "version": "3.13.5"
    }
  },
  "nbformat": 4,
  "nbformat_minor": 0
}