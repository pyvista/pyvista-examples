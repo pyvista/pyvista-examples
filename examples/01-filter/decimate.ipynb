{
  "cells": [
    {
      "cell_type": "code",
      "execution_count": null,
      "metadata": {
        "collapsed": false
      },
      "outputs": [],
      "source": [
        "%matplotlib inline"
      ]
    },
    {
      "cell_type": "markdown",
      "metadata": {},
      "source": [
        "Decimation {#decimate_example}\n==========\n\nDecimate a mesh\n"
      ]
    },
    {
      "cell_type": "code",
      "execution_count": null,
      "metadata": {
        "collapsed": false
      },
      "outputs": [],
      "source": [
        "from __future__ import annotations\n\nimport numpy as np\n\nimport pyvista as pv\nfrom pyvista import examples\n\nmesh = examples.download_face()\n\n# Define a camera position that shows this mesh properly\ncpos = [(0.4, -0.07, -0.31), (0.05, -0.13, -0.06), (-0.1, 1, 0.08)]\ndargs = dict(show_edges=True, color=True)\n\n# Preview the mesh\nmesh.plot(cpos=cpos, **dargs)"
      ]
    },
    {
      "cell_type": "markdown",
      "metadata": {},
      "source": [
        "Now let\\'s define a target reduction and compare the\n`pyvista.PolyDataFilters.decimate`{.interpreted-text role=\"func\"} and\n`pyvista.PolyDataFilters.decimate_pro`{.interpreted-text role=\"func\"}\nfilters.\n"
      ]
    },
    {
      "cell_type": "code",
      "execution_count": null,
      "metadata": {
        "collapsed": false
      },
      "outputs": [],
      "source": [
        "target_reduction = 0.7\nprint(f'Reducing {target_reduction * 100.0} percent out of the original mesh')"
      ]
    },
    {
      "cell_type": "code",
      "execution_count": null,
      "metadata": {
        "collapsed": false
      },
      "outputs": [],
      "source": [
        "decimated = mesh.decimate(target_reduction)\n\ndecimated.plot(cpos=cpos, **dargs)"
      ]
    },
    {
      "cell_type": "code",
      "execution_count": null,
      "metadata": {
        "collapsed": false
      },
      "outputs": [],
      "source": [
        "pro_decimated = mesh.decimate_pro(target_reduction, preserve_topology=True)\n\npro_decimated.plot(cpos=cpos, **dargs)"
      ]
    },
    {
      "cell_type": "markdown",
      "metadata": {},
      "source": [
        "Side by side comparison:\n"
      ]
    },
    {
      "cell_type": "code",
      "execution_count": null,
      "metadata": {
        "collapsed": false
      },
      "outputs": [],
      "source": [
        "pl = pv.Plotter(shape=(1, 3))\npl.add_mesh(mesh, **dargs)\npl.add_text('Input mesh', font_size=24)\npl.camera_position = cpos\npl.reset_camera()\npl.subplot(0, 1)\npl.add_mesh(decimated, **dargs)\npl.add_text('Decimated mesh', font_size=24)\npl.camera_position = cpos\npl.reset_camera()\npl.subplot(0, 2)\npl.add_mesh(pro_decimated, **dargs)\npl.add_text('Pro Decimated mesh', font_size=24)\npl.camera_position = cpos\npl.reset_camera()\npl.link_views()\npl.show()"
      ]
    },
    {
      "cell_type": "markdown",
      "metadata": {},
      "source": [
        "Decimate Polyline Mesh\n======================\n\nGenerate a fairly slow spiral polyline mesh.\n"
      ]
    },
    {
      "cell_type": "code",
      "execution_count": null,
      "metadata": {
        "collapsed": false
      },
      "outputs": [],
      "source": [
        "n_points = 100\nn_rotations = 5\nphi = np.linspace(0, 2 * np.pi * n_rotations, n_points)\nratio = 1.1\nr = ratio ** (phi)\n\npoints = np.zeros((n_points, 3))\npoints[:, 0] = r * np.cos(phi)\npoints[:, 1] = r * np.sin(phi)\n\nspiral = pv.PolyData(points, lines=np.append([n_points], np.arange(n_points)))"
      ]
    },
    {
      "cell_type": "markdown",
      "metadata": {},
      "source": [
        "Construct a reusable plotting function for future use.\n"
      ]
    },
    {
      "cell_type": "code",
      "execution_count": null,
      "metadata": {
        "collapsed": false
      },
      "outputs": [],
      "source": [
        "def compare_decimation(spiral, decimated):\n    pl = pv.Plotter()\n    pl.add_mesh(spiral, line_width=5, color='r', label='Original')\n    pl.add_mesh(decimated, line_width=3, color='k', label='Decimated')\n    pl.view_xy()\n    pl.add_legend(face='line', size=(0.25, 0.25))"
      ]
    },
    {
      "cell_type": "markdown",
      "metadata": {},
      "source": [
        "Decimate using\n`pyvista.PolyDataFilters.decimate_polyline`{.interpreted-text\nrole=\"func\"} filter by target of 50%.\n"
      ]
    },
    {
      "cell_type": "code",
      "execution_count": null,
      "metadata": {
        "collapsed": false
      },
      "outputs": [],
      "source": [
        "decimated = spiral.decimate_polyline(0.5)\nprint(f'Original # of points:  {spiral.n_points}')\nprint(f'Decimated # of points: {decimated.n_points}')"
      ]
    },
    {
      "cell_type": "markdown",
      "metadata": {},
      "source": [
        "The decimation looks OK at this level of reduction.\n"
      ]
    },
    {
      "cell_type": "code",
      "execution_count": null,
      "metadata": {
        "collapsed": false
      },
      "outputs": [],
      "source": [
        "compare_decimation(spiral, decimated)"
      ]
    },
    {
      "cell_type": "markdown",
      "metadata": {},
      "source": [
        "Using a larger level of reduction, 80%, leads to a much coarser level of\nrepresentation.\n"
      ]
    },
    {
      "cell_type": "code",
      "execution_count": null,
      "metadata": {
        "collapsed": false
      },
      "outputs": [],
      "source": [
        "decimated = spiral.decimate_polyline(0.8)\nprint(f'Original # of points:  {spiral.n_points}')\nprint(f'Decimated # of points: {decimated.n_points}')"
      ]
    },
    {
      "cell_type": "markdown",
      "metadata": {},
      "source": [
        "The structure of the inner part of the spiral is completely lost.\n"
      ]
    },
    {
      "cell_type": "code",
      "execution_count": null,
      "metadata": {
        "collapsed": false
      },
      "outputs": [],
      "source": [
        "compare_decimation(spiral, decimated)"
      ]
    },
    {
      "cell_type": "markdown",
      "metadata": {},
      "source": [
        "To avoid errors of quickly changing features, use the `maximum_error`\nparameter. It is in units of fraction of the largest length of the\nbounding box. Note that it limits the level of reduction achieved.\n"
      ]
    },
    {
      "cell_type": "code",
      "execution_count": null,
      "metadata": {
        "collapsed": false
      },
      "outputs": [],
      "source": [
        "decimated = spiral.decimate_polyline(0.8, maximum_error=0.5)\nprint(f'Original # of points:  {spiral.n_points}')\nprint(f'Decimated # of points: {decimated.n_points}')"
      ]
    },
    {
      "cell_type": "markdown",
      "metadata": {},
      "source": [
        "The structure of the inner part of the spiral is captured adequately.\n"
      ]
    },
    {
      "cell_type": "code",
      "execution_count": null,
      "metadata": {
        "collapsed": false
      },
      "outputs": [],
      "source": [
        "compare_decimation(spiral, decimated)"
      ]
    },
    {
      "cell_type": "markdown",
      "metadata": {},
      "source": [
        "::: {.tags}\nfilter\n:::\n"
      ]
    }
  ],
  "metadata": {
    "kernelspec": {
      "display_name": "Python 3",
      "language": "python",
      "name": "python3"
    },
    "language_info": {
      "codemirror_mode": {
        "name": "ipython",
        "version": 3
      },
      "file_extension": ".py",
      "mimetype": "text/x-python",
      "name": "python",
      "nbconvert_exporter": "python",
      "pygments_lexer": "ipython3",
      "version": "3.13.5"
    }
  },
  "nbformat": 4,
  "nbformat_minor": 0
}