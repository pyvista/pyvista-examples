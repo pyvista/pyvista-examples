{
  "cells": [
    {
      "cell_type": "code",
      "execution_count": null,
      "metadata": {
        "collapsed": false
      },
      "outputs": [],
      "source": [
        "%matplotlib inline\nfrom pyvista import set_plot_theme\nset_plot_theme('document')"
      ]
    },
    {
      "cell_type": "markdown",
      "metadata": {},
      "source": [
        "Extrude Rotation\n================\n\nSweep polygonal data creating \\\"skirt\\\" from free edges and lines, and\nlines from vertices.\n\nThis takes polygonal data as input and generates polygonal data on\noutput. The input dataset is swept around the z-axis to create new\npolygonal primitives. These primitives form a \\\"skirt\\\" or swept\nsurface. For example, sweeping a line results in a cylindrical shell,\nand sweeping a circle creates a torus.\n"
      ]
    },
    {
      "cell_type": "code",
      "execution_count": null,
      "metadata": {
        "collapsed": false
      },
      "outputs": [],
      "source": [
        "import pyvista\nimport numpy as np\n\n# create a line and rotate it about the Z-axis\nresolution = 10\nline = pyvista.Line(pointa=(0, 0, 0), pointb=(1, 0, 0), resolution=2)\npoly = line.extrude_rotate(resolution=resolution)\npoly"
      ]
    },
    {
      "cell_type": "markdown",
      "metadata": {},
      "source": [
        "Plot the extruded line\n======================\n"
      ]
    },
    {
      "cell_type": "code",
      "execution_count": null,
      "metadata": {
        "collapsed": false
      },
      "outputs": [],
      "source": [
        "plotter = pyvista.Plotter(shape=(2, 1))\nplotter.subplot(0, 0)\nplotter.add_text(\"Line\", font_size=24)\nplotter.add_mesh(line, color=\"tan\", show_edges=True)\nplotter.add_mesh(\n    pyvista.PolyData(line.points),\n    color=\"red\",\n    point_size=10,\n    render_points_as_spheres=True,\n)\nplotter.subplot(1, 0)\nplotter.add_text(\"Extrude Rotated Line\", font_size=24)\nplotter.add_mesh(poly, color=\"tan\", show_edges=True)\nplotter.add_mesh(\n    pyvista.PolyData(poly.points),\n    color=\"red\",\n    point_size=10,\n    render_points_as_spheres=True,\n)\n\nplotter.show(cpos=\"xy\")"
      ]
    },
    {
      "cell_type": "markdown",
      "metadata": {},
      "source": [
        "Create a spring\n===============\n"
      ]
    },
    {
      "cell_type": "code",
      "execution_count": null,
      "metadata": {
        "collapsed": false
      },
      "outputs": [],
      "source": [
        "# Create the spring profile (a circle).\nplotter = pyvista.Plotter()\n\nvertices = np.array(\n    [\n        [1.0, 0.0, 0.0],\n        [1.0732, 0.0, -0.1768],\n        [1.25, 0.0, -0.25],\n        [1.4268, 0.0, -0.1768],\n        [1.5, 0.0, 0.00],\n        [1.4268, 0.0, 0.1768],\n        [1.25, 0.0, 0.25],\n        [1.0732, 0.0, 0.1768],\n    ]\n)\nfaces = np.hstack([[8, 0, 1, 2, 3, 4, 5, 6, 7]])\nprofile = pyvista.PolyData(vertices, faces)\n\n# Extrude the profile to make a spring.\nspring = profile.extrude_rotate(resolution=360, translation=6.0, dradius=1.0, angle=2160.0)\nplotter.add_text(\"Spring\", font_size=24)\nplotter.add_mesh(spring, color=\"tan\", show_edges=True)\n\nplotter.show(cpos=\"zx\")"
      ]
    }
  ],
  "metadata": {
    "kernelspec": {
      "display_name": "Python 3",
      "language": "python",
      "name": "python3"
    },
    "language_info": {
      "codemirror_mode": {
        "name": "ipython",
        "version": 3
      },
      "file_extension": ".py",
      "mimetype": "text/x-python",
      "name": "python",
      "nbconvert_exporter": "python",
      "pygments_lexer": "ipython3",
      "version": "3.8.10"
    }
  },
  "nbformat": 4,
  "nbformat_minor": 0
}