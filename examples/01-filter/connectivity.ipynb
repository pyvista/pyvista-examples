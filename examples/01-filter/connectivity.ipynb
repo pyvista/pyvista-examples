{
  "cells": [
    {
      "cell_type": "code",
      "execution_count": null,
      "metadata": {
        "collapsed": false
      },
      "outputs": [],
      "source": [
        "%matplotlib inline\nfrom pyvista import set_plot_theme\nset_plot_theme('document')"
      ]
    },
    {
      "cell_type": "markdown",
      "metadata": {},
      "source": [
        "Connectivity\n============\n\nUse the connectivity filter to remove noisy isosurfaces.\n\nThis example is very similar to [this VTK\nexample](https://lorensen.github.io/VTKExamples/site/Python/VisualizationAlgorithms/PineRootConnectivity/)\n"
      ]
    },
    {
      "cell_type": "code",
      "execution_count": null,
      "metadata": {
        "collapsed": false
      },
      "outputs": [],
      "source": [
        "# sphinx_gallery_thumbnail_number = 2\nimport pyvista as pv\nfrom pyvista import examples"
      ]
    },
    {
      "cell_type": "markdown",
      "metadata": {},
      "source": [
        "Load a dataset that has noisy isosurfaces\n"
      ]
    },
    {
      "cell_type": "code",
      "execution_count": null,
      "metadata": {
        "collapsed": false
      },
      "outputs": [],
      "source": [
        "mesh = examples.download_pine_roots()\n\ncpos = [(40.6018, -280.533, 47.0172),\n        (40.6018, 37.2813, 50.1953),\n        (0.0, 0.0, 1.0)]\n\n# Plot the raw data\np = pv.Plotter()\np.add_mesh(mesh, color='#965434')\np.add_mesh(mesh.outline())\np.show(cpos=cpos)"
      ]
    },
    {
      "cell_type": "markdown",
      "metadata": {},
      "source": [
        "The mesh plotted above is very noisy. We can extract the largest\nconnected isosurface in that mesh using the\n`pyvista.DataSetFilters.connectivity`{.interpreted-text role=\"func\"}\nfilter and passing `largest=True` to the `connectivity` filter or by\nusing the `pyvista.DataSetFilters.extract_largest`{.interpreted-text\nrole=\"func\"} filter (both are equivalent).\n"
      ]
    },
    {
      "cell_type": "code",
      "execution_count": null,
      "metadata": {
        "collapsed": false
      },
      "outputs": [],
      "source": [
        "# Grab the largest connected volume present\nlargest = mesh.connectivity(largest=True)\n# or: largest = mesh.extract_largest()\n\np = pv.Plotter()\np.add_mesh(largest, color='#965434')\np.add_mesh(mesh.outline())\np.camera_position = cpos\np.show()"
      ]
    }
  ],
  "metadata": {
    "kernelspec": {
      "display_name": "Python 3",
      "language": "python",
      "name": "python3"
    },
    "language_info": {
      "codemirror_mode": {
        "name": "ipython",
        "version": 3
      },
      "file_extension": ".py",
      "mimetype": "text/x-python",
      "name": "python",
      "nbconvert_exporter": "python",
      "pygments_lexer": "ipython3",
      "version": "3.8.10"
    }
  },
  "nbformat": 4,
  "nbformat_minor": 0
}