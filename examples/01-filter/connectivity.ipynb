{
  "cells": [
    {
      "cell_type": "code",
      "execution_count": null,
      "metadata": {
        "collapsed": false
      },
      "outputs": [],
      "source": [
        "%matplotlib inline"
      ]
    },
    {
      "cell_type": "markdown",
      "metadata": {},
      "source": [
        "Connectivity {#connectivity_example}\n============\n\nThis example highlights some applications of the\n`~pyvista.DataSetFilters.connectivity`{.interpreted-text role=\"func\"}\nfilter.\n"
      ]
    },
    {
      "cell_type": "markdown",
      "metadata": {},
      "source": [
        "Remove Noisy Isosurfaces\n========================\n\nUse connectivity to remove noisy isosurfaces.\n\nThis section is similar to [this VTK\nexample](https://kitware.github.io/vtk-examples/site/Python/VisualizationAlgorithms/PineRootConnectivity/).\n"
      ]
    },
    {
      "cell_type": "code",
      "execution_count": null,
      "metadata": {
        "collapsed": false
      },
      "outputs": [],
      "source": [
        "import numpy as np\n\nimport pyvista as pv\nfrom pyvista import examples"
      ]
    },
    {
      "cell_type": "markdown",
      "metadata": {},
      "source": [
        "Load a dataset with noisy isosurfaces.\n"
      ]
    },
    {
      "cell_type": "code",
      "execution_count": null,
      "metadata": {
        "collapsed": false
      },
      "outputs": [],
      "source": [
        "pine_roots = examples.download_pine_roots()\n\n# Plot the raw data\ncpos = [(40.6018, -280.533, 47.0172), (40.6018, 37.2813, 50.1953), (0.0, 0.0, 1.0)]\np = pv.Plotter()\np.add_mesh(pine_roots, color='#965434')\np.add_mesh(pine_roots.outline())\np.show(cpos=cpos)"
      ]
    },
    {
      "cell_type": "markdown",
      "metadata": {},
      "source": [
        "The plotted mesh is very noisy. We can extract the largest connected\nisosurface using the `'largest'` `extraction_mode` of the\n`~pyvista.DataSetFilters.connectivity`{.interpreted-text role=\"func\"}\nfilter. Equivalently,\n`~pyvista.DataSetFilters.extract_largest`{.interpreted-text role=\"func\"}\nmay also be used.\n"
      ]
    },
    {
      "cell_type": "code",
      "execution_count": null,
      "metadata": {
        "collapsed": false
      },
      "outputs": [],
      "source": [
        "# Grab the largest connected volume present\nlargest = pine_roots.connectivity('largest')\n# or: largest = mesh.extract_largest()\n\np = pv.Plotter()\np.add_mesh(largest, color='#965434')\np.add_mesh(pine_roots.outline())\np.camera_position = cpos\np.show()"
      ]
    },
    {
      "cell_type": "markdown",
      "metadata": {},
      "source": [
        "Extract Small Regions\n=====================\n\nUse connectivity to extract the smaller \\'noisy\\' regions that were\nremoved in the remove noisy isosurfaces example above.\n\nFirst, get a list of all region ids.\n"
      ]
    },
    {
      "cell_type": "code",
      "execution_count": null,
      "metadata": {
        "collapsed": false
      },
      "outputs": [],
      "source": [
        "all_regions = pine_roots.connectivity('all')\nregion_ids = np.unique(all_regions['RegionId'])"
      ]
    },
    {
      "cell_type": "markdown",
      "metadata": {},
      "source": [
        "Since the region IDs are sorted in descending order (by cell count), we\ncan extract all regions *except* for the largest one using the\n`'specified'` `extraction_mode` of the\n`~pyvista.DataSetFilters.connectivity`{.interpreted-text role=\"func\"}\nfilter.\n"
      ]
    },
    {
      "cell_type": "code",
      "execution_count": null,
      "metadata": {
        "collapsed": false
      },
      "outputs": [],
      "source": [
        "noise_region_ids = region_ids[1::]  # All region ids except '0'\nnoise = pine_roots.connectivity('specified', noise_region_ids)"
      ]
    },
    {
      "cell_type": "markdown",
      "metadata": {},
      "source": [
        "Plot the noisy regions. For context, also plot the largest region.\n"
      ]
    },
    {
      "cell_type": "code",
      "execution_count": null,
      "metadata": {
        "collapsed": false
      },
      "outputs": [],
      "source": [
        "p = pv.Plotter()\np.add_mesh(noise, cmap='glasbey', categories=True)\np.add_mesh(largest, color='lightgray', opacity=0.1)\np.add_mesh(pine_roots.outline())\np.camera_position = cpos\np.show()"
      ]
    },
    {
      "cell_type": "markdown",
      "metadata": {},
      "source": [
        "Label Disconnected Regions\n==========================\n\nUse connectivity to label all disconnected regions.\n\nThis section is similar to [this VTK\nexample](https://examples.vtk.org/site/Cxx/PolyData/ColorDisconnectedRegionsDemo/).\n\nFirst, load a dataset with disconnected regions.\n"
      ]
    },
    {
      "cell_type": "code",
      "execution_count": null,
      "metadata": {
        "collapsed": false
      },
      "outputs": [],
      "source": [
        "mesh = examples.download_foot_bones()"
      ]
    },
    {
      "cell_type": "markdown",
      "metadata": {},
      "source": [
        "Extract all regions.\n"
      ]
    },
    {
      "cell_type": "code",
      "execution_count": null,
      "metadata": {
        "collapsed": false
      },
      "outputs": [],
      "source": [
        "conn = mesh.connectivity('all')"
      ]
    },
    {
      "cell_type": "markdown",
      "metadata": {},
      "source": [
        "Plot the labeled regions.\n"
      ]
    },
    {
      "cell_type": "code",
      "execution_count": null,
      "metadata": {
        "collapsed": false
      },
      "outputs": [],
      "source": [
        "# Format scalar bar text for integer values.\nscalar_bar_args = dict(\n    fmt='%.f',\n)\n\ncpos = [(10.5, 12.2, 18.3), (0.0, 0.0, 0.0), (0.0, 1.0, 0.0)]\n\nconn.plot(\n    categories=True,\n    cmap='glasbey',\n    scalar_bar_args=scalar_bar_args,\n    cpos=cpos,\n)"
      ]
    },
    {
      "cell_type": "markdown",
      "metadata": {},
      "source": [
        "Extract Regions From Seed Points\n================================\n\nUse connectivity to extract regions of interest using scalar data and\nseed points.\n\nFirst, create a dataset with salient features. Here, we create hills and\nuse curvature to define its peaks and valleys.\n"
      ]
    },
    {
      "cell_type": "code",
      "execution_count": null,
      "metadata": {
        "collapsed": false
      },
      "outputs": [],
      "source": [
        "mesh = pv.ParametricRandomHills()\nmesh[\"Curvature\"] = mesh.curvature()"
      ]
    },
    {
      "cell_type": "markdown",
      "metadata": {},
      "source": [
        "Visualize the peaks and valleys. Peaks have large positive curvature\n(i.e. are convex). Valleys have large negative curvature (i.e. are\nconcave). Flat regions have curvature close to zero.\n"
      ]
    },
    {
      "cell_type": "code",
      "execution_count": null,
      "metadata": {
        "collapsed": false
      },
      "outputs": [],
      "source": [
        "mesh.plot(\n    clim=[-0.5, 0.5],\n    cmap='bwr',\n    below_color='blue',\n    above_color='red',\n)"
      ]
    },
    {
      "cell_type": "markdown",
      "metadata": {},
      "source": [
        "Extract a region of interest using the `'point_seed'` `extraction_mode`\nof the `~pyvista.DataSetFilters.connectivity`{.interpreted-text\nrole=\"func\"} filter. Let\\'s extract the steepest peak using a seed point\nwhere the curvature is maximized.\n"
      ]
    },
    {
      "cell_type": "code",
      "execution_count": null,
      "metadata": {
        "collapsed": false
      },
      "outputs": [],
      "source": [
        "# Get seed point\npeak_point_id = np.argmax(mesh['Curvature'])\n\n# Define a scalar range of the region to extract\ndata_min, data_max = mesh.get_data_range()\npeak_range = [0.2, data_max]  # Peak if curvature > 0.2\n\npeak_mesh = mesh.connectivity('point_seed', peak_point_id, scalar_range=peak_range)"
      ]
    },
    {
      "cell_type": "markdown",
      "metadata": {},
      "source": [
        "Let\\'s also extract the closest valley to the steepest peak using the\n`'closest'` `extraction_mode` of the\n`~pyvista.DataSetFilters.connectivity`{.interpreted-text role=\"func\"}\nfilter.\n"
      ]
    },
    {
      "cell_type": "code",
      "execution_count": null,
      "metadata": {
        "collapsed": false
      },
      "outputs": [],
      "source": [
        "valley_range = [data_min, -0.2]  # Valley if curvature < -0.2\npeak_point = mesh.points[peak_point_id]\nvalley_mesh = mesh.connectivity('closest', peak_point, scalar_range=valley_range)"
      ]
    },
    {
      "cell_type": "markdown",
      "metadata": {},
      "source": [
        "Plot extracted regions.\n"
      ]
    },
    {
      "cell_type": "code",
      "execution_count": null,
      "metadata": {
        "collapsed": false
      },
      "outputs": [],
      "source": [
        "p = pv.Plotter()\n_ = p.add_mesh(mesh, style='wireframe', color='lightgray')\n_ = p.add_mesh(peak_mesh, color='red', label='Steepest Peak')\n_ = p.add_mesh(valley_mesh, color='blue', label='Closest Valley')\n_ = p.add_legend()\np.show()"
      ]
    }
  ],
  "metadata": {
    "kernelspec": {
      "display_name": "Python 3",
      "language": "python",
      "name": "python3"
    },
    "language_info": {
      "codemirror_mode": {
        "name": "ipython",
        "version": 3
      },
      "file_extension": ".py",
      "mimetype": "text/x-python",
      "name": "python",
      "nbconvert_exporter": "python",
      "pygments_lexer": "ipython3",
      "version": "3.12.0"
    }
  },
  "nbformat": 4,
  "nbformat_minor": 0
}