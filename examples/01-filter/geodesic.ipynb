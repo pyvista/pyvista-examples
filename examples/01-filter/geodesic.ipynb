{
  "cells": [
    {
      "cell_type": "code",
      "execution_count": null,
      "metadata": {
        "collapsed": false
      },
      "outputs": [],
      "source": [
        "%matplotlib inline\nfrom pyvista import set_plot_theme\nset_plot_theme('document')"
      ]
    },
    {
      "cell_type": "markdown",
      "metadata": {},
      "source": [
        "Geodesic Paths {#geodesic_example}\n==============\n\nCalculates the geodesic path between two vertices using Dijkstra\\'s\nalgorithm\n"
      ]
    },
    {
      "cell_type": "code",
      "execution_count": null,
      "metadata": {
        "collapsed": false
      },
      "outputs": [],
      "source": [
        "import pyvista as pv\nfrom pyvista import examples\n\n# Load a global topography surface and decimate it\nland = examples.download_topo_land().triangulate().decimate(0.98)"
      ]
    },
    {
      "cell_type": "markdown",
      "metadata": {},
      "source": [
        "Get the geodesic path as a new `pyvista.PolyData`{.interpreted-text\nrole=\"class\"} object:\n"
      ]
    },
    {
      "cell_type": "code",
      "execution_count": null,
      "metadata": {
        "collapsed": false
      },
      "outputs": [],
      "source": [
        "cape_town = land.find_closest_point((0.790801, 0.264598, -0.551942))\ndubai = land.find_closest_point((0.512642, 0.745898, 0.425255))\nbangkok = land.find_closest_point((-0.177077, 0.955419, 0.236273))\nrome = land.find_closest_point((0.718047, 0.163038, 0.676684))\n\na = land.geodesic(cape_town, dubai)\nb = land.geodesic(cape_town, bangkok)\nc = land.geodesic(cape_town, rome)"
      ]
    },
    {
      "cell_type": "markdown",
      "metadata": {},
      "source": [
        "Render the path along the land surface\n"
      ]
    },
    {
      "cell_type": "code",
      "execution_count": null,
      "metadata": {
        "collapsed": false
      },
      "outputs": [],
      "source": [
        "p = pv.Plotter()\np.add_mesh(a + b + c, line_width=10, color=\"red\", label=\"Geodesic Path\")\np.add_mesh(land, show_edges=True)\np.add_legend()\np.camera_position = [\n    (3.5839785524183934, 2.3915238111304924, 1.3993738227478327),\n    (-0.06842917033182638, 0.15467201157962263, -0.07331693636555875),\n    (-0.34851770951584765, -0.04724188391065845, 0.9361108965066047),\n]\n\np.show()"
      ]
    },
    {
      "cell_type": "markdown",
      "metadata": {},
      "source": [
        "How long is that path?\n"
      ]
    },
    {
      "cell_type": "code",
      "execution_count": null,
      "metadata": {
        "collapsed": false
      },
      "outputs": [],
      "source": [
        "distance = land.geodesic_distance(cape_town, rome)\ndistance"
      ]
    }
  ],
  "metadata": {
    "kernelspec": {
      "display_name": "Python 3",
      "language": "python",
      "name": "python3"
    },
    "language_info": {
      "codemirror_mode": {
        "name": "ipython",
        "version": 3
      },
      "file_extension": ".py",
      "mimetype": "text/x-python",
      "name": "python",
      "nbconvert_exporter": "python",
      "pygments_lexer": "ipython3",
      "version": "3.11.4"
    }
  },
  "nbformat": 4,
  "nbformat_minor": 0
}