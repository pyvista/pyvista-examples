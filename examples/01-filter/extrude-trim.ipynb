{
  "cells": [
    {
      "cell_type": "code",
      "execution_count": null,
      "metadata": {
        "collapsed": false
      },
      "outputs": [],
      "source": [
        "%matplotlib inline\nfrom pyvista import set_plot_theme\nset_plot_theme('document')"
      ]
    },
    {
      "cell_type": "markdown",
      "metadata": {},
      "source": [
        "Extrude Trim {#extrude_trim_example}\n============\n\nExtrude a `pyvista.PolyData`{.interpreted-text role=\"class\"} with a\n`pyvista.Plane`{.interpreted-text role=\"func\"} using\n`extrude_trim() <pyvista.PolyDataFilters.extrude_trim>`{.interpreted-text\nrole=\"func\"}.\n"
      ]
    },
    {
      "cell_type": "code",
      "execution_count": null,
      "metadata": {
        "collapsed": false
      },
      "outputs": [],
      "source": [
        "import pyvista as pv"
      ]
    },
    {
      "cell_type": "markdown",
      "metadata": {},
      "source": [
        "Generate an Extruded Surface\n============================\n"
      ]
    },
    {
      "cell_type": "code",
      "execution_count": null,
      "metadata": {
        "collapsed": false
      },
      "outputs": [],
      "source": [
        "# Create surface and plane\nmesh = pv.ParametricRandomHills(randomseed=2)\nplane = pv.Plane(\n    center=(mesh.center[0], mesh.center[1], -5),\n    direction=(0, 0, -1),\n    i_size=30,\n    j_size=30,\n)\n\n# Perform the extrude trim\nextruded_hills = mesh.extrude_trim((0, 0, -1.0), plane)\nextruded_hills"
      ]
    },
    {
      "cell_type": "markdown",
      "metadata": {},
      "source": [
        "Plot the Extruded Surface\n=========================\n\nPlot the resulting `pyvista.PolyData`{.interpreted-text role=\"class\"}.\n"
      ]
    },
    {
      "cell_type": "code",
      "execution_count": null,
      "metadata": {
        "collapsed": false
      },
      "outputs": [],
      "source": [
        "pl = pv.Plotter(shape=(1, 2))\npl.add_mesh(mesh)\npl.add_text('Original Mesh')\n\npl.subplot(0, 1)\npl.add_mesh(plane, style='wireframe', color='black')\npl.add_mesh(extruded_hills)\npl.add_text('Extruded Mesh')\n\npl.link_views()\npl.camera_position = 'iso'\npl.camera.zoom(1.5)\npl.show()"
      ]
    },
    {
      "cell_type": "markdown",
      "metadata": {},
      "source": [
        "Extruding All Edges\n===================\n\nThe previous example used the default `extrusion='boundary_edges'`,\nwhich only generates faces on the boundary. When using\n`extrusion='all_edges'`, interior edges are also created.\n"
      ]
    },
    {
      "cell_type": "code",
      "execution_count": null,
      "metadata": {
        "collapsed": false
      },
      "outputs": [],
      "source": [
        "# Create a triangle.\ndisc = pv.Disc(c_res=3, r_res=4, inner=0)\nplane = pv.Plane(\n    center=(disc.center[0], disc.center[1], -1),\n    direction=(0, 0, -1),\n    i_size=1,\n    j_size=1,\n)\n\n# extrude with and without the all_edges option\nextruded_disc = disc.extrude_trim((0, 0, -1.0), plane)\nextruded_disc_all = disc.extrude_trim((0, 0, -1.0), plane, extrusion='all_edges')\nprint(f'Extrusion has {extruded_disc.n_faces} faces with default boundary_edges')\nprint(f'Extrusion has {extruded_disc_all.n_faces} faces with all_edges')"
      ]
    },
    {
      "cell_type": "markdown",
      "metadata": {},
      "source": [
        "Plot\n====\n\nShow the additional interior faces by plotting with `style='wireframe'`.\n"
      ]
    },
    {
      "cell_type": "code",
      "execution_count": null,
      "metadata": {
        "collapsed": false
      },
      "outputs": [],
      "source": [
        "pl = pv.Plotter(shape=(1, 2))\npl.add_mesh(extruded_disc, style='wireframe', line_width=5)\npl.add_text('Extrude with boundary_edges')\n\npl.subplot(0, 1)\npl.add_mesh(extruded_disc_all, style='wireframe', line_width=5)\npl.add_text('Extrude with all_edges')\n\npl.link_views()\npl.camera_position = 'iso'\npl.camera.zoom(1.3)\npl.show()"
      ]
    },
    {
      "cell_type": "markdown",
      "metadata": {},
      "source": [
        "Extrude a Line\n==============\n\nYou can also extrude lines. Observe that the output from extruded lines\nis still a `pyvista.PolyData`{.interpreted-text role=\"class\"}.\n"
      ]
    },
    {
      "cell_type": "code",
      "execution_count": null,
      "metadata": {
        "collapsed": false
      },
      "outputs": [],
      "source": [
        "plane = pv.Plane(center=(0, 0, 1), i_size=2, j_size=0.2, direction=[1, 1, 1], j_resolution=1)\nline = pv.Line()\nextruded_line = line.extrude_trim((0, 0, 1), plane)\nextruded_line"
      ]
    },
    {
      "cell_type": "markdown",
      "metadata": {},
      "source": [
        "Plot the Extruded Line\n======================\n\nNote how the scalars are copied to the extruded line.\n"
      ]
    },
    {
      "cell_type": "code",
      "execution_count": null,
      "metadata": {
        "collapsed": false
      },
      "outputs": [],
      "source": [
        "pl = pv.Plotter()\npl.add_mesh(line, style='wireframe', line_width=20, show_scalar_bar=False, color='r')\npl.add_mesh(plane, style='wireframe', color='black', show_scalar_bar=False)\npl.add_mesh(extruded_line, show_scalar_bar=False, lighting=False)\npl.show()"
      ]
    }
  ],
  "metadata": {
    "kernelspec": {
      "display_name": "Python 3",
      "language": "python",
      "name": "python3"
    },
    "language_info": {
      "codemirror_mode": {
        "name": "ipython",
        "version": 3
      },
      "file_extension": ".py",
      "mimetype": "text/x-python",
      "name": "python",
      "nbconvert_exporter": "python",
      "pygments_lexer": "ipython3",
      "version": "3.11.4"
    }
  },
  "nbformat": 4,
  "nbformat_minor": 0
}