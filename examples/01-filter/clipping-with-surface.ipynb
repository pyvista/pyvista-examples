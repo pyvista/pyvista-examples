{
  "cells": [
    {
      "cell_type": "code",
      "execution_count": null,
      "metadata": {
        "collapsed": false
      },
      "outputs": [],
      "source": [
        "%matplotlib inline\nfrom pyvista import set_plot_theme\nset_plot_theme('document')"
      ]
    },
    {
      "cell_type": "markdown",
      "metadata": {},
      "source": [
        "\nClipping with a Surface\n~~~~~~~~~~~~~~~~~~~~~~~\n\nClip any PyVista dataset by a :class:`pyvista.PolyData` surface mesh using\nthe :func:`pyvista.DataSet.Filters.clip_surface` filter.\n\nNote that we first demonstrate how the clipping is performed by computing an\nimplicit distance and thresholding the mesh. This thresholding is one approach\nto clip by a surface, and preserve the original geometry of the given mesh,\nbut many folks leverage the ``clip_surface`` filter to triangulate/tessellate\nthe mesh geometries along the clip.\n"
      ]
    },
    {
      "cell_type": "code",
      "execution_count": null,
      "metadata": {
        "collapsed": false
      },
      "outputs": [],
      "source": [
        "# sphinx_gallery_thumbnail_number = 4\nimport pyvista as pv\nfrom pyvista import examples\nimport numpy as np"
      ]
    },
    {
      "cell_type": "code",
      "execution_count": null,
      "metadata": {
        "collapsed": false
      },
      "outputs": [],
      "source": [
        "surface = pv.Cone(direction=(0,0,-1), height=3.0, radius=1,\n                  resolution=50, capping=False)\n\n# Make a gridded dataset\nn = 51\nxx = yy = zz = 1 - np.linspace(0, n, n) * 2 / (n-1)\ndataset = pv.RectilinearGrid(xx, yy, zz)\n\n# Preview the problem\np = pv.Plotter()\np.add_mesh(surface, color='w', label='Surface')\np.add_mesh(dataset, color='gold', show_edges=True,\n           opacity=0.75, label='To Clip')\np.add_legend()\np.show()"
      ]
    },
    {
      "cell_type": "markdown",
      "metadata": {},
      "source": [
        "Take a look at the implicit function used to perform the surface clipping by\nusing the :func:`pyvista.DataSetFilters.compute_implicit_distance` filter.\nThe clipping operation field is performed where the ``implicit_distance``\nfield is zero and the ``invert`` flag controls which sides of zero to\npreserve.\n\n"
      ]
    },
    {
      "cell_type": "code",
      "execution_count": null,
      "metadata": {
        "collapsed": false
      },
      "outputs": [],
      "source": [
        "dataset.compute_implicit_distance(surface, inplace=True)\n\ninner = dataset.threshold(0.0, scalars=\"implicit_distance\", invert=True)\nouter = dataset.threshold(0.0, scalars=\"implicit_distance\", invert=False)\n\np = pv.Plotter()\np.add_mesh(surface, color='w', label='Surface', opacity=0.75)\np.add_mesh(inner, scalars=\"implicit_distance\", show_edges=True,\n           opacity=0.75, label='Inner region', clim=[-1,1], cmap=\"bwr\")\np.add_legend()\np.show()"
      ]
    },
    {
      "cell_type": "code",
      "execution_count": null,
      "metadata": {
        "collapsed": false
      },
      "outputs": [],
      "source": [
        "p = pv.Plotter()\np.add_mesh(surface, color='w', label='Surface', opacity=0.75)\np.add_mesh(outer, scalars=\"implicit_distance\", show_edges=True,\n           opacity=0.75, label='Outer region', clim=[-1,1], cmap=\"bwr\")\np.add_legend()\np.show()"
      ]
    },
    {
      "cell_type": "markdown",
      "metadata": {},
      "source": [
        "Clip the rectilinear grid dataset using the :class:`pyvista.PolyData`\nsurface mesh via the :func:`pyvista.DataSet.Filters.clip_surface` filter.\nThis will triangulate/tessellate the mesh geometries along the clip.\n\n"
      ]
    },
    {
      "cell_type": "code",
      "execution_count": null,
      "metadata": {
        "collapsed": false
      },
      "outputs": [],
      "source": [
        "clipped = dataset.clip_surface(surface, invert=False)\n\n# Visualize the results\np = pv.Plotter()\np.add_mesh(surface, color='w', opacity=0.75, label='Surface')\np.add_mesh(clipped, color='gold', show_edges=True, label=\"clipped\", opacity=0.75)\np.add_legend()\np.show()"
      ]
    },
    {
      "cell_type": "markdown",
      "metadata": {},
      "source": [
        "Here is another example of clipping a mesh by a surface. This time, we'll\ngenerate a :class:`pyvista.UniformGrid` around a topography surface and then\nclip that grid using the surface to create a closed 3D model of the surface\n\n"
      ]
    },
    {
      "cell_type": "code",
      "execution_count": null,
      "metadata": {
        "collapsed": false
      },
      "outputs": [],
      "source": [
        "surface = examples.load_random_hills()\n\n# Create a grid around that surface\ngrid = pv.create_grid(surface)\n\n# Clip the grid using the surface\nmodel = grid.clip_surface(surface)\n\n# Compute height and display it\nmodel.elevation().plot()"
      ]
    }
  ],
  "metadata": {
    "kernelspec": {
      "display_name": "Python 3",
      "language": "python",
      "name": "python3"
    },
    "language_info": {
      "codemirror_mode": {
        "name": "ipython",
        "version": 3
      },
      "file_extension": ".py",
      "mimetype": "text/x-python",
      "name": "python",
      "nbconvert_exporter": "python",
      "pygments_lexer": "ipython3",
      "version": "3.7.7"
    }
  },
  "nbformat": 4,
  "nbformat_minor": 0
}