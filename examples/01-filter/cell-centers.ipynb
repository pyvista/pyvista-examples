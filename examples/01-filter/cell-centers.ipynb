{
  "cells": [
    {
      "cell_type": "code",
      "execution_count": null,
      "metadata": {
        "collapsed": false
      },
      "outputs": [],
      "source": [
        "%matplotlib inline\nfrom pyvista import set_plot_theme\nset_plot_theme('document')"
      ]
    },
    {
      "cell_type": "markdown",
      "metadata": {},
      "source": [
        "Extract Cell Centers {#cell_centers_example}\n====================\n\nExtract the coordinates of the centers of all cells or faces in a mesh.\n\nHere we use\n`cell_centers <pyvista.DataSetFilters.cell_centers>`{.interpreted-text\nrole=\"func\"}.\n"
      ]
    },
    {
      "cell_type": "code",
      "execution_count": null,
      "metadata": {
        "collapsed": false
      },
      "outputs": [],
      "source": [
        "import pyvista as pv\n\nfrom pyvista import examples"
      ]
    },
    {
      "cell_type": "markdown",
      "metadata": {},
      "source": [
        "First let\\'s fetch the centers of a mesh with 2D geometries (a surface)\n"
      ]
    },
    {
      "cell_type": "code",
      "execution_count": null,
      "metadata": {
        "collapsed": false
      },
      "outputs": [],
      "source": [
        "mesh = examples.download_teapot()\n\ncpos = [\n    (6.192871661244108, 5.687542355343226, -4.95345468836544),\n    (0.48853358141600634, 1.2019347531215714, 0.1656178278582367),\n    (-0.40642070472687936, 0.8621356761976646, 0.30256286387543047),\n]\n\ncenters = mesh.cell_centers()\n\npl = pv.Plotter()\npl.add_mesh(mesh, show_edges=True, line_width=1)\npl.add_mesh(centers, color=\"r\", point_size=8.0, render_points_as_spheres=True)\npl.show(cpos=cpos)"
      ]
    },
    {
      "cell_type": "markdown",
      "metadata": {},
      "source": [
        "We can also do this for full 3D meshes.\n"
      ]
    },
    {
      "cell_type": "code",
      "execution_count": null,
      "metadata": {
        "collapsed": false
      },
      "outputs": [],
      "source": [
        "grid = examples.download_letter_a()\n\ncpos = [\n    (2.704583323659036, 0.7822568412034183, 1.7251126717482546),\n    (3.543391913452799, 0.31117673768140197, 0.16407006760146028),\n    (0.1481171795711516, 0.96599698246102, -0.2119224645762945),\n]\n\n\ncenters = grid.cell_centers()\n\npl = pv.Plotter()\npl.add_mesh(grid, show_edges=True, opacity=0.5, line_width=1)\npl.add_mesh(centers, color=\"r\", point_size=8.0, render_points_as_spheres=True)\npl.show(cpos=cpos)"
      ]
    },
    {
      "cell_type": "code",
      "execution_count": null,
      "metadata": {
        "collapsed": false
      },
      "outputs": [],
      "source": [
        "pl = pv.Plotter()\npl.add_mesh(grid.extract_all_edges(), color=\"k\", line_width=1)\npl.add_mesh(centers, color=\"r\", point_size=8.0, render_points_as_spheres=True)\npl.show(cpos=cpos)"
      ]
    },
    {
      "cell_type": "markdown",
      "metadata": {},
      "source": [
        "Edge centers\n============\n\nYou can use\n`cell_centers <pyvista.DataSetFilters.cell_centers>`{.interpreted-text\nrole=\"func\"} in combination with `extract_all_edges\n<pyvista.DataSetFilters.extract_all_edges>`{.interpreted-text\nrole=\"func\"} to get the center of all edges of a mesh.\n"
      ]
    },
    {
      "cell_type": "code",
      "execution_count": null,
      "metadata": {
        "collapsed": false
      },
      "outputs": [],
      "source": [
        "# create a simple mesh and extract all the edges and then centers of the mesh.\nmesh = pv.Cube()\nedge_centers = mesh.extract_all_edges().cell_centers().points\n\n# Plot the edge centers\npl = pv.Plotter()\npl.add_mesh(mesh, show_edges=True, line_width=5)\npl.add_points(\n    edge_centers,\n    render_points_as_spheres=True,\n    color='r',\n    point_size=20,\n)\npl.show()"
      ]
    },
    {
      "cell_type": "markdown",
      "metadata": {},
      "source": [
        "Add labels to cells\n===================\n\nThere is not a method to add labels to cells. If you want to label it,\nyou need to extract the position to label it.\n"
      ]
    },
    {
      "cell_type": "code",
      "execution_count": null,
      "metadata": {
        "collapsed": false
      },
      "outputs": [],
      "source": [
        "grid = pv.ImageData(dimensions=(10, 10, 1))\npoints = grid.cell_centers().points\n\npl = pv.Plotter()\npl.add_mesh(grid, show_edges=True)\npl.add_point_labels(points, labels=[f\"{i}\" for i in range(points.shape[0])])\npl.show(cpos=\"xy\")"
      ]
    }
  ],
  "metadata": {
    "kernelspec": {
      "display_name": "Python 3",
      "language": "python",
      "name": "python3"
    },
    "language_info": {
      "codemirror_mode": {
        "name": "ipython",
        "version": 3
      },
      "file_extension": ".py",
      "mimetype": "text/x-python",
      "name": "python",
      "nbconvert_exporter": "python",
      "pygments_lexer": "ipython3",
      "version": "3.11.4"
    }
  },
  "nbformat": 4,
  "nbformat_minor": 0
}