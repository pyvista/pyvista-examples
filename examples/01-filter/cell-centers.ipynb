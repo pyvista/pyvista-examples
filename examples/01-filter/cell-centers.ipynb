{
  "cells": [
    {
      "cell_type": "code",
      "execution_count": null,
      "metadata": {
        "collapsed": false
      },
      "outputs": [],
      "source": [
        "%matplotlib inline\nfrom pyvista import set_plot_theme\nset_plot_theme('document')"
      ]
    },
    {
      "cell_type": "markdown",
      "metadata": {},
      "source": [
        "Extract Cell Centers\n====================\n\nExtract the coordinates of the centers of all cells/faces in a mesh.\n\nHere we use `pyvista.DataSetFilters.cell_centers`{.interpreted-text\nrole=\"func\"}\n"
      ]
    },
    {
      "cell_type": "code",
      "execution_count": null,
      "metadata": {
        "collapsed": false
      },
      "outputs": [],
      "source": [
        "# sphinx_gallery_thumbnail_number = 3\nfrom pyvista import examples\nimport pyvista as pv"
      ]
    },
    {
      "cell_type": "markdown",
      "metadata": {},
      "source": [
        "First let\\'s fetch the centers of a mesh with 2D geometries (a surface)\n"
      ]
    },
    {
      "cell_type": "code",
      "execution_count": null,
      "metadata": {
        "collapsed": false
      },
      "outputs": [],
      "source": [
        "mesh = examples.download_teapot()\n\ncpos = [(6.192871661244108, 5.687542355343226, -4.95345468836544),\n (0.48853358141600634, 1.2019347531215714, 0.1656178278582367),\n (-0.40642070472687936, 0.8621356761976646, 0.30256286387543047)]\n\ncenters = mesh.cell_centers()\n\np = pv.Plotter()\np.add_mesh(mesh, show_edges=True, line_width=1)\np.add_mesh(centers, color=\"r\", point_size=8.0, render_points_as_spheres=True)\np.show(cpos=cpos)"
      ]
    },
    {
      "cell_type": "markdown",
      "metadata": {},
      "source": [
        "We can also do this for full 3D meshes.\n"
      ]
    },
    {
      "cell_type": "code",
      "execution_count": null,
      "metadata": {
        "collapsed": false
      },
      "outputs": [],
      "source": [
        "grid = examples.download_letter_a()\n\ncpos = [(2.704583323659036, 0.7822568412034183, 1.7251126717482546),\n (3.543391913452799, 0.31117673768140197, 0.16407006760146028),\n (0.1481171795711516, 0.96599698246102, -0.2119224645762945)]\n\n\ncenters = grid.cell_centers()\n\np = pv.Plotter()\np.add_mesh(grid, show_edges=True, opacity=0.5, line_width=1)\np.add_mesh(centers, color=\"r\", point_size=8.0, render_points_as_spheres=True)\np.show(cpos=cpos)"
      ]
    },
    {
      "cell_type": "code",
      "execution_count": null,
      "metadata": {
        "collapsed": false
      },
      "outputs": [],
      "source": [
        "p = pv.Plotter()\np.add_mesh(grid.extract_all_edges(), color=\"k\", line_width=1)\np.add_mesh(centers, color=\"r\", point_size=8.0, render_points_as_spheres=True)\np.show(cpos=cpos)"
      ]
    }
  ],
  "metadata": {
    "kernelspec": {
      "display_name": "Python 3",
      "language": "python",
      "name": "python3"
    },
    "language_info": {
      "codemirror_mode": {
        "name": "ipython",
        "version": 3
      },
      "file_extension": ".py",
      "mimetype": "text/x-python",
      "name": "python",
      "nbconvert_exporter": "python",
      "pygments_lexer": "ipython3",
      "version": "3.8.10"
    }
  },
  "nbformat": 4,
  "nbformat_minor": 0
}