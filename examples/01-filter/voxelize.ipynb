{
  "cells": [
    {
      "cell_type": "code",
      "execution_count": null,
      "metadata": {
        "collapsed": false
      },
      "outputs": [],
      "source": [
        "%matplotlib inline\nfrom pyvista import set_plot_theme\nset_plot_theme('document')"
      ]
    },
    {
      "cell_type": "markdown",
      "metadata": {},
      "source": [
        "Voxelize a Surface Mesh {#voxelize_surface_mesh_example}\n=======================\n\nCreate a voxel model (like legos) of a closed surface or volumetric\nmesh.\n\nThis example also demonstrates how to compute an implicit distance from\na bounding `pyvista.PolyData`{.interpreted-text role=\"class\"} surface.\n"
      ]
    },
    {
      "cell_type": "code",
      "execution_count": null,
      "metadata": {
        "collapsed": false
      },
      "outputs": [],
      "source": [
        "import numpy as np\n\nimport pyvista as pv\n\nfrom pyvista import examples\n\n# Load a surface to voxelize\nsurface = examples.download_foot_bones()\nsurface"
      ]
    },
    {
      "cell_type": "code",
      "execution_count": null,
      "metadata": {
        "collapsed": false
      },
      "outputs": [],
      "source": [
        "cpos = [\n    (7.656346967151718, -9.802071079151158, -11.021236183314311),\n    (0.2224512272564101, -0.4594554282112895, 0.5549738359311297),\n    (-0.6279216753504941, -0.7513057097368635, 0.20311105371647392),\n]\n\nsurface.plot(cpos=cpos, opacity=0.75)"
      ]
    },
    {
      "cell_type": "markdown",
      "metadata": {},
      "source": [
        "Create a voxel model of the bounding surface\n"
      ]
    },
    {
      "cell_type": "code",
      "execution_count": null,
      "metadata": {
        "collapsed": false
      },
      "outputs": [],
      "source": [
        "voxels = pv.voxelize(surface, density=surface.length / 200)\n\np = pv.Plotter()\np.add_mesh(voxels, color=True, show_edges=True, opacity=0.5)\np.add_mesh(surface, color=\"lightblue\", opacity=0.5)\np.show(cpos=cpos)"
      ]
    },
    {
      "cell_type": "markdown",
      "metadata": {},
      "source": [
        "We could even add a scalar field to that new voxel model in case we\nwanted to create grids for modelling. In this case, let\\'s add a scalar\nfield for bone density noting:\n"
      ]
    },
    {
      "cell_type": "code",
      "execution_count": null,
      "metadata": {
        "collapsed": false
      },
      "outputs": [],
      "source": [
        "voxels[\"density\"] = np.full(voxels.n_cells, 3.65)  # g/cc\nvoxels"
      ]
    },
    {
      "cell_type": "code",
      "execution_count": null,
      "metadata": {
        "collapsed": false
      },
      "outputs": [],
      "source": [
        "voxels.plot(scalars=\"density\", cpos=cpos)"
      ]
    },
    {
      "cell_type": "markdown",
      "metadata": {},
      "source": [
        "A constant scalar field is kind of boring, so let\\'s get a little\nfancier by added a scalar field that varies by the distance from the\nbounding surface.\n"
      ]
    },
    {
      "cell_type": "code",
      "execution_count": null,
      "metadata": {
        "collapsed": false
      },
      "outputs": [],
      "source": [
        "voxels.compute_implicit_distance(surface, inplace=True)\nvoxels"
      ]
    },
    {
      "cell_type": "code",
      "execution_count": null,
      "metadata": {
        "collapsed": false
      },
      "outputs": [],
      "source": [
        "contours = voxels.contour(6, scalars=\"implicit_distance\")\n\np = pv.Plotter()\np.add_mesh(voxels, opacity=0.25, scalars=\"implicit_distance\")\np.add_mesh(contours, opacity=0.5, scalars=\"implicit_distance\")\np.show(cpos=cpos)"
      ]
    }
  ],
  "metadata": {
    "kernelspec": {
      "display_name": "Python 3",
      "language": "python",
      "name": "python3"
    },
    "language_info": {
      "codemirror_mode": {
        "name": "ipython",
        "version": 3
      },
      "file_extension": ".py",
      "mimetype": "text/x-python",
      "name": "python",
      "nbconvert_exporter": "python",
      "pygments_lexer": "ipython3",
      "version": "3.11.3"
    }
  },
  "nbformat": 4,
  "nbformat_minor": 0
}