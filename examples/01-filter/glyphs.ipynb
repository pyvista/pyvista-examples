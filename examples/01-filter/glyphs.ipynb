{
  "cells": [
    {
      "cell_type": "code",
      "execution_count": null,
      "metadata": {
        "collapsed": false
      },
      "outputs": [],
      "source": [
        "%matplotlib inline\nfrom pyvista import set_plot_theme\nset_plot_theme('document')"
      ]
    },
    {
      "cell_type": "markdown",
      "metadata": {},
      "source": [
        "\n\nPlotting Glyphs (Vectors)\n~~~~~~~~~~~~~~~~~~~~~~~~~\n\nUse vectors in a dataset to plot and orient glyphs/geometric objects.\n"
      ]
    },
    {
      "cell_type": "code",
      "execution_count": null,
      "metadata": {
        "collapsed": false
      },
      "outputs": [],
      "source": [
        "# sphinx_gallery_thumbnail_number = 4\nimport pyvista as pv\nfrom pyvista import examples\nimport numpy as np"
      ]
    },
    {
      "cell_type": "markdown",
      "metadata": {},
      "source": [
        "Glyphying can be done via the :func:`pyvista.DataSetFilters.glyph` filter\n\n"
      ]
    },
    {
      "cell_type": "code",
      "execution_count": null,
      "metadata": {
        "collapsed": false
      },
      "outputs": [],
      "source": [
        "mesh = examples.download_carotid().threshold(145, scalars=\"scalars\")\n\n# Make a geometric obhect to use as the glyph\ngeom = pv.Arrow()  # This could be any dataset\n\n# Perform the glyph\nglyphs = mesh.glyph(orient=\"vectors\", scale=\"scalars\", factor=0.005, geom=geom)\n\n# plot using the plotting class\np = pv.Plotter()\np.add_mesh(glyphs)\n# Set a cool camera position\np.camera_position = [\n    (84.58052237950857, 77.76332116787425, 27.208569926456548),\n    (131.39486171068918, 99.871379394528, 20.082859824932008),\n    (0.13483731007732908, 0.033663777790747404, 0.9902957385932576),\n]\np.show()"
      ]
    },
    {
      "cell_type": "markdown",
      "metadata": {},
      "source": [
        "Another approach is to load the vectors directly to the mesh object and then\naccess the :attr:`pyvista.Common.arrows` property.\n\n"
      ]
    },
    {
      "cell_type": "code",
      "execution_count": null,
      "metadata": {
        "collapsed": false
      },
      "outputs": [],
      "source": [
        "sphere = pv.Sphere(radius=3.14)\n\n# make cool swirly pattern\nvectors = np.vstack(\n    (\n        np.sin(sphere.points[:, 0]),\n        np.cos(sphere.points[:, 1]),\n        np.cos(sphere.points[:, 2]),\n    )\n).T\n\n# add and scale\nsphere.vectors = vectors * 0.3\n\n# plot just the arrows\nsphere.arrows.plot(scalars='GlyphScale')"
      ]
    },
    {
      "cell_type": "code",
      "execution_count": null,
      "metadata": {
        "collapsed": false
      },
      "outputs": [],
      "source": [
        "# plot the arrows and the sphere\np = pv.Plotter()\np.add_mesh(sphere.arrows, scalars='GlyphScale', lighting=False, stitle=\"Vector Magnitude\")\np.add_mesh(sphere, color=\"grey\", ambient=0.6, opacity=0.5, show_edges=False)\np.show()"
      ]
    },
    {
      "cell_type": "markdown",
      "metadata": {},
      "source": [
        "Subset of Glyphs\n++++++++++++++++\n\nSometimes you might not want glyphs for every node in the input dataset. In\nthis case, you can choose to build glyphs for a subset of the input dataset\nby using a merging tolerance. Here we specify a merging tolerance of five\npercent which equates to five percent of the bounding box's length.\n\n"
      ]
    },
    {
      "cell_type": "code",
      "execution_count": null,
      "metadata": {
        "collapsed": false
      },
      "outputs": [],
      "source": [
        "# Example dataset with normals\nmesh = examples.load_random_hills()\n\n# create a subset of arrows using the glyph filter\narrows = mesh.glyph(scale=\"Normals\", orient=\"Normals\", tolerance=0.05)\n\np = pv.Plotter()\np.add_mesh(arrows, color=\"black\")\np.add_mesh(mesh, scalars=\"Elevation\", cmap=\"terrain\")\np.show()"
      ]
    }
  ],
  "metadata": {
    "kernelspec": {
      "display_name": "Python 3",
      "language": "python",
      "name": "python3"
    },
    "language_info": {
      "codemirror_mode": {
        "name": "ipython",
        "version": 3
      },
      "file_extension": ".py",
      "mimetype": "text/x-python",
      "name": "python",
      "nbconvert_exporter": "python",
      "pygments_lexer": "ipython3",
      "version": "3.7.7"
    }
  },
  "nbformat": 4,
  "nbformat_minor": 0
}