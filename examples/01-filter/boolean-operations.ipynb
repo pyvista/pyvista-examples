{
  "cells": [
    {
      "cell_type": "code",
      "execution_count": null,
      "metadata": {
        "collapsed": false
      },
      "outputs": [],
      "source": [
        "%matplotlib inline\nfrom pyvista import set_plot_theme\nset_plot_theme('document')"
      ]
    },
    {
      "cell_type": "markdown",
      "metadata": {},
      "source": [
        "\nBoolean Operations\n~~~~~~~~~~~~~~~~~~\n\nPerform boolean operations with closed surfaces (intersect, cut, etc.).\n\nBoolean/topological operations (intersect, cut, etc.) methods are implemented\nfor :class:`pyvista.PolyData` mesh types only and are accessible directly from\nany :class:`pyvista.PolyData` mesh. Check out :class:`pyvista.PolyDataFilters`\nand take a look at the following filters:\n\n* :func:`pyvista.PolyDataFilters.boolean_add`\n* :func:`pyvista.PolyDataFilters.boolean_cut`\n* :func:`pyvista.PolyDataFilters.boolean_difference`\n* :func:`pyvista.PolyDataFilters.boolean_union`\n\nFor merging, the ``+`` operator can be used between any two meshes in PyVista\nwhich simply calls the ``.merge()`` filter to combine any two meshes.\nSimilarly, the ``-`` operator can be used between any two :class:`pyvista.PolyData`\nmeshes in PyVista to cut the first mesh by the second.\n"
      ]
    },
    {
      "cell_type": "code",
      "execution_count": null,
      "metadata": {
        "collapsed": false
      },
      "outputs": [],
      "source": [
        "# sphinx_gallery_thumbnail_number = 6\nimport pyvista as pv\nimport numpy as np\n\ndef make_cube():\n    x = np.linspace(-0.5, 0.5, 25)\n    grid = pv.StructuredGrid(*np.meshgrid(x, x, x))\n    return grid.extract_surface().triangulate()\n\n# Create to examplee PolyData meshes for boolean operations\nsphere = pv.Sphere(radius=0.65, center=(0, 0, 0))\ncube = make_cube()\n\np = pv.Plotter()\np.add_mesh(sphere, color=\"yellow\", opacity=0.5, show_edges=True)\np.add_mesh(cube, color=\"royalblue\", opacity=0.5, show_edges=True)\np.show()"
      ]
    },
    {
      "cell_type": "markdown",
      "metadata": {},
      "source": [
        "Boolean Add\n+++++++++++\n\nAdd all of the two meshes together using the\n:func:`pyvista.PolyDataFilters.boolean_add` filter or the ``+`` operator.\n\nOrder of operations does not matter for boolean add as the entirety of both\nmeshes are appended together.\n\n"
      ]
    },
    {
      "cell_type": "code",
      "execution_count": null,
      "metadata": {
        "collapsed": false
      },
      "outputs": [],
      "source": [
        "add = sphere + cube\nadd.plot(opacity=0.5, color=True, show_edges=True)"
      ]
    },
    {
      "cell_type": "markdown",
      "metadata": {},
      "source": [
        "Boolean Cut\n+++++++++++\n\nPerform a boolean cut of ``a`` using ``b`` with the\n:func:`pyvista.PolyDataFilters.boolean_cut` filter or the ``-`` operator\nsince both meshes are :class:`pyvista.PolyData`.\n\nOrder of operations does not matter for boolean cut.\n\n"
      ]
    },
    {
      "cell_type": "code",
      "execution_count": null,
      "metadata": {
        "collapsed": false
      },
      "outputs": [],
      "source": [
        "cut = cube - sphere\n\np = pv.Plotter()\np.add_mesh(cut, opacity=0.5, show_edges=True, color=True)\np.show()"
      ]
    },
    {
      "cell_type": "markdown",
      "metadata": {},
      "source": [
        "Boolean Difference\n++++++++++++++++++\n\nCombine two meshes and retains only the volume in common between the meshes\nusing the :func:`pyvista.PolyDataFilters.boolean_difference` method.\n\nNote that the order of operations for a boolean difference will affect the\nresults.\n\n"
      ]
    },
    {
      "cell_type": "code",
      "execution_count": null,
      "metadata": {
        "collapsed": false
      },
      "outputs": [],
      "source": [
        "diff = sphere.boolean_difference(cube)\n\np = pv.Plotter()\np.add_mesh(diff, opacity=0.5, show_edges=True, color=True)\np.show()"
      ]
    },
    {
      "cell_type": "code",
      "execution_count": null,
      "metadata": {
        "collapsed": false
      },
      "outputs": [],
      "source": [
        "diff = cube.boolean_difference(sphere)\n\np = pv.Plotter()\np.add_mesh(diff, opacity=0.5, show_edges=True, color=True)\np.show()"
      ]
    },
    {
      "cell_type": "markdown",
      "metadata": {},
      "source": [
        "Boolean Union\n+++++++++++++\n\nCombine two meshes and attempts to create a manifold mesh using the\n:func:`pyvista.PolyDataFilters.boolean_union` method.\n\nOrder of operations does not matter for boolean union.\n\n"
      ]
    },
    {
      "cell_type": "code",
      "execution_count": null,
      "metadata": {
        "collapsed": false
      },
      "outputs": [],
      "source": [
        "union = sphere.boolean_union(cube)\n\np = pv.Plotter()\np.add_mesh(union,  opacity=0.5, show_edges=True, color=True)\np.show()"
      ]
    }
  ],
  "metadata": {
    "kernelspec": {
      "display_name": "Python 3",
      "language": "python",
      "name": "python3"
    },
    "language_info": {
      "codemirror_mode": {
        "name": "ipython",
        "version": 3
      },
      "file_extension": ".py",
      "mimetype": "text/x-python",
      "name": "python",
      "nbconvert_exporter": "python",
      "pygments_lexer": "ipython3",
      "version": "3.7.7"
    }
  },
  "nbformat": 4,
  "nbformat_minor": 0
}