{
  "cells": [
    {
      "cell_type": "code",
      "execution_count": null,
      "metadata": {
        "collapsed": false
      },
      "outputs": [],
      "source": [
        "%matplotlib inline\nfrom pyvista import set_plot_theme\nset_plot_theme('document')"
      ]
    },
    {
      "cell_type": "markdown",
      "metadata": {},
      "source": [
        "Boolean Operations\n==================\n\nPerform boolean operations with closed surfaces (intersect, cut, etc.).\n\nBoolean/topological operations (intersect, cut, etc.) methods are\nimplemented for `pyvista.PolyData`{.interpreted-text role=\"class\"} mesh\ntypes only and are accessible directly from any\n`pyvista.PolyData`{.interpreted-text role=\"class\"} mesh. Check out\n`pyvista.PolyDataFilters`{.interpreted-text role=\"class\"} and take a\nlook at the following filters:\n\n-   `pyvista.PolyDataFilters.boolean_add`{.interpreted-text role=\"func\"}\n-   `pyvista.PolyDataFilters.boolean_cut`{.interpreted-text role=\"func\"}\n-   `pyvista.PolyDataFilters.boolean_difference`{.interpreted-text\n    role=\"func\"}\n-   `pyvista.PolyDataFilters.boolean_union`{.interpreted-text\n    role=\"func\"}\n\nFor merging, the `+` operator can be used between any two meshes in\nPyVista which simply calls the `.merge()` filter to combine any two\nmeshes. Similarly, the `-` operator can be used between any two\n`pyvista.PolyData`{.interpreted-text role=\"class\"} meshes in PyVista to\ncut the first mesh by the second.\n"
      ]
    },
    {
      "cell_type": "code",
      "execution_count": null,
      "metadata": {
        "collapsed": false
      },
      "outputs": [],
      "source": [
        "# sphinx_gallery_thumbnail_number = 6\nimport pyvista as pv\nimport numpy as np\n\ndef make_cube():\n    x = np.linspace(-0.5, 0.5, 25)\n    grid = pv.StructuredGrid(*np.meshgrid(x, x, x))\n    return grid.extract_surface().triangulate()\n\n# Create to example PolyData meshes for boolean operations\nsphere = pv.Sphere(radius=0.65, center=(0, 0, 0))\ncube = make_cube()\n\np = pv.Plotter()\np.add_mesh(sphere, color=\"yellow\", opacity=0.5, show_edges=True)\np.add_mesh(cube, color=\"royalblue\", opacity=0.5, show_edges=True)\np.show()"
      ]
    },
    {
      "cell_type": "markdown",
      "metadata": {},
      "source": [
        "Boolean Add\n===========\n\nAdd all of the two meshes together using the\n`pyvista.PolyDataFilters.boolean_add`{.interpreted-text role=\"func\"}\nfilter or the `+` operator.\n\nOrder of operations does not matter for boolean add as the entirety of\nboth meshes are appended together.\n"
      ]
    },
    {
      "cell_type": "code",
      "execution_count": null,
      "metadata": {
        "collapsed": false
      },
      "outputs": [],
      "source": [
        "add = sphere + cube\nadd.plot(opacity=0.5, color=True, show_edges=True)"
      ]
    },
    {
      "cell_type": "markdown",
      "metadata": {},
      "source": [
        "Boolean Cut\n===========\n\nPerform a boolean cut of `a` using `b` with the\n`pyvista.PolyDataFilters.boolean_cut`{.interpreted-text role=\"func\"}\nfilter or the `-` operator since both meshes are\n`pyvista.PolyData`{.interpreted-text role=\"class\"}.\n\nOrder of operations does not matter for boolean cut.\n"
      ]
    },
    {
      "cell_type": "code",
      "execution_count": null,
      "metadata": {
        "collapsed": false
      },
      "outputs": [],
      "source": [
        "cut = cube - sphere\n\np = pv.Plotter()\np.add_mesh(cut, opacity=0.5, show_edges=True, color=True)\np.show()"
      ]
    },
    {
      "cell_type": "markdown",
      "metadata": {},
      "source": [
        "Boolean Difference\n==================\n\nCombine two meshes and retains only the volume in common between the\nmeshes using the\n`pyvista.PolyDataFilters.boolean_difference`{.interpreted-text\nrole=\"func\"} method.\n\nNote that the order of operations for a boolean difference will affect\nthe results.\n"
      ]
    },
    {
      "cell_type": "code",
      "execution_count": null,
      "metadata": {
        "collapsed": false
      },
      "outputs": [],
      "source": [
        "diff = sphere.boolean_difference(cube)\n\np = pv.Plotter()\np.add_mesh(diff, opacity=0.5, show_edges=True, color=True)\np.show()"
      ]
    },
    {
      "cell_type": "code",
      "execution_count": null,
      "metadata": {
        "collapsed": false
      },
      "outputs": [],
      "source": [
        "diff = cube.boolean_difference(sphere)\n\np = pv.Plotter()\np.add_mesh(diff, opacity=0.5, show_edges=True, color=True)\np.show()"
      ]
    },
    {
      "cell_type": "markdown",
      "metadata": {},
      "source": [
        "Boolean Union\n=============\n\nCombine two meshes and attempts to create a manifold mesh using the\n`pyvista.PolyDataFilters.boolean_union`{.interpreted-text role=\"func\"}\nmethod.\n\nOrder of operations does not matter for boolean union.\n"
      ]
    },
    {
      "cell_type": "code",
      "execution_count": null,
      "metadata": {
        "collapsed": false
      },
      "outputs": [],
      "source": [
        "union = sphere.boolean_union(cube)\n\np = pv.Plotter()\np.add_mesh(union,  opacity=0.5, show_edges=True, color=True)\np.show()"
      ]
    }
  ],
  "metadata": {
    "kernelspec": {
      "display_name": "Python 3",
      "language": "python",
      "name": "python3"
    },
    "language_info": {
      "codemirror_mode": {
        "name": "ipython",
        "version": 3
      },
      "file_extension": ".py",
      "mimetype": "text/x-python",
      "name": "python",
      "nbconvert_exporter": "python",
      "pygments_lexer": "ipython3",
      "version": "3.8.10"
    }
  },
  "nbformat": 4,
  "nbformat_minor": 0
}