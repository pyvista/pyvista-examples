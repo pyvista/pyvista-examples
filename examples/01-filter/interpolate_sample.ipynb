{
  "cells": [
    {
      "cell_type": "code",
      "execution_count": null,
      "metadata": {
        "collapsed": false
      },
      "outputs": [],
      "source": [
        "%matplotlib inline"
      ]
    },
    {
      "cell_type": "markdown",
      "metadata": {},
      "source": [
        "Compare interpolation/sampling methods {#interpolate_sample_example}\n======================================\n\nThere are two main methods of interpolating or sampling data from a\ntarget mesh in PyVista.\n`pyvista.DataSetFilters.interpolate`{.interpreted-text role=\"func\"} uses\na distance weighting kernel to interpolate point data from nearby points\nof the target mesh onto the desired points.\n`pyvista.DataObjectFilters.sample`{.interpreted-text role=\"func\"}\ninterpolates data using the interpolation scheme of the enclosing cell\nfrom the target mesh.\n\nIf the target mesh is a point cloud, i.e. there is no connectivity in\nthe cell structure, then\n`pyvista.DataSetFilters.interpolate`{.interpreted-text role=\"func\"} is\ntypically preferred. If interpolation is desired within the cells of the\ntarget mesh, then `pyvista.DataObjectFilters.sample`{.interpreted-text\nrole=\"func\"} is typically desired.\n\nHere the two methods are compared and contrasted using a simple example\nof sampling data from a mesh in a rectangular domain. This example\ndemonstrates the main differences above. For more complex uses, see\n`interpolate_example`{.interpreted-text role=\"ref\"} and\n`resampling_example`{.interpreted-text role=\"ref\"}.\n"
      ]
    },
    {
      "cell_type": "code",
      "execution_count": null,
      "metadata": {
        "collapsed": false
      },
      "outputs": [],
      "source": [
        "from __future__ import annotations\n\nimport numpy as np\n\nimport pyvista as pv"
      ]
    },
    {
      "cell_type": "markdown",
      "metadata": {},
      "source": [
        "Interpolating from point cloud\n==============================\n\nA point cloud is a collection of points that have no connectivity in the\nmesh, i.e. the mesh contains no cells or the cells are 0D (vertex or\npolyvertex). The filter\n`pyvista.DataSetFilters.interpolate`{.interpreted-text role=\"func\"} uses\na distance-based weighting methodology to interpolate between the\nunconnected points.\n\nFirst, generate a point cloud mesh in a rectangular domain from `(0, 0)`\nto `(3, 1)`. The data to be sampled is the square of the y position.\n"
      ]
    },
    {
      "cell_type": "code",
      "execution_count": null,
      "metadata": {
        "collapsed": false
      },
      "outputs": [],
      "source": [
        "rng = np.random.default_rng(seed=0)\npoints = rng.uniform(low=[0, 0], high=[3, 1], size=(250, 2))\n# Make points be z=0\npoints = np.hstack((points, np.zeros((250, 1))))\npoint_mesh = pv.PolyData(points)\npoint_mesh['ysquared'] = points[:, 1] ** 2"
      ]
    },
    {
      "cell_type": "markdown",
      "metadata": {},
      "source": [
        "The point cloud data looks like this.\n"
      ]
    },
    {
      "cell_type": "code",
      "execution_count": null,
      "metadata": {
        "collapsed": false
      },
      "outputs": [],
      "source": [
        "pl = pv.Plotter()\npl.add_mesh(point_mesh, render_points_as_spheres=True, point_size=10)\npl.view_xy()\npl.show()"
      ]
    },
    {
      "cell_type": "markdown",
      "metadata": {},
      "source": [
        "Now estimate data on a regular grid from the point data. Note that the\ndistance parameter `radius` determines how far away to look for point\ncloud data.\n"
      ]
    },
    {
      "cell_type": "code",
      "execution_count": null,
      "metadata": {
        "collapsed": false
      },
      "outputs": [],
      "source": [
        "grid = pv.ImageData(dimensions=(11, 11, 1), spacing=[3 / 10, 1 / 10, 1])\noutput = grid.interpolate(point_mesh, radius=0.1, null_value=-1)\noutput"
      ]
    },
    {
      "cell_type": "markdown",
      "metadata": {},
      "source": [
        "When using `radius=0.1`, the expected extents of the data are captured\nreasonably well over the domain, but there are holes in the data\n(represented by the darkest blue colors) caused by no points within the\n`radius` to interpolate from.\n"
      ]
    },
    {
      "cell_type": "code",
      "execution_count": null,
      "metadata": {
        "collapsed": false
      },
      "outputs": [],
      "source": [
        "pl = pv.Plotter()\npl.add_mesh(output, clim=[0, 1])\npl.add_mesh(points, render_points_as_spheres=True, point_size=10, color='red')\npl.view_xy()\npl.show()"
      ]
    },
    {
      "cell_type": "markdown",
      "metadata": {},
      "source": [
        "Now repeat with `radius=0.25`. There are no holes but the extents of the\ndata is much narrower than `[0, 1]`. This is caused by more interior\npoints involved in the weighting near the lower and upper edges of the\ndomain. Other parameters such as `sharpness` could be tuned to try to\nlessen the issue.\n"
      ]
    },
    {
      "cell_type": "code",
      "execution_count": null,
      "metadata": {
        "collapsed": false
      },
      "outputs": [],
      "source": [
        "grid = pv.ImageData(dimensions=(11, 11, 1), spacing=[3 / 10, 1 / 10, 1])\noutput = grid.interpolate(point_mesh, radius=0.25, null_value=-1)\n\npl = pv.Plotter()\npl.add_mesh(output, clim=[0, 1])\npl.add_mesh(points, render_points_as_spheres=True, point_size=10, color='red')\npl.view_xy()\npl.show()"
      ]
    },
    {
      "cell_type": "markdown",
      "metadata": {},
      "source": [
        "While this filter is very useful for point clouds, it is possible to use\nit to interpolate from the points on other mesh types. With unstuitable\nchoice of `radius` the interpolation doesn\\'t look very good. It is\nrecommended consider using\n`pyvista.DataObjectFilters.sample`{.interpreted-text role=\"func\"} in a\ncase like this (see next section below). However, there may be cases\nwith non-point cloud meshes where\n`pyvista.DataSetFilters.interpolate`{.interpreted-text role=\"func\"} is\nstill preferred.\n"
      ]
    },
    {
      "cell_type": "code",
      "execution_count": null,
      "metadata": {
        "collapsed": false
      },
      "outputs": [],
      "source": [
        "sphere = pv.SolidSphere(center=(0.5, 0.5, 0), outer_radius=1.0)\nsphere['ysquared'] = sphere.points[:, 1] ** 2\noutput = grid.interpolate(sphere, radius=0.1)\n\npl = pv.Plotter()\npl.add_mesh(output, clim=[0, 1])\npl.add_mesh(sphere, style='wireframe', color='white')\npl.view_xy()\npl.show()"
      ]
    },
    {
      "cell_type": "markdown",
      "metadata": {},
      "source": [
        "Sampling from a mesh with connectivity\n======================================\n\nThis example is in many ways the opposite of the prior one. A mesh with\ncell connectivity that spans 2 dimensions is sampled at discrete points\nusing `pyvista.DataObjectFilters.sample`{.interpreted-text role=\"func\"}.\nImportantly, the cell connectivity enables direct interpolation inside\nthe domain without needing distance or weighting parametization.\n\nFirst, show that sample does not work with point clouds with data.\nEither `pyvista.DataSetFilters.interpolate`{.interpreted-text\nrole=\"func\"} or the `snap_to_closest_point` parameter must be used.\n"
      ]
    },
    {
      "cell_type": "code",
      "execution_count": null,
      "metadata": {
        "collapsed": false
      },
      "outputs": [],
      "source": [
        "grid = pv.ImageData(dimensions=(11, 11, 1), spacing=[3 / 10, 1 / 10, 1])\noutput = grid.sample(point_mesh)\n# value of (0, 0) shows that no data was sampled\nprint(f'(min, max): {output[\"ysquared\"].min()}, {output[\"ysquared\"].min()}')"
      ]
    },
    {
      "cell_type": "markdown",
      "metadata": {},
      "source": [
        "Create the non-point cloud mesh that will be sampled from and plot it.\n"
      ]
    },
    {
      "cell_type": "code",
      "execution_count": null,
      "metadata": {
        "collapsed": false
      },
      "outputs": [],
      "source": [
        "grid = pv.ImageData(dimensions=(11, 11, 1), spacing=[3 / 10, 1 / 10, 1])\ngrid['ysquared'] = grid.points[:, 1] ** 2\n\npl = pv.Plotter()\npl.add_mesh(grid, clim=[0, 1])\npl.view_xy()\npl.show()"
      ]
    },
    {
      "cell_type": "markdown",
      "metadata": {},
      "source": [
        "Now sample it at the discrete points used in the first example.\n"
      ]
    },
    {
      "cell_type": "code",
      "execution_count": null,
      "metadata": {
        "collapsed": false
      },
      "outputs": [],
      "source": [
        "point_mesh = pv.PolyData(points)\noutput = point_mesh.sample(grid)\noutput"
      ]
    },
    {
      "cell_type": "markdown",
      "metadata": {},
      "source": [
        "This looks identical to the first plot of the first example as the data\nis not noisy, and there is little interpolation error.\n"
      ]
    },
    {
      "cell_type": "code",
      "execution_count": null,
      "metadata": {
        "collapsed": false
      },
      "outputs": [],
      "source": [
        "pl = pv.Plotter()\npl.add_mesh(output, render_points_as_spheres=True, point_size=10)\npl.view_xy()\npl.show()"
      ]
    },
    {
      "cell_type": "markdown",
      "metadata": {},
      "source": [
        "Instead of sampling onto a point cloud,\n`pyvista.DataObjectFilters.sample`{.interpreted-text role=\"func\"} can\nsample using other mesh types. For example, sampling onto a rotated\nsubset of the grid.\n\nMake subset (0.7, 0.7, 0) units in dimension and then rotate by 45\ndegrees around its center.\n"
      ]
    },
    {
      "cell_type": "code",
      "execution_count": null,
      "metadata": {
        "collapsed": false
      },
      "outputs": [],
      "source": [
        "subset = pv.ImageData(dimensions=(8, 8, 1), spacing=[0.1, 0.1, 0], origin=(0.15, 0.15, 0))\nrotated_subset = subset.rotate_vector(vector=(0, 0, 1), angle=45, point=(0.5, 0.5, 0))\noutput = rotated_subset.sample(grid)\noutput"
      ]
    },
    {
      "cell_type": "markdown",
      "metadata": {},
      "source": [
        "The data in the sampled region looks identical to the original grid due\nto the well-behaved nature of the data and low interpolation error.\n"
      ]
    },
    {
      "cell_type": "code",
      "execution_count": null,
      "metadata": {
        "collapsed": false
      },
      "outputs": [],
      "source": [
        "pl = pv.Plotter()\npl.add_mesh(grid, style='wireframe', clim=[0, 1])\npl.add_mesh(output, clim=[0, 1])\npl.view_xy()\npl.show()"
      ]
    },
    {
      "cell_type": "markdown",
      "metadata": {},
      "source": [
        "Repeat the sphere interpolation example, but using\n`pyvista.DataObjectFilters.sample`{.interpreted-text role=\"func\"}. This\nmethod is directly able to sample from the mesh in this case without\nfiddling with distance weighting parameters.\n"
      ]
    },
    {
      "cell_type": "code",
      "execution_count": null,
      "metadata": {
        "collapsed": false
      },
      "outputs": [],
      "source": [
        "sphere = pv.SolidSphere(center=(0.5, 0.5, 0), outer_radius=1.0)\nsphere['ysquared'] = sphere.points[:, 1] ** 2\noutput = grid.sample(sphere)\n\npl = pv.Plotter()\npl.add_mesh(output, clim=[0, 1])\npl.add_mesh(sphere, style='wireframe', color='white')\npl.view_xy()\npl.show()"
      ]
    },
    {
      "cell_type": "markdown",
      "metadata": {},
      "source": [
        "::: {.tags}\nfilter\n:::\n"
      ]
    }
  ],
  "metadata": {
    "kernelspec": {
      "display_name": "Python 3",
      "language": "python",
      "name": "python3"
    },
    "language_info": {
      "codemirror_mode": {
        "name": "ipython",
        "version": 3
      },
      "file_extension": ".py",
      "mimetype": "text/x-python",
      "name": "python",
      "nbconvert_exporter": "python",
      "pygments_lexer": "ipython3",
      "version": "3.13.3"
    }
  },
  "nbformat": 4,
  "nbformat_minor": 0
}