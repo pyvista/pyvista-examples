{
  "cells": [
    {
      "cell_type": "code",
      "execution_count": null,
      "metadata": {
        "collapsed": false
      },
      "outputs": [],
      "source": [
        "%matplotlib inline\nfrom pyvista import set_plot_theme\nset_plot_theme('document')"
      ]
    },
    {
      "cell_type": "markdown",
      "metadata": {},
      "source": [
        "\nSurface Smoothing\n~~~~~~~~~~~~~~~~~\n\nSmoothing rough edges of a surface mesh\n"
      ]
    },
    {
      "cell_type": "code",
      "execution_count": null,
      "metadata": {
        "collapsed": false
      },
      "outputs": [],
      "source": [
        "# sphinx_gallery_thumbnail_number = 4\nfrom pyvista import examples"
      ]
    },
    {
      "cell_type": "markdown",
      "metadata": {},
      "source": [
        "Suppose you extract a volumetric subset of a dataset that has roughly defined\nedges. Perhaps you'd like a smooth representation of that model region. This\ncan be achieved by extracting the bounding surface of the volume and applying\na :func:`pyvista.PolyData.smooth` filter.\n\nThe below code snippet loads a sample roughly edged volumetric dataset:\n\n"
      ]
    },
    {
      "cell_type": "code",
      "execution_count": null,
      "metadata": {
        "collapsed": false
      },
      "outputs": [],
      "source": [
        "# Vector to view rough edges\ncpos = [-2, 5, 3]\n\n# Load dataset\ndata = examples.load_uniform()\n# Extract a rugged volume\nvol = data.threshold_percent(30, invert=1)\nvol.plot(show_edges=True, cpos=cpos)"
      ]
    },
    {
      "cell_type": "markdown",
      "metadata": {},
      "source": [
        "Extract the outer surface of the volume using the\n:func:`pyvista.DataSetFilters.extract_geometry` filter and then apply the\nsmoothing filter:\n\n"
      ]
    },
    {
      "cell_type": "code",
      "execution_count": null,
      "metadata": {
        "collapsed": false
      },
      "outputs": [],
      "source": [
        "# Get the out surface as PolyData\nsurf = vol.extract_geometry()\n# Smooth the surface\nsmooth = surf.smooth()\nsmooth.plot(show_edges=True, cpos=cpos)"
      ]
    },
    {
      "cell_type": "markdown",
      "metadata": {},
      "source": [
        "Not smooth enough? Try increasing the number of iterations for the Laplacian\nsmoothing algorithm:\n\n"
      ]
    },
    {
      "cell_type": "code",
      "execution_count": null,
      "metadata": {
        "collapsed": false
      },
      "outputs": [],
      "source": [
        "# Smooth the surface even more\nsmooth = surf.smooth(n_iter=100)\nsmooth.plot(show_edges=True, cpos=cpos)"
      ]
    },
    {
      "cell_type": "markdown",
      "metadata": {},
      "source": [
        "Still not smooth enough? Increase the number of iterations for the Laplacian\nsmoothing algorithm to a crazy high value:\n\n"
      ]
    },
    {
      "cell_type": "code",
      "execution_count": null,
      "metadata": {
        "collapsed": false
      },
      "outputs": [],
      "source": [
        "# Smooth the surface EVEN MORE\nsmooth = surf.smooth(n_iter=1000)\nsmooth.plot(show_edges=True, cpos=cpos)"
      ]
    }
  ],
  "metadata": {
    "kernelspec": {
      "display_name": "Python 3",
      "language": "python",
      "name": "python3"
    },
    "language_info": {
      "codemirror_mode": {
        "name": "ipython",
        "version": 3
      },
      "file_extension": ".py",
      "mimetype": "text/x-python",
      "name": "python",
      "nbconvert_exporter": "python",
      "pygments_lexer": "ipython3",
      "version": "3.7.7"
    }
  },
  "nbformat": 4,
  "nbformat_minor": 0
}