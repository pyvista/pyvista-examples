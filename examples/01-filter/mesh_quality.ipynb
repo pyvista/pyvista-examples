{
  "cells": [
    {
      "cell_type": "code",
      "execution_count": null,
      "metadata": {
        "collapsed": false
      },
      "outputs": [],
      "source": [
        "%matplotlib inline"
      ]
    },
    {
      "cell_type": "markdown",
      "metadata": {},
      "source": [
        "Computing Mesh Quality {#mesh_quality_example}\n======================\n\nLeverage powerful VTK algorithms for computing mesh quality.\n\nHere we will use the\n`~pyvista.DataObjectFilters.cell_quality`{.interpreted-text role=\"func\"}\nfilter to compute the cell qualities. The following quality measures are\navailable for various cell types:\n"
      ]
    },
    {
      "cell_type": "code",
      "execution_count": null,
      "metadata": {
        "collapsed": false
      },
      "outputs": [],
      "source": [
        "from __future__ import annotations\n\nimport pyvista as pv\nfrom pyvista import examples"
      ]
    },
    {
      "cell_type": "markdown",
      "metadata": {},
      "source": [
        "Triangle Cell Quality\n=====================\n\nLoad a `~pyvista.PolyData`{.interpreted-text role=\"class\"} mesh and\n`~pyvista.PolyDataFilters.decimate`{.interpreted-text role=\"meth\"} it to\nshow coarse `~pyvista.CellType.TRIANGLE`{.interpreted-text role=\"attr\"}\ncells for the example. Here we use\n`~pyvista.examples.downloads.download_cow`{.interpreted-text\nrole=\"meth\"}.\n"
      ]
    },
    {
      "cell_type": "code",
      "execution_count": null,
      "metadata": {
        "collapsed": false
      },
      "outputs": [],
      "source": [
        "mesh = examples.download_cow().triangulate().decimate(0.7)"
      ]
    },
    {
      "cell_type": "markdown",
      "metadata": {},
      "source": [
        "Compute some valid measures for triangle cells.\n"
      ]
    },
    {
      "cell_type": "code",
      "execution_count": null,
      "metadata": {
        "collapsed": false
      },
      "outputs": [],
      "source": [
        "measures = ['area', 'shape', 'min_angle', 'max_angle']\nqual = mesh.cell_quality(measures)"
      ]
    },
    {
      "cell_type": "markdown",
      "metadata": {},
      "source": [
        "Plot the meshes in subplots for comparison. We define a custom method\nfor adding each mesh to each subplot.\n"
      ]
    },
    {
      "cell_type": "code",
      "execution_count": null,
      "metadata": {
        "collapsed": false
      },
      "outputs": [],
      "source": [
        "def add_mesh(plotter, mesh, *, scalars=None, cmap='bwr', show_edges=True):\n    # Create a copy to avoid reusing the same mesh in different plots\n    copied = mesh.copy(deep=False)\n    plotter.add_mesh(copied, scalars=scalars, cmap=cmap, show_edges=show_edges)\n    plotter.view_xy()\n\n\npl = pv.Plotter(shape=(2, 2))\npl.link_views()\npl.subplot(0, 0)\nadd_mesh(pl, qual, scalars=measures[0])\npl.subplot(0, 1)\nadd_mesh(pl, qual, scalars=measures[1])\npl.subplot(1, 0)\nadd_mesh(pl, qual, scalars=measures[2])\npl.subplot(1, 1)\nadd_mesh(pl, qual, scalars=measures[3])\npl.show()"
      ]
    },
    {
      "cell_type": "markdown",
      "metadata": {},
      "source": [
        "Visualize Acceptable Range\n==========================\n\nThe previous plots show the full range of cell quality values present in\nthe mesh. However, it may be more useful to show the\n[acceptable]{.title-ref} range of values instead. Get the acceptable\nrange for the `shape` quality measure using\n`~pyvista.cell_quality_info`{.interpreted-text role=\"func\"}.\n"
      ]
    },
    {
      "cell_type": "code",
      "execution_count": null,
      "metadata": {
        "collapsed": false
      },
      "outputs": [],
      "source": [
        "info = pv.cell_quality_info('TRIANGLE', 'shape')\nprint(info)"
      ]
    },
    {
      "cell_type": "markdown",
      "metadata": {},
      "source": [
        "Plot the shape quality measure again but this time we color the cells\nbased on the acceptable range for the measure. Cells outside of this\nrange are saturated as blue or red and may be considered to be \\\"poor\\\"\nquality cells.\n"
      ]
    },
    {
      "cell_type": "code",
      "execution_count": null,
      "metadata": {
        "collapsed": false
      },
      "outputs": [],
      "source": [
        "qual.plot(\n    scalars='shape',\n    clim=info.acceptable_range,\n    cmap='bwr',\n    below_color='blue',\n    above_color='red',\n    cpos='xy',\n    zoom=1.5,\n    show_axes=False,\n)"
      ]
    },
    {
      "cell_type": "markdown",
      "metadata": {},
      "source": [
        "Use `~pyvista.DataSetFilters.extract_values`{.interpreted-text\nrole=\"meth\"} to extract the \\\"poor\\\" quality cells outside the\nacceptable range.\n"
      ]
    },
    {
      "cell_type": "code",
      "execution_count": null,
      "metadata": {
        "collapsed": false
      },
      "outputs": [],
      "source": [
        "unacceptable = qual.extract_values(scalars='shape', ranges=info.acceptable_range, invert=True)"
      ]
    },
    {
      "cell_type": "markdown",
      "metadata": {},
      "source": [
        "Plot the unacceptable cells along with the original mesh as wireframe\nfor context.\n"
      ]
    },
    {
      "cell_type": "code",
      "execution_count": null,
      "metadata": {
        "collapsed": false
      },
      "outputs": [],
      "source": [
        "pl = pv.Plotter()\npl.add_mesh(mesh, style='wireframe', color='light gray')\npl.add_mesh(unacceptable, color='lime')\npl.view_xy()\npl.camera.zoom(1.5)\npl.show()"
      ]
    },
    {
      "cell_type": "markdown",
      "metadata": {},
      "source": [
        "Tetrahedron Cell Quality\n========================\n\nLoad a mesh with `~pyvista.CellType.TETRA`{.interpreted-text\nrole=\"attr\"} cells. Here we use\n`~pyvista.examples.downloads.download_letter_a`{.interpreted-text\nrole=\"meth\"}.\n"
      ]
    },
    {
      "cell_type": "code",
      "execution_count": null,
      "metadata": {
        "collapsed": false
      },
      "outputs": [],
      "source": [
        "mesh = examples.download_letter_a()"
      ]
    },
    {
      "cell_type": "markdown",
      "metadata": {},
      "source": [
        "Plot some valid quality measures for tetrahedral cells.\n"
      ]
    },
    {
      "cell_type": "code",
      "execution_count": null,
      "metadata": {
        "collapsed": false
      },
      "outputs": [],
      "source": [
        "measures = ['volume', 'collapse_ratio', 'jacobian', 'scaled_jacobian']\nqual = mesh.cell_quality(measures)\n\npl = pv.Plotter(shape=(2, 2))\npl.link_views()\npl.subplot(0, 0)\nadd_mesh(pl, qual, scalars=measures[0])\npl.subplot(0, 1)\nadd_mesh(pl, qual, scalars=measures[1])\npl.subplot(1, 0)\nadd_mesh(pl, qual, scalars=measures[2])\npl.subplot(1, 1)\nadd_mesh(pl, qual, scalars=measures[3])\npl.show()"
      ]
    },
    {
      "cell_type": "markdown",
      "metadata": {},
      "source": [
        "::: {.tags}\nfilter\n:::\n"
      ]
    }
  ],
  "metadata": {
    "kernelspec": {
      "display_name": "Python 3",
      "language": "python",
      "name": "python3"
    },
    "language_info": {
      "codemirror_mode": {
        "name": "ipython",
        "version": 3
      },
      "file_extension": ".py",
      "mimetype": "text/x-python",
      "name": "python",
      "nbconvert_exporter": "python",
      "pygments_lexer": "ipython3",
      "version": "3.13.5"
    }
  },
  "nbformat": 4,
  "nbformat_minor": 0
}