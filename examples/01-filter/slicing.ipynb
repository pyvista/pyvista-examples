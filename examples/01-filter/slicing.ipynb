{
  "cells": [
    {
      "cell_type": "code",
      "execution_count": null,
      "metadata": {
        "collapsed": false
      },
      "outputs": [],
      "source": [
        "%matplotlib inline"
      ]
    },
    {
      "cell_type": "markdown",
      "metadata": {},
      "source": [
        "Slicing {#slice_example}\n=======\n\nExtract thin planar slices from a volume.\n"
      ]
    },
    {
      "cell_type": "code",
      "execution_count": null,
      "metadata": {
        "collapsed": false
      },
      "outputs": [],
      "source": [
        "import matplotlib.pyplot as plt\nimport numpy as np\n\nimport pyvista as pv\nfrom pyvista import examples"
      ]
    },
    {
      "cell_type": "markdown",
      "metadata": {},
      "source": [
        "PyVista meshes have several slicing filters bound directly to all\ndatasets. These filters allow you to slice through a volumetric dataset\nto extract and view sections through the volume of data.\n\nOne of the most common slicing filters used in PyVista is the\n`pyvista.DataSetFilters.slice_orthogonal`{.interpreted-text role=\"func\"}\nfilter which creates three orthogonal slices through the dataset\nparallel to the three Cartesian planes. For example, let\\'s slice\nthrough the sample geostatistical training image volume. First, load up\nthe volume and preview it:\n"
      ]
    },
    {
      "cell_type": "code",
      "execution_count": null,
      "metadata": {
        "collapsed": false
      },
      "outputs": [],
      "source": [
        "mesh = examples.load_channels()\n# define a categorical colormap\ncmap = plt.cm.get_cmap(\"viridis\", 4)\n\nmesh.plot(cmap=cmap)"
      ]
    },
    {
      "cell_type": "markdown",
      "metadata": {},
      "source": [
        "Note that this dataset is a 3D volume and there might be regions within\nthis volume that we would like to inspect. We can create slices through\nthe mesh to gain further insight about the internals of the volume.\n"
      ]
    },
    {
      "cell_type": "code",
      "execution_count": null,
      "metadata": {
        "collapsed": false
      },
      "outputs": [],
      "source": [
        "slices = mesh.slice_orthogonal()\n\nslices.plot(cmap=cmap)"
      ]
    },
    {
      "cell_type": "markdown",
      "metadata": {},
      "source": [
        "The orthogonal slices can be easily translated throughout the volume:\n"
      ]
    },
    {
      "cell_type": "code",
      "execution_count": null,
      "metadata": {
        "collapsed": false
      },
      "outputs": [],
      "source": [
        "slices = mesh.slice_orthogonal(x=20, y=20, z=30)\nslices.plot(cmap=cmap)"
      ]
    },
    {
      "cell_type": "markdown",
      "metadata": {},
      "source": [
        "We can also add just a single slice of the volume by specifying the\norigin and normal of the slicing plane with the\n`pyvista.DataSetFilters.slice`{.interpreted-text role=\"func\"} filter:\n"
      ]
    },
    {
      "cell_type": "code",
      "execution_count": null,
      "metadata": {
        "collapsed": false
      },
      "outputs": [],
      "source": [
        "# Single slice - origin defaults to the center of the mesh\nsingle_slice = mesh.slice(normal=[1, 1, 0])\n\np = pv.Plotter()\np.add_mesh(mesh.outline(), color=\"k\")\np.add_mesh(single_slice, cmap=cmap)\np.show()"
      ]
    },
    {
      "cell_type": "markdown",
      "metadata": {},
      "source": [
        "Adding slicing planes uniformly across an axial direction can also be\nautomated with the\n`pyvista.DataSetFilters.slice_along_axis`{.interpreted-text role=\"func\"}\nfilter:\n"
      ]
    },
    {
      "cell_type": "code",
      "execution_count": null,
      "metadata": {
        "collapsed": false
      },
      "outputs": [],
      "source": [
        "slices = mesh.slice_along_axis(n=7, axis=\"y\")\n\nslices.plot(cmap=cmap)"
      ]
    },
    {
      "cell_type": "markdown",
      "metadata": {},
      "source": [
        "Slice Along Line\n================\n\nWe can also slice a dataset along a `pyvista.Spline`{.interpreted-text\nrole=\"func\"} or `pyvista.Line`{.interpreted-text role=\"func\"} using the\n`pyvista.DataSetFilters.slice_along_line`{.interpreted-text role=\"func\"}\nfilter.\n\nFirst, define a line source through the dataset of interest. Please note\nthat this type of slicing is computationally expensive and might take a\nwhile if there are a lot of points in the line - try to keep the\nresolution of the line low.\n"
      ]
    },
    {
      "cell_type": "code",
      "execution_count": null,
      "metadata": {
        "collapsed": false
      },
      "outputs": [],
      "source": [
        "model = examples.load_channels()\n\n\ndef path(y):\n    \"\"\"Equation: x = a(y-h)^2 + k\"\"\"\n    a = 110.0 / 160.0**2\n    x = a * y**2 + 0.0\n    return x, y\n\n\nx, y = path(np.arange(model.bounds[2], model.bounds[3], 15.0))\nzo = np.linspace(9.0, 11.0, num=len(y))\npoints = np.c_[x, y, zo]\nspline = pv.Spline(points, 15)\nspline"
      ]
    },
    {
      "cell_type": "markdown",
      "metadata": {},
      "source": [
        "Then run the filter\n"
      ]
    },
    {
      "cell_type": "code",
      "execution_count": null,
      "metadata": {
        "collapsed": false
      },
      "outputs": [],
      "source": [
        "slc = model.slice_along_line(spline)\nslc"
      ]
    },
    {
      "cell_type": "code",
      "execution_count": null,
      "metadata": {
        "collapsed": false
      },
      "outputs": [],
      "source": [
        "p = pv.Plotter()\np.add_mesh(slc, cmap=cmap)\np.add_mesh(model.outline())\np.show(cpos=[1, -1, 1])"
      ]
    },
    {
      "cell_type": "markdown",
      "metadata": {},
      "source": [
        "Multiple Slices in Vector Direction\n===================================\n\nSlice a mesh along a vector direction perpendicularly.\n"
      ]
    },
    {
      "cell_type": "code",
      "execution_count": null,
      "metadata": {
        "collapsed": false
      },
      "outputs": [],
      "source": [
        "mesh = examples.download_brain()\n\n# Create vector\nvec = np.array([1.0, 2.0, 1.0])\n# Normalize the vector\nnormal = vec / np.linalg.norm(vec)\n\n# Make points along that vector for the extent of your slices\na = mesh.center + normal * mesh.length / 3.0\nb = mesh.center - normal * mesh.length / 3.0\n\n# Define the line/points for the slices\nn_slices = 5\nline = pv.Line(a, b, n_slices)\n\n# Generate all of the slices\nslices = pv.MultiBlock()\nfor point in line.points:\n    slices.append(mesh.slice(normal=normal, origin=point))"
      ]
    },
    {
      "cell_type": "code",
      "execution_count": null,
      "metadata": {
        "collapsed": false
      },
      "outputs": [],
      "source": [
        "p = pv.Plotter()\np.add_mesh(mesh.outline(), color=\"k\")\np.add_mesh(slices, opacity=0.75)\np.add_mesh(line, color=\"red\", line_width=5)\np.show()"
      ]
    },
    {
      "cell_type": "markdown",
      "metadata": {},
      "source": [
        "Slice At Different Bearings\n===========================\n\nFrom\n[pyvista-support\\#23](https://github.com/pyvista/pyvista-support/issues/23)\n\nAn example of how to get many slices at different bearings all centered\naround a user-chosen location.\n\nCreate a point to orient slices around\n"
      ]
    },
    {
      "cell_type": "code",
      "execution_count": null,
      "metadata": {
        "collapsed": false
      },
      "outputs": [],
      "source": [
        "ranges = np.array(model.bounds).reshape(-1, 2).ptp(axis=1)\npoint = np.array(model.center) - ranges * 0.25"
      ]
    },
    {
      "cell_type": "markdown",
      "metadata": {},
      "source": [
        "Now generate a few normal vectors to rotate a slice around the z-axis.\nUse equation for circle since its about the Z-axis.\n"
      ]
    },
    {
      "cell_type": "code",
      "execution_count": null,
      "metadata": {
        "collapsed": false
      },
      "outputs": [],
      "source": [
        "increment = np.pi / 6.0\n# use a container to hold all the slices\nslices = pv.MultiBlock()  # treat like a dictionary/list\nfor theta in np.arange(0, np.pi, increment):\n    normal = np.array([np.cos(theta), np.sin(theta), 0.0]).dot(np.pi / 2.0)\n    name = f'Bearing: {np.rad2deg(theta):.2f}'\n    slices[name] = model.slice(origin=point, normal=normal)\nslices"
      ]
    },
    {
      "cell_type": "markdown",
      "metadata": {},
      "source": [
        "And now display it.\n"
      ]
    },
    {
      "cell_type": "code",
      "execution_count": null,
      "metadata": {
        "collapsed": false
      },
      "outputs": [],
      "source": [
        "p = pv.Plotter()\np.add_mesh(slices, cmap=cmap)\np.add_mesh(model.outline())\np.show()"
      ]
    }
  ],
  "metadata": {
    "kernelspec": {
      "display_name": "Python 3",
      "language": "python",
      "name": "python3"
    },
    "language_info": {
      "codemirror_mode": {
        "name": "ipython",
        "version": 3
      },
      "file_extension": ".py",
      "mimetype": "text/x-python",
      "name": "python",
      "nbconvert_exporter": "python",
      "pygments_lexer": "ipython3",
      "version": "3.12.0"
    }
  },
  "nbformat": 4,
  "nbformat_minor": 0
}