{
  "cells": [
    {
      "cell_type": "code",
      "execution_count": null,
      "metadata": {
        "collapsed": false
      },
      "outputs": [],
      "source": [
        "%matplotlib inline\nfrom pyvista import set_plot_theme\nset_plot_theme('document')"
      ]
    },
    {
      "cell_type": "markdown",
      "metadata": {},
      "source": [
        "Electronics Cooling CFD {#openfoam_cooling_example}\n=======================\n\nPlot an electronics cooling CFD example from OpenFoam hosted on the\npublic SimScale examples at [SimScale Project\nLibrary](https://www.simscale.com/projects/) and generated from the\n[Thermal Management Tutorial: CHT Analysis of an Electronics\nBox](https://www.simscale.com/docs/tutorials/thermal-management-cht-analysis-electronics-box/).\n\nThis example dataset was read using the\n`pyvista.POpenFOAMReader`{.interpreted-text role=\"class\"} and post\nprocessed according to this\n[README.md](https://github.com/pyvista/vtk-data/blob/master/Data/fvm/cooling_electronics/README.md).\n"
      ]
    },
    {
      "cell_type": "code",
      "execution_count": null,
      "metadata": {
        "collapsed": false
      },
      "outputs": [],
      "source": [
        "import numpy as np\n\nimport pyvista as pv\nfrom pyvista import examples"
      ]
    },
    {
      "cell_type": "markdown",
      "metadata": {},
      "source": [
        "Load the Datasets\n=================\n\nDownload and load the datasets.\n\nThe `structure` dataset consists of a box with several components, being\ncooled down by a fan, while the `air` dataset is the air, containing\nseveral scalar arrays including the velocity and temperature of the air.\n"
      ]
    },
    {
      "cell_type": "code",
      "execution_count": null,
      "metadata": {
        "collapsed": false
      },
      "outputs": [],
      "source": [
        "structure, air = examples.download_electronics_cooling()\nstructure, air"
      ]
    },
    {
      "cell_type": "markdown",
      "metadata": {},
      "source": [
        "Plot the Electronics\n====================\n\nHere we plot the temperature of the electronics using the `\"reds\"`\ncolormap and improve the look of the plot using surface space ambient\nocclusion with\n`enable_ssao() <pyvista.Plotter.enable_ssao>`{.interpreted-text\nrole=\"func\"}.\n"
      ]
    },
    {
      "cell_type": "code",
      "execution_count": null,
      "metadata": {
        "collapsed": false
      },
      "outputs": [],
      "source": [
        "pl = pv.Plotter()\npl.enable_ssao(radius=0.01)\npl.add_mesh(\n    structure, scalars='T', smooth_shading=True, split_sharp_edges=True, cmap='reds', ambient=0.2\n)\npl.enable_anti_aliasing('fxaa')  # also try 'ssaa'\npl.show()"
      ]
    },
    {
      "cell_type": "markdown",
      "metadata": {},
      "source": [
        "Plot Air Velocity\n=================\n\nLet\\'s plot the velocity of the air.\n\nStart by clipping the air dataset with `clip()\n<pyvista.DataSetFilters.clip>`{.interpreted-text role=\"func\"} and\nplotting it alongside the electronics.\n\nAs you can see, the air enters from the front of the case (left) and is\nbeing pushed out of the \\\"back\\\" of the case via a fan.\n"
      ]
    },
    {
      "cell_type": "code",
      "execution_count": null,
      "metadata": {
        "collapsed": false
      },
      "outputs": [],
      "source": [
        "# Clip the air in the XY plane\nz_slice = air.clip('z', value=-0.005)\n\n# Plot it\npl = pv.Plotter()\npl.enable_ssao(radius=0.01)\npl.add_mesh(z_slice, scalars='U', lighting=False, scalar_bar_args={'title': 'Velocity'})\npl.add_mesh(structure, color='w', smooth_shading=True, split_sharp_edges=True)\npl.camera_position = 'xy'\npl.camera.roll = 90\npl.enable_anti_aliasing('fxaa')\npl.show()"
      ]
    },
    {
      "cell_type": "markdown",
      "metadata": {},
      "source": [
        "Plot Air Temperature\n====================\n\nLet\\'s also plot the temperature of the air. This time, let\\'s also plot\nthe temperature of the components.\n"
      ]
    },
    {
      "cell_type": "code",
      "execution_count": null,
      "metadata": {
        "collapsed": false
      },
      "outputs": [],
      "source": [
        "pl = pv.Plotter()\npl.enable_ssao(radius=0.01)\npl.add_mesh(\n    z_slice, scalars='T', lighting=False, scalar_bar_args={'title': 'Temperature'}, cmap='reds'\n)\npl.add_mesh(\n    structure,\n    scalars='T',\n    smooth_shading=True,\n    split_sharp_edges=True,\n    cmap='reds',\n    show_scalar_bar=False,\n)\npl.camera_position = 'xy'\npl.camera.roll = 90\npl.enable_anti_aliasing('fxaa')\npl.show()"
      ]
    },
    {
      "cell_type": "markdown",
      "metadata": {},
      "source": [
        "Plot Streamlines - Flow Velocity\n================================\n\nNow, let\\'s plot the streamlines of this dataset so we can see how the\nair is flowing through the case.\n\nGenerate streamlines using `streamlines_from_source()\n<pyvista.DataSetFilters.streamlines_from_source>`{.interpreted-text\nrole=\"func\"}.\n"
      ]
    },
    {
      "cell_type": "code",
      "execution_count": null,
      "metadata": {
        "collapsed": false
      },
      "outputs": [],
      "source": [
        "# Have our streamlines start from the regular openings of the case.\npoints = []\nfor x in np.linspace(0.045, 0.105, 7, endpoint=True):\n    points.extend([x, 0.2, z] for z in np.linspace(0, 0.03, 5))\npoints = pv.PointSet(points)\nlines = air.streamlines_from_source(points, max_time=2.0)\n\n# Plot\npl = pv.Plotter()\npl.enable_ssao(radius=0.01)\npl.add_mesh(lines, line_width=2, scalars='T', cmap='reds', scalar_bar_args={'title': 'Temperature'})\npl.add_mesh(\n    structure,\n    scalars='T',\n    smooth_shading=True,\n    split_sharp_edges=True,\n    cmap='reds',\n    show_scalar_bar=False,\n)\npl.camera_position = 'xy'\npl.camera.roll = 90\npl.enable_anti_aliasing('fxaa')  # also try 'ssaa'\npl.show()"
      ]
    },
    {
      "cell_type": "markdown",
      "metadata": {},
      "source": [
        "Volumetric Plot - Visualize High Temperatures\n=============================================\n\nShow a 3D plot of areas of temperature.\n\nFor this example, we will first sample the results from the\n`pyvista.UnstructuredGrid`{.interpreted-text role=\"class\"} onto a\n`pyvista.ImageData`{.interpreted-text role=\"class\"} using\n`sample() <pyvista.DataSetFilters.sample>`{.interpreted-text\nrole=\"func\"}. This is so we can visualize it using\n`add_volume() <pyvista.Plotter.add_volume>`{.interpreted-text\nrole=\"func\"}\n"
      ]
    },
    {
      "cell_type": "code",
      "execution_count": null,
      "metadata": {
        "collapsed": false
      },
      "outputs": [],
      "source": [
        "bounds = np.array(air.bounds) * 1.2\norigin = (bounds[0], bounds[2], bounds[4])\nspacing = (0.002, 0.002, 0.002)\ndimensions = (\n    int((bounds[1] - bounds[0]) // spacing[0] + 2),\n    int((bounds[3] - bounds[2]) // spacing[1] + 2),\n    int((bounds[5] - bounds[4]) // spacing[2] + 2),\n)\ngrid = pv.ImageData(dimensions=dimensions, spacing=spacing, origin=origin)\ngrid = grid.sample(air)\n\nopac = np.zeros(20)\nopac[1:] = np.geomspace(1e-7, 0.1, 19)\nopac[-5:] = [0.05, 0.1, 0.5, 0.5, 0.5]\n\npl = pv.Plotter()\npl.add_mesh(structure, color='w', smooth_shading=True, split_sharp_edges=True)\nvol = pl.add_volume(\n    grid,\n    scalars='T',\n    opacity=opac,\n    cmap='autumn_r',\n    show_scalar_bar=True,\n    scalar_bar_args={'title': 'Temperature'},\n)\nvol.prop.interpolation_type = 'linear'\npl.camera.zoom(2)\npl.show()"
      ]
    }
  ],
  "metadata": {
    "kernelspec": {
      "display_name": "Python 3",
      "language": "python",
      "name": "python3"
    },
    "language_info": {
      "codemirror_mode": {
        "name": "ipython",
        "version": 3
      },
      "file_extension": ".py",
      "mimetype": "text/x-python",
      "name": "python",
      "nbconvert_exporter": "python",
      "pygments_lexer": "ipython3",
      "version": "3.11.4"
    }
  },
  "nbformat": 4,
  "nbformat_minor": 0
}