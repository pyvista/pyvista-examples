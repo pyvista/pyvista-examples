{
  "cells": [
    {
      "cell_type": "code",
      "execution_count": null,
      "metadata": {
        "collapsed": false
      },
      "outputs": [],
      "source": [
        "%matplotlib inline\nfrom pyvista import set_plot_theme\nset_plot_theme('document')"
      ]
    },
    {
      "cell_type": "markdown",
      "metadata": {},
      "source": [
        "3D Earth and Celestial Bodies {#planets_example}\n=============================\n\nPlot the solar system in PyVista.\n\nThis example is inspired by\n[planet3D-MATLAB](https://github.com/tamaskis/planet3D-MATLAB).\n\n::: {.note}\n::: {.admonition-title}\nNote\n:::\n\nThe purpose of this example is to demonstrate plotting celestial bodies\nand may lack astronomical precision. There may be inaccuracies in the\nrepresentation, so please take care when reusing or repurposing this\nexample.\n\nPlease take a look at libraries like [astropy](https://www.astropy.org/)\nif you wish to use Python for astronomical calculations.\n:::\n"
      ]
    },
    {
      "cell_type": "code",
      "execution_count": null,
      "metadata": {
        "collapsed": false
      },
      "outputs": [],
      "source": [
        "import pyvista\nfrom pyvista import examples"
      ]
    },
    {
      "cell_type": "markdown",
      "metadata": {},
      "source": [
        "Plot the Solar System with Stars in the Background\n==================================================\n\nThis section relies on calculations in [Visualizing Celestial Bodies in\n3D](https://tamaskis.github.io/files/Visualizing_Celestial_Bodies_in_3D.pdf).\n"
      ]
    },
    {
      "cell_type": "code",
      "execution_count": null,
      "metadata": {
        "collapsed": false
      },
      "outputs": [],
      "source": [
        "# Light of the Sun.\nlight = pyvista.Light()\nlight.set_direction_angle(30, -20)\n\n# Load planets\nmercury = examples.planets.load_mercury(radius=2439.0)\nvenus = examples.planets.load_venus(radius=6052.0)\nearth = examples.planets.load_earth(radius=6378.1)\nmars = examples.planets.load_mars(radius=3397.2)\njupiter = examples.planets.load_jupiter(radius=71492.0)\nsaturn = examples.planets.load_saturn(radius=60268.0)\n# Saturn's rings range from 7000.0 km to 80000.0 km from the surface of the planet\ninner = 60268.0 + 7000.0\nouter = 60268.0 + 80000.0\nsaturn_rings = examples.planets.load_saturn_rings(inner=inner, outer=outer, c_res=50)\nuranus = examples.planets.load_uranus(radius=25559.0)\nneptune = examples.planets.load_neptune(radius=24764.0)\npluto = examples.planets.load_pluto(radius=1151.0)\n\n# Move planets to a nice position for the plotter. These numbers are not\n# grounded in reality and are for demonstration purposes only.\nmercury.translate((0.0, 0.0, 0.0), inplace=True)\nvenus.translate((-15000.0, 0.0, 0.0), inplace=True)\nearth.translate((-30000.0, 0.0, 0.0), inplace=True)\nmars.translate((-45000.0, 0.0, 0.0), inplace=True)\njupiter.translate((-150000.0, 0.0, 0.0), inplace=True)\nsaturn.translate((-400000.0, 0.0, 0.0), inplace=True)\nsaturn_rings.translate((-400000.0, 0.0, 0.0), inplace=True)\nuranus.translate((-600000.0, 0.0, 0.0), inplace=True)\nneptune.translate((-700000.0, 0.0, 0.0), inplace=True)\n\n# Add planets to Plotter.\npl = pyvista.Plotter(lighting=\"none\")\ncubemap = examples.download_cubemap_space_16k()\n_ = pl.add_actor(cubemap.to_skybox())\npl.set_environment_texture(cubemap, True)\npl.add_light(light)\npl.add_mesh(mercury, smooth_shading=True)\npl.add_mesh(venus, smooth_shading=True)\npl.add_mesh(earth, smooth_shading=True)\npl.add_mesh(mars, smooth_shading=True)\npl.add_mesh(jupiter, smooth_shading=True)\npl.add_mesh(saturn, smooth_shading=True)\npl.add_mesh(saturn_rings, smooth_shading=True)\npl.add_mesh(uranus, smooth_shading=True)\npl.add_mesh(neptune, smooth_shading=True)\npl.add_mesh(pluto, smooth_shading=True)\npl.show()"
      ]
    },
    {
      "cell_type": "markdown",
      "metadata": {},
      "source": [
        "Plot the Planets and their Textures\n===================================\n\nEach planet here is in a different subplot. The planet\\'s textures are\nfrom [Solar Textures](https://www.solarsystemscope.com/textures/).\n"
      ]
    },
    {
      "cell_type": "code",
      "execution_count": null,
      "metadata": {
        "collapsed": false
      },
      "outputs": [],
      "source": [
        "pl = pyvista.Plotter(shape=(3, 2))\npl.subplot(0, 0)\npl.add_text(\"Mercury\")\npl.add_mesh(examples.planets.download_mercury_surface(), rgb=True)\npl.subplot(0, 1)\npl.add_mesh(examples.planets.load_mercury())\npl.subplot(1, 0)\npl.add_text(\"Venus\")\npl.add_mesh(examples.planets.download_venus_surface(atmosphere=True), rgb=True)\npl.subplot(1, 1)\npl.add_mesh(examples.planets.load_venus())\npl.subplot(2, 0)\npl.add_text(\"Mars\")\npl.add_mesh(examples.planets.download_mars_surface(), rgb=True)\npl.subplot(2, 1)\npl.add_mesh(examples.planets.load_mars())\npl.show(cpos=\"xy\")"
      ]
    },
    {
      "cell_type": "markdown",
      "metadata": {},
      "source": [
        "Plot the Atmosphere and Surface of Venus\n========================================\n\nHere we plot Venus with and without its atmosphere.\n"
      ]
    },
    {
      "cell_type": "code",
      "execution_count": null,
      "metadata": {
        "collapsed": false
      },
      "outputs": [],
      "source": [
        "venus = examples.planets.load_venus()\npl = pyvista.Plotter(shape=(1, 2))\npl.subplot(0, 0)\npl.add_text(\"Venus Atmosphere\")\npl.add_mesh(venus, texture=\"atmosphere\", smooth_shading=True)\npl.subplot(0, 1)\npl.add_text(\"Venus Surface\")\npl.add_mesh(venus, texture=\"surface\", smooth_shading=True)\npl.link_views()\npl.show(cpos=\"xy\")"
      ]
    }
  ],
  "metadata": {
    "kernelspec": {
      "display_name": "Python 3",
      "language": "python",
      "name": "python3"
    },
    "language_info": {
      "codemirror_mode": {
        "name": "ipython",
        "version": 3
      },
      "file_extension": ".py",
      "mimetype": "text/x-python",
      "name": "python",
      "nbconvert_exporter": "python",
      "pygments_lexer": "ipython3",
      "version": "3.11.3"
    }
  },
  "nbformat": 4,
  "nbformat_minor": 0
}