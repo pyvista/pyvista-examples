{
  "cells": [
    {
      "cell_type": "code",
      "execution_count": null,
      "metadata": {
        "collapsed": false
      },
      "outputs": [],
      "source": [
        "%matplotlib inline"
      ]
    },
    {
      "cell_type": "markdown",
      "metadata": {},
      "source": [
        "Visualize Anatomical Groups {#anatomical_groups_example}\n===========================\n\nThis example visualizes different anatomical groups using the\nsegmentation labels available from the downloadable datasets\n`~pyvista.examples.downloads.download_whole_body_ct_female`{.interpreted-text\nrole=\"func\"} and\n`~pyvista.examples.downloads.download_whole_body_ct_male`{.interpreted-text\nrole=\"func\"}.\n\nThese datasets include labels for 117 anatomical structures. In this\nexample, the labels are grouped by filtering the list of labels and\ncoloring the labels with the recommended RGB values used by the 3DSlicer\n[TotalSegmentator\nExtension](https://github.com/lassoan/SlicerTotalSegmentator).\n"
      ]
    },
    {
      "cell_type": "code",
      "execution_count": null,
      "metadata": {
        "collapsed": false
      },
      "outputs": [],
      "source": [
        "from __future__ import annotations\n\nimport pyvista as pv\nfrom pyvista import examples"
      ]
    },
    {
      "cell_type": "markdown",
      "metadata": {},
      "source": [
        "Load Dataset\n============\n\nLoad a TotalSegmentator dataset. Can be the\n`male <pyvista.examples.downloads.download_whole_body_ct_male>`{.interpreted-text\nrole=\"func\"} or\n`female <pyvista.examples.downloads.download_whole_body_ct_female>`{.interpreted-text\nrole=\"func\"} female subjects included with [PyVista]{.title-ref}, or any\nother subject from the [TotalSegmentator\ndataset](https://zenodo.org/records/10047292).\n"
      ]
    },
    {
      "cell_type": "code",
      "execution_count": null,
      "metadata": {
        "collapsed": false
      },
      "outputs": [],
      "source": [
        "dataset = examples.download_whole_body_ct_female()"
      ]
    },
    {
      "cell_type": "markdown",
      "metadata": {},
      "source": [
        "Get the label map used for plotting different anatomical groups.\n"
      ]
    },
    {
      "cell_type": "code",
      "execution_count": null,
      "metadata": {
        "collapsed": false
      },
      "outputs": [],
      "source": [
        "label_map = dataset['label_map']"
      ]
    },
    {
      "cell_type": "markdown",
      "metadata": {},
      "source": [
        "Get metadata associated with the dataset\n"
      ]
    },
    {
      "cell_type": "code",
      "execution_count": null,
      "metadata": {
        "collapsed": false
      },
      "outputs": [],
      "source": [
        "# Get a list of all label names. This list will be filtered by group.\nlabel_names = dataset['segmentations'].keys()\n\n# Get color and id mappings included with the dataset. These are used to filter and\n# color the contours.\nnames_to_colors = dataset.user_dict['names_to_colors']\nnames_to_ids = dataset.user_dict['names_to_ids']\nids_to_colors = dataset.user_dict['ids_to_colors']"
      ]
    },
    {
      "cell_type": "markdown",
      "metadata": {},
      "source": [
        "Color Mapping\n=============\n\nShow the color mapping included with the dataset. Print the dictionary\nand format it to visually align the RGB values. The formatted dictionary\nis valid python code.\n"
      ]
    },
    {
      "cell_type": "code",
      "execution_count": null,
      "metadata": {
        "collapsed": false
      },
      "outputs": [],
      "source": [
        "print('{')\nfor name, (R, G, B) in names_to_colors.items():\n    print(f'{name!r:<32}: ({R:>3}, {G:>3}, {B:>3}),')\nprint('}')"
      ]
    },
    {
      "cell_type": "markdown",
      "metadata": {},
      "source": [
        "Utility Functions\n=================\n\nDefine helper functions to visualize the data.\n"
      ]
    },
    {
      "cell_type": "markdown",
      "metadata": {},
      "source": [
        "filter\\_labels\n==============\n\nTo visualize a particular group of anatomic regions, we first define a\nfunction to filter the labels by name. Given a list of terms, the\nfunction returns any label which contains any of the search terms.\n"
      ]
    },
    {
      "cell_type": "code",
      "execution_count": null,
      "metadata": {
        "collapsed": false
      },
      "outputs": [],
      "source": [
        "def filter_labels(label_names: list[str], search_terms: list[str]):\n    def include_label(label_name: str):\n        return any(target in label_name for target in search_terms)\n\n    return [label for label in label_names if include_label(label)]"
      ]
    },
    {
      "cell_type": "markdown",
      "metadata": {},
      "source": [
        "plot\\_anatomy\n=============\n\nDefine a function which, given a list of terms, will look up labels\nassociated with those terms, generate contours for the labels, and plot\nthe result. The function uses\n`~pyvista.ImageDataFilters.contour_labels`{.interpreted-text\nrole=\"meth\"} for generating contours and\n`~pyvista.DataSetFilters.color_labels`{.interpreted-text role=\"meth\"}\nfor coloring them.\n"
      ]
    },
    {
      "cell_type": "code",
      "execution_count": null,
      "metadata": {
        "collapsed": false
      },
      "outputs": [],
      "source": [
        "def plot_anatomy(search_terms: list[str]):\n    # Get a list of labels which contain any of the listed terms.\n    group_names = filter_labels(label_names, search_terms)\n\n    # Get the label ids corresponding to the matched labels.\n    group_ids = [names_to_ids[name] for name in group_names]\n\n    # Selectively generate surfaces for the specified labels\n    group_surface = dataset['label_map'].contour_labels(select_inputs=group_ids)\n\n    # Color the labels with the color mapping\n    colored_surface = group_surface.color_labels(colors=ids_to_colors)\n\n    # Plot the label map.\n    pl = pv.Plotter()\n    pl.add_mesh(colored_surface)\n    pl.view_zx()\n    pl.camera.up = (0, 0, 1)\n    pl.show()"
      ]
    },
    {
      "cell_type": "markdown",
      "metadata": {},
      "source": [
        "Anatomical Groups\n=================\n\nGroup the labels and visualize the result.\n"
      ]
    },
    {
      "cell_type": "markdown",
      "metadata": {},
      "source": [
        "Cardiovascular System\n=====================\n\nShow segments of the cardiovascular system.\n"
      ]
    },
    {
      "cell_type": "code",
      "execution_count": null,
      "metadata": {
        "collapsed": false
      },
      "outputs": [],
      "source": [
        "# Define terms which describe all relevant segments.\ncardio = [\n    'heart',\n    'aorta',\n    'artery',\n    'brachiocephalic_trunk',\n    'vein',\n    'atrial_appendage',\n    'vena_cava',\n]\n\n# Plot the labels associated with these terms.\nplot_anatomy(cardio)"
      ]
    },
    {
      "cell_type": "markdown",
      "metadata": {},
      "source": [
        "Gastrointestinal System\n=======================\n\nShow segments of the gastrointestinal system.\n"
      ]
    },
    {
      "cell_type": "code",
      "execution_count": null,
      "metadata": {
        "collapsed": false
      },
      "outputs": [],
      "source": [
        "# Define terms which describe all relevant segments.\ngastro = [\n    'esophagus',\n    'stomach',\n    'duodenum',\n    'small_bowel',\n    'colon',\n    'urinary_bladder',\n]\n\n# Plot the labels associated with these terms.\nplot_anatomy(gastro)"
      ]
    },
    {
      "cell_type": "markdown",
      "metadata": {},
      "source": [
        "Spine\n=====\n\nShow segments of the spinal.\n"
      ]
    },
    {
      "cell_type": "code",
      "execution_count": null,
      "metadata": {
        "collapsed": false
      },
      "outputs": [],
      "source": [
        "# Define terms which describe all relevant segments.\nspine = [\n    'spinal_cord',\n    'vertebrae',\n    'sacrum',\n]\n\n# Plot the labels associated with these terms.\nplot_anatomy(spine)"
      ]
    },
    {
      "cell_type": "markdown",
      "metadata": {},
      "source": [
        "Other Organs\n============\n\nShow other organs not included in the cardiovascular or gastrointestinal\nsystems.\n"
      ]
    },
    {
      "cell_type": "code",
      "execution_count": null,
      "metadata": {
        "collapsed": false
      },
      "outputs": [],
      "source": [
        "# Define terms which describe all relevant segments.\nother_organs = [\n    'brain',\n    'spinal_cord',\n    'thyroid_gland',\n    'trachea',\n    'lung',\n    'adrenal_gland',\n    'spleen',\n    'liver',\n    'gallbladder',\n    'kidney',\n    'pancreas',\n    'prostate',\n]\n\n# Plot the labels associated with these terms.\nplot_anatomy(other_organs)"
      ]
    },
    {
      "cell_type": "markdown",
      "metadata": {},
      "source": [
        "Muscles\n=======\n\nShow the muscles.\n"
      ]
    },
    {
      "cell_type": "code",
      "execution_count": null,
      "metadata": {
        "collapsed": false
      },
      "outputs": [],
      "source": [
        "# Define terms which describe all relevant segments.\nmuscles = [\n    'gluteus',\n    'autochthon',\n    'iliopsoas',\n]\n\n# Plot the labels associated with these terms.\nplot_anatomy(muscles)"
      ]
    },
    {
      "cell_type": "markdown",
      "metadata": {},
      "source": [
        "Ribs\n====\n\nShow the ribs.\n"
      ]
    },
    {
      "cell_type": "code",
      "execution_count": null,
      "metadata": {
        "collapsed": false
      },
      "outputs": [],
      "source": [
        "# Define terms which describe all relevant segments.\nribs = [\n    'rib',\n    'sternum',\n    'costal_cartilages',\n]\n\n# Plot the labels associated with these terms.\nplot_anatomy(ribs)"
      ]
    },
    {
      "cell_type": "markdown",
      "metadata": {},
      "source": [
        "Skeleton\n========\n\nShow the skeleton.\n"
      ]
    },
    {
      "cell_type": "code",
      "execution_count": null,
      "metadata": {
        "collapsed": false
      },
      "outputs": [],
      "source": [
        "# Define terms which describe all relevant segments.\nskeleton = [\n    'skull',\n    'clavicula',\n    'scapula',\n    'humerus',\n    'vertebrae',\n    'sternum',\n    'rib',\n    'costal_cartilages',\n    'hip',\n    'sacrum',\n    'femur',\n]\n\n# Plot the labels associated with these terms.\nplot_anatomy(skeleton)"
      ]
    },
    {
      "cell_type": "markdown",
      "metadata": {},
      "source": [
        "::: {.tags}\nmedical\n:::\n"
      ]
    }
  ],
  "metadata": {
    "kernelspec": {
      "display_name": "Python 3",
      "language": "python",
      "name": "python3"
    },
    "language_info": {
      "codemirror_mode": {
        "name": "ipython",
        "version": 3
      },
      "file_extension": ".py",
      "mimetype": "text/x-python",
      "name": "python",
      "nbconvert_exporter": "python",
      "pygments_lexer": "ipython3",
      "version": "3.13.3"
    }
  },
  "nbformat": 4,
  "nbformat_minor": 0
}