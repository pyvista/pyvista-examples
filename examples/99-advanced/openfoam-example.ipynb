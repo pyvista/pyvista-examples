{
  "cells": [
    {
      "cell_type": "code",
      "execution_count": null,
      "metadata": {
        "collapsed": false
      },
      "outputs": [],
      "source": [
        "%matplotlib inline\nfrom pyvista import set_plot_theme\nset_plot_theme('document')"
      ]
    },
    {
      "cell_type": "markdown",
      "metadata": {},
      "source": [
        "Plot OpenFOAM data {#openfoam_example}\n==================\n"
      ]
    },
    {
      "cell_type": "code",
      "execution_count": null,
      "metadata": {
        "collapsed": false
      },
      "outputs": [],
      "source": [
        "import pyvista\nfrom pyvista import examples"
      ]
    },
    {
      "cell_type": "markdown",
      "metadata": {},
      "source": [
        "This example uses data from a lid-driven cavity flow. It is recommended\nto use `pyvista.POpenFOAMReader`{.interpreted-text role=\"class\"} for\nreading OpenFOAM files for more control over reading data.\n\nThis example will only run correctly in versions of vtk\\>=9.1.0. The\nnames of the patch arrays and resulting keys in the read mesh will be\ndifferent in prior versions.\n"
      ]
    },
    {
      "cell_type": "code",
      "execution_count": null,
      "metadata": {
        "collapsed": false
      },
      "outputs": [],
      "source": [
        "filename = examples.download_cavity(load=False)\nreader = pyvista.POpenFOAMReader(filename)"
      ]
    },
    {
      "cell_type": "markdown",
      "metadata": {},
      "source": [
        "OpenFOAM datasets include multiple sub-datasets including the internal\nmesh and patches, typically boundaries. This can be inspected before\nreading the data.\n"
      ]
    },
    {
      "cell_type": "code",
      "execution_count": null,
      "metadata": {
        "collapsed": false
      },
      "outputs": [],
      "source": [
        "print(f\"All patch names: {reader.patch_array_names}\")\nprint(f\"All patch status: {reader.all_patch_arrays_status}\")"
      ]
    },
    {
      "cell_type": "markdown",
      "metadata": {},
      "source": [
        "This data is represented as a `pyvista.MultiBlock`{.interpreted-text\nrole=\"class\"} object. The internal mesh will be located in the top-level\nMultiBlock mesh.\n"
      ]
    },
    {
      "cell_type": "code",
      "execution_count": null,
      "metadata": {
        "collapsed": false
      },
      "outputs": [],
      "source": [
        "mesh = reader.read()\nprint(f\"Mesh patches: {mesh.keys()}\")\ninternal_mesh = mesh[\"internalMesh\"]  # or internal_mesh = mesh[0]"
      ]
    },
    {
      "cell_type": "markdown",
      "metadata": {},
      "source": [
        "In this case the internal mesh is a\n`pyvista.UnstructuredGrid`{.interpreted-text role=\"class\"}.\n"
      ]
    },
    {
      "cell_type": "code",
      "execution_count": null,
      "metadata": {
        "collapsed": false
      },
      "outputs": [],
      "source": [
        "print(internal_mesh)"
      ]
    },
    {
      "cell_type": "markdown",
      "metadata": {},
      "source": [
        "Additional Patch meshes are nested inside another MultiBlock mesh. The\nname of the sub-level MultiBlock mesh depends on the vtk version.\n"
      ]
    },
    {
      "cell_type": "code",
      "execution_count": null,
      "metadata": {
        "collapsed": false
      },
      "outputs": [],
      "source": [
        "boundaries = mesh[\"boundary\"]\nprint(boundaries)\nprint(f\"Boundaries patches: {boundaries.keys()}\")\nprint(boundaries[\"movingWall\"])"
      ]
    },
    {
      "cell_type": "markdown",
      "metadata": {},
      "source": [
        "The default in OpenFOAMReader is to translate the existing cell data to\npoint data. Therefore, the cell data arrays are duplicated in point\ndata.\n"
      ]
    },
    {
      "cell_type": "code",
      "execution_count": null,
      "metadata": {
        "collapsed": false
      },
      "outputs": [],
      "source": [
        "print(\"Cell Data:\")\nprint(internal_mesh.cell_data)\nprint(\"\\nPoint Data:\")\nprint(internal_mesh.point_data)"
      ]
    },
    {
      "cell_type": "markdown",
      "metadata": {},
      "source": [
        "This behavior can be turned off if only cell data is required.\n"
      ]
    },
    {
      "cell_type": "code",
      "execution_count": null,
      "metadata": {
        "collapsed": false
      },
      "outputs": [],
      "source": [
        "reader.cell_to_point_creation = False\ninternal_mesh = reader.read()[\"internalMesh\"]\nprint(\"Cell Data:\")\nprint(internal_mesh.cell_data)\nprint(\"\\nPoint Data:\")\nprint(internal_mesh.point_data)"
      ]
    },
    {
      "cell_type": "markdown",
      "metadata": {},
      "source": [
        "Now we will read in all the data at the last time point.\n"
      ]
    },
    {
      "cell_type": "code",
      "execution_count": null,
      "metadata": {
        "collapsed": false
      },
      "outputs": [],
      "source": [
        "print(f\"Available Time Values: {reader.time_values}\")\nreader.set_active_time_value(2.5)\nreader.cell_to_point_creation = True  # Need point data for streamlines\nmesh = reader.read()\ninternal_mesh = mesh[\"internalMesh\"]\nboundaries = mesh[\"boundary\"]"
      ]
    },
    {
      "cell_type": "markdown",
      "metadata": {},
      "source": [
        "This OpenFOAM simulation is in 3D with only 1 cell in the z-direction.\nFirst, the solution is sliced in the center of the z-direction.\n`pyvista.DataSetFilters.streamlines_evenly_spaced_2D`{.interpreted-text\nrole=\"func\"} requires the data to lie in the z=0 plane. So, after the\ndomain sliced, it is translated to `z=0`.\n"
      ]
    },
    {
      "cell_type": "code",
      "execution_count": null,
      "metadata": {
        "collapsed": false
      },
      "outputs": [],
      "source": [
        "def slice_z_center(mesh):\n    \"\"\"Slice mesh through center in z normal direction, move to z=0.\"\"\"\n    slice_mesh = mesh.slice(normal='z')\n    slice_mesh.translate((0, 0, -slice_mesh.center[-1]), inplace=True)\n    return slice_mesh\n\n\nslice_internal_mesh = slice_z_center(internal_mesh)\nslice_boundaries = pyvista.MultiBlock(\n    {key: slice_z_center(boundaries[key]) for key in boundaries.keys()}\n)"
      ]
    },
    {
      "cell_type": "markdown",
      "metadata": {},
      "source": [
        "Streamlines are generated using the point data \\\"U\\\".\n"
      ]
    },
    {
      "cell_type": "code",
      "execution_count": null,
      "metadata": {
        "collapsed": false
      },
      "outputs": [],
      "source": [
        "streamlines = slice_internal_mesh.streamlines_evenly_spaced_2D(\n    vectors='U',\n    start_position=(0.05, 0.05, 0),\n    separating_distance=1,\n    separating_distance_ratio=0.1,\n)"
      ]
    },
    {
      "cell_type": "markdown",
      "metadata": {},
      "source": [
        "Plot streamlines colored by velocity magnitude. Additionally, the moving\nand fixed wall boundaries are plotted.\n"
      ]
    },
    {
      "cell_type": "code",
      "execution_count": null,
      "metadata": {
        "collapsed": false
      },
      "outputs": [],
      "source": [
        "plotter = pyvista.Plotter()\nplotter.add_mesh(slice_boundaries[\"movingWall\"], color='red', line_width=3)\nplotter.add_mesh(slice_boundaries[\"fixedWalls\"], color='black', line_width=3)\nplotter.add_mesh(streamlines.tube(radius=0.0005), scalars=\"U\")\nplotter.view_xy()\nplotter.enable_parallel_projection()\nplotter.show()"
      ]
    }
  ],
  "metadata": {
    "kernelspec": {
      "display_name": "Python 3",
      "language": "python",
      "name": "python3"
    },
    "language_info": {
      "codemirror_mode": {
        "name": "ipython",
        "version": 3
      },
      "file_extension": ".py",
      "mimetype": "text/x-python",
      "name": "python",
      "nbconvert_exporter": "python",
      "pygments_lexer": "ipython3",
      "version": "3.11.3"
    }
  },
  "nbformat": 4,
  "nbformat_minor": 0
}