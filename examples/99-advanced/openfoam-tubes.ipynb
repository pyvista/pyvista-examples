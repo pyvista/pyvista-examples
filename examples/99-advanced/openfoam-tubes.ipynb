{
  "cells": [
    {
      "cell_type": "code",
      "execution_count": null,
      "metadata": {
        "collapsed": false
      },
      "outputs": [],
      "source": [
        "%matplotlib inline\nfrom pyvista import set_plot_theme\nset_plot_theme('document')"
      ]
    },
    {
      "cell_type": "markdown",
      "metadata": {},
      "source": [
        "Plot CFD Data {#openfoam_tubes_example}\n=============\n\nPlot a CFD example from OpenFoam hosted on the public SimScale examples\nat [SimScale Project Library](https://www.simscale.com/projects/).\n\nThis example dataset was read using the\n`pyvista.POpenFOAMReader`{.interpreted-text role=\"class\"}. See\n`openfoam_example`{.interpreted-text role=\"ref\"} for a full example\nusing this reader.\n"
      ]
    },
    {
      "cell_type": "code",
      "execution_count": null,
      "metadata": {
        "collapsed": false
      },
      "outputs": [],
      "source": [
        "import numpy as np\n\nimport pyvista as pv\nfrom pyvista import examples"
      ]
    },
    {
      "cell_type": "markdown",
      "metadata": {},
      "source": [
        "Download and load the example dataset.\n"
      ]
    },
    {
      "cell_type": "code",
      "execution_count": null,
      "metadata": {
        "collapsed": false
      },
      "outputs": [],
      "source": [
        "block = examples.download_openfoam_tubes()\nblock"
      ]
    },
    {
      "cell_type": "markdown",
      "metadata": {},
      "source": [
        "Plot Cross Section\n==================\n\nPlot the outline of the dataset along with a cross section of the flow\nvelocity.\n"
      ]
    },
    {
      "cell_type": "code",
      "execution_count": null,
      "metadata": {
        "collapsed": false
      },
      "outputs": [],
      "source": [
        "# first, get the first block representing the air within the tube.\nair = block[0]\n\n# generate a slice in the XZ plane\ny_slice = air.slice('y')\n\npl = pv.Plotter()\npl.add_mesh(y_slice, scalars='U', lighting=False, scalar_bar_args={'title': 'Flow Velocity'})\npl.add_mesh(air, color='w', opacity=0.25)\npl.enable_anti_aliasing()\npl.show()"
      ]
    },
    {
      "cell_type": "markdown",
      "metadata": {},
      "source": [
        "Plot Streamlines - Flow Velocity\n================================\n\nGenerate streamlines using `streamlines_from_source()\n<pyvista.DataSetFilters.streamlines_from_source>`{.interpreted-text\nrole=\"func\"}.\n"
      ]
    },
    {
      "cell_type": "code",
      "execution_count": null,
      "metadata": {
        "collapsed": false
      },
      "outputs": [],
      "source": [
        "# Let's use the inlet as a source. First plot it.\ninlet = block[1][2]\npl = pv.Plotter()\npl.add_mesh(inlet, color='b', label='inlet')\npl.add_mesh(air, opacity=0.2, color='w', label='air')\npl.enable_anti_aliasing()\npl.add_legend(face=None)\npl.show()"
      ]
    },
    {
      "cell_type": "markdown",
      "metadata": {},
      "source": [
        "Now, actually generate the streamlines. Since the original inlet\ncontains 1000 points, let\\'s reduce this to around 200 points by using\nevery 5th point.\n\n::: {.note}\n::: {.admonition-title}\nNote\n:::\n\nIf we wanted a uniform subsampling of the inlet, we could use\n[pyvista/pyacvd](https://github.com/pyvista/pyacvd)\n:::\n"
      ]
    },
    {
      "cell_type": "code",
      "execution_count": null,
      "metadata": {
        "collapsed": false
      },
      "outputs": [],
      "source": [
        "pset = pv.PointSet(inlet.points[::5])\nlines = air.streamlines_from_source(\n    pset,\n    vectors='U',\n    max_time=1.0,\n)\n\npl = pv.Plotter()\npl.add_mesh(\n    lines,\n    render_lines_as_tubes=True,\n    line_width=3,\n    lighting=False,\n    scalar_bar_args={'title': 'Flow Velocity'},\n    scalars='U',\n    rng=(0, 212),\n)\npl.add_mesh(air, color='w', opacity=0.25)\npl.enable_anti_aliasing()\npl.camera_position = 'xz'\npl.show()"
      ]
    },
    {
      "cell_type": "markdown",
      "metadata": {},
      "source": [
        "Volumetric Plot - Visualize Turbulent Kinematic Viscosity\n=========================================================\n\nThe turbulent kinematic viscosity of a fluid is a derived quantity used\nin turbulence modeling to describe the effect of turbulent motion on the\nmomentum transport within the fluid.\n\nFor this example, we will first sample the results from the\n`pyvista.UnstructuredGrid`{.interpreted-text role=\"class\"} onto a\n`pyvista.ImageData`{.interpreted-text role=\"class\"} using\n`sample() <pyvista.DataSetFilters.sample>`{.interpreted-text\nrole=\"func\"}. This is so we can visualize it using\n`add_volume() <pyvista.Plotter.add_volume>`{.interpreted-text\nrole=\"func\"}\n"
      ]
    },
    {
      "cell_type": "code",
      "execution_count": null,
      "metadata": {
        "collapsed": false
      },
      "outputs": [],
      "source": [
        "bounds = np.array(air.bounds) * 1.2\norigin = (bounds[0], bounds[2], bounds[4])\nspacing = (0.003, 0.003, 0.003)\ndimensions = (\n    int((bounds[1] - bounds[0]) // spacing[0] + 2),\n    int((bounds[3] - bounds[2]) // spacing[1] + 2),\n    int((bounds[5] - bounds[4]) // spacing[2] + 2),\n)\ngrid = pv.ImageData(dimensions=dimensions, spacing=spacing, origin=origin)\ngrid = grid.sample(air)\n\npl = pv.Plotter()\nvol = pl.add_volume(\n    grid,\n    scalars='nut',\n    opacity='linear',\n    scalar_bar_args={'title': 'Turbulent Kinematic Viscosity'},\n)\nvol.prop.interpolation_type = 'linear'\npl.add_mesh(air, color='w', opacity=0.1)\npl.camera_position = 'xz'\npl.show()"
      ]
    }
  ],
  "metadata": {
    "kernelspec": {
      "display_name": "Python 3",
      "language": "python",
      "name": "python3"
    },
    "language_info": {
      "codemirror_mode": {
        "name": "ipython",
        "version": 3
      },
      "file_extension": ".py",
      "mimetype": "text/x-python",
      "name": "python",
      "nbconvert_exporter": "python",
      "pygments_lexer": "ipython3",
      "version": "3.11.5"
    }
  },
  "nbformat": 4,
  "nbformat_minor": 0
}