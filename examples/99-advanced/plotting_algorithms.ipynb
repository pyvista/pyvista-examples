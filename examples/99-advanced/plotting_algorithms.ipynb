{
  "cells": [
    {
      "cell_type": "code",
      "execution_count": null,
      "metadata": {
        "collapsed": false
      },
      "outputs": [],
      "source": [
        "%matplotlib inline"
      ]
    },
    {
      "cell_type": "markdown",
      "metadata": {},
      "source": [
        "Plotting with VTK Algorithms {#plotting_algorithms_example}\n============================\n\nPass a `vtkAlgorithm`{.interpreted-text role=\"vtk\"} to the `Plotter` for\ndynamic visualizations.\n\n::: {.note}\n::: {.title}\nNote\n:::\n\nBy \\\"dynamic visualization\\\" we mean that as the input data/source\nchanges, so will the visualization in real time.\n:::\n\nA `vtkAlgorithm`{.interpreted-text role=\"vtk\"} is the superclass for all\nsources, filters, and sinks in VTK. It defines a generalized interface\nfor executing data processing algorithms. Pipeline connections are\nassociated with input and output ports that are independent of the type\nof data passing through the connections.\n\nWe can connect the output port of a `vtkAlgorithm`{.interpreted-text\nrole=\"vtk\"} to PyVista\\'s rendering pipeline when adding data to the\nscene through methods like\n`add_mesh() <pyvista.Plotter.add_mesh>`{.interpreted-text role=\"func\"}.\n\nThis example will walk through using a few\n`vtkAlgorithm`{.interpreted-text role=\"vtk\"} filters directly and\npassing them to PyVista for dynamic visualization.\n"
      ]
    },
    {
      "cell_type": "code",
      "execution_count": null,
      "metadata": {
        "collapsed": false
      },
      "outputs": [],
      "source": [
        "from __future__ import annotations\n\nimport vtk\n\nimport pyvista as pv\nfrom pyvista import examples"
      ]
    },
    {
      "cell_type": "markdown",
      "metadata": {},
      "source": [
        "Use `vtkConeSource`{.interpreted-text role=\"vtk\"} as a source algorithm.\nThis source will dynamically create a cone object depending on the\ninstances\\'s parameters. In this example, we will connect a callback to\nset the cone source algorithm\\'s resolution via\n`vtkConeSource.SetResolution`{.interpreted-text role=\"vtk\"}.\n"
      ]
    },
    {
      "cell_type": "code",
      "execution_count": null,
      "metadata": {
        "collapsed": false
      },
      "outputs": [],
      "source": [
        "algo = pv.ConeSource()\n\n\ndef update_resolution(value):\n    \"\"\"Set the resolution of the cone generator.\"\"\"\n    res = round(value)\n    algo.resolution = res"
      ]
    },
    {
      "cell_type": "markdown",
      "metadata": {},
      "source": [
        "Pass the `vtkConeSource`{.interpreted-text role=\"vtk\"} (a\n`vtkAlgorithm`{.interpreted-text role=\"vtk\"} subclass) directly to the\nplotter and connect a slider widget to our callback that adjusts the\nresolution.\n"
      ]
    },
    {
      "cell_type": "code",
      "execution_count": null,
      "metadata": {
        "collapsed": false
      },
      "outputs": [],
      "source": [
        "p = pv.Plotter()\np.add_mesh(algo, color='red')\np.add_slider_widget(update_resolution, [5, 100], title='Resolution')\np.show()"
      ]
    },
    {
      "cell_type": "markdown",
      "metadata": {},
      "source": [
        "Here is another example using\n`vtkRegularPolygonSource`{.interpreted-text role=\"vtk\"}.\n"
      ]
    },
    {
      "cell_type": "code",
      "execution_count": null,
      "metadata": {
        "collapsed": false
      },
      "outputs": [],
      "source": [
        "poly_source = vtk.vtkRegularPolygonSource()\npoly_source.GeneratePolygonOff()\npoly_source.SetRadius(5.0)\npoly_source.SetCenter(0.0, 0.0, 0.0)\n\n\ndef update_n_sides(value):\n    \"\"\"Set the number of sides.\"\"\"\n    res = round(value)\n    poly_source.SetNumberOfSides(res)\n\n\np = pv.Plotter()\np.add_mesh_clip_box(poly_source, color='red')\np.add_slider_widget(update_n_sides, [3, 25], title='N Sides')\np.view_xy()\np.show()"
      ]
    },
    {
      "cell_type": "markdown",
      "metadata": {},
      "source": [
        "Filter Pipeline\n===============\n\nWe can do this with any `vtkAlgorithm`{.interpreted-text role=\"vtk\"}\nsubclass for dynamically generating or filtering data. Here is an\nexample of executing a pipeline of VTK filters together.\n"
      ]
    },
    {
      "cell_type": "code",
      "execution_count": null,
      "metadata": {
        "collapsed": false
      },
      "outputs": [],
      "source": [
        "# Source mesh object (static)\nmesh = examples.download_bunny_coarse()\n\n# Initialize VTK algorithm to modify dynamically\nsplatter = vtk.vtkGaussianSplatter()\n\n# Pass PyVista object as input to VTK\nsplatter.SetInputData(mesh)\n\n# Set parameters of splatter filter\nn = 200\nsplatter.SetSampleDimensions(n, n, n)\nsplatter.SetRadius(0.02)\nsplatter.SetExponentFactor(-10)\nsplatter.SetEccentricity(2)\nsplatter.Update()\n\n# Pipe splatter filter into a contour filter\ncontour = vtk.vtkContourFilter()\ncontour.SetInputConnection(splatter.GetOutputPort())\ncontour.SetInputArrayToProcess(0, 0, 0, 0, 'SplatterValues')\ncontour.SetNumberOfContours(1)\ncontour.SetValue(0, 0.95 * splatter.GetRadius())\n\n# Use PyVista to plot output of contour filter\np = pv.Plotter(notebook=0)\np.add_mesh(mesh, style='wireframe')\np.add_mesh(contour, color=True)\np.add_slider_widget(splatter.SetRadius, [0.01, 0.05])\np.show()"
      ]
    }
  ],
  "metadata": {
    "kernelspec": {
      "display_name": "Python 3",
      "language": "python",
      "name": "python3"
    },
    "language_info": {
      "codemirror_mode": {
        "name": "ipython",
        "version": 3
      },
      "file_extension": ".py",
      "mimetype": "text/x-python",
      "name": "python",
      "nbconvert_exporter": "python",
      "pygments_lexer": "ipython3",
      "version": "3.13.5"
    }
  },
  "nbformat": 4,
  "nbformat_minor": 0
}