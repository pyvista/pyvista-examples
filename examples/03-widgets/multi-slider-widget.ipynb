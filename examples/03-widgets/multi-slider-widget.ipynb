{
  "cells": [
    {
      "cell_type": "code",
      "execution_count": null,
      "metadata": {
        "collapsed": false
      },
      "outputs": [],
      "source": [
        "%matplotlib inline\nfrom pyvista import set_plot_theme\nset_plot_theme('document')"
      ]
    },
    {
      "cell_type": "markdown",
      "metadata": {},
      "source": [
        "Multiple Slider Widgets\n=======================\n\nUse a class based callback to track multiple slider widgets for updating\na single mesh.\n\nIn this example we simply change a few parameters for the\n`pyvista.Sphere`{.interpreted-text role=\"func\"} method, but this could\neasily be applied to any mesh-generating/altering code.\n"
      ]
    },
    {
      "cell_type": "code",
      "execution_count": null,
      "metadata": {
        "collapsed": false
      },
      "outputs": [],
      "source": [
        "import pyvista as pv\n\n\nclass MyCustomRoutine():\n    def __init__(self, mesh):\n        self.output = mesh # Expected PyVista mesh type\n        # default parameters\n        self.kwargs = {\n            'radius': 0.5,\n            'theta_resolution': 30,\n            'phi_resolution': 30,\n        }\n\n    def __call__(self, param, value):\n        self.kwargs[param] = value\n        self.update()\n\n    def update(self):\n        # This is where you call your simulation\n        result = pv.Sphere(**self.kwargs)\n        self.output.overwrite(result)\n        return"
      ]
    },
    {
      "cell_type": "code",
      "execution_count": null,
      "metadata": {
        "collapsed": false
      },
      "outputs": [],
      "source": [
        "starting_mesh = pv.Sphere()\nengine = MyCustomRoutine(starting_mesh)"
      ]
    },
    {
      "cell_type": "code",
      "execution_count": null,
      "metadata": {
        "collapsed": false
      },
      "outputs": [],
      "source": [
        "p = pv.Plotter()\np.add_mesh(starting_mesh, show_edges=True)\np.add_slider_widget(\n    callback=lambda value: engine('phi_resolution', int(value)),\n    rng=[3, 60],\n    value=30,\n    title=\"Phi Resolution\",\n    pointa=(.025, .1), pointb=(.31, .1),\n    style='modern',\n)\np.add_slider_widget(\n    callback=lambda value: engine('theta_resolution', int(value)),\n    rng=[3, 60],\n    value=30,\n    title=\"Theta Resolution\",\n    pointa=(.35, .1), pointb=(.64, .1),\n    style='modern',\n)\np.add_slider_widget(\n    callback=lambda value: engine('radius', value),\n    rng=[0.1, 1.5],\n    value=0.5,\n    title=\"Radius\",\n    pointa=(.67, .1), pointb=(.98, .1),\n    style='modern',\n)\np.show()"
      ]
    }
  ],
  "metadata": {
    "kernelspec": {
      "display_name": "Python 3",
      "language": "python",
      "name": "python3"
    },
    "language_info": {
      "codemirror_mode": {
        "name": "ipython",
        "version": 3
      },
      "file_extension": ".py",
      "mimetype": "text/x-python",
      "name": "python",
      "nbconvert_exporter": "python",
      "pygments_lexer": "ipython3",
      "version": "3.8.10"
    }
  },
  "nbformat": 4,
  "nbformat_minor": 0
}