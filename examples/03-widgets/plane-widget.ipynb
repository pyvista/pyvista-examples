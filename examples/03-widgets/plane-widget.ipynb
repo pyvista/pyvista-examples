{
  "cells": [
    {
      "cell_type": "code",
      "execution_count": null,
      "metadata": {
        "collapsed": false
      },
      "outputs": [],
      "source": [
        "%matplotlib inline\nfrom pyvista import set_plot_theme\nset_plot_theme('document')"
      ]
    },
    {
      "cell_type": "markdown",
      "metadata": {},
      "source": [
        "Plane Widget\n============\n\nThe plane widget can be enabled and disabled by the\n`pyvista.WidgetHelper.add_plane_widget`{.interpreted-text role=\"func\"}\nand `pyvista.WidgetHelper.clear_plane_widgets`{.interpreted-text\nrole=\"func\"} methods respectively. As with all widgets, you must provide\na custom callback method to utilize that plane. Considering that planes\nare most commonly used for clipping and slicing meshes, we have included\ntwo helper methods for doing those tasks!\n\nLet\\'s use a plane to clip a mesh:\n"
      ]
    },
    {
      "cell_type": "code",
      "execution_count": null,
      "metadata": {
        "collapsed": false
      },
      "outputs": [],
      "source": [
        "# sphinx_gallery_thumbnail_number = 2\nimport pyvista as pv\nfrom pyvista import examples\n\nvol = examples.download_brain()\n\np = pv.Plotter()\np.add_mesh_clip_plane(vol)\np.show()"
      ]
    },
    {
      "cell_type": "markdown",
      "metadata": {},
      "source": [
        "After interacting with the scene, the clipped mesh is available as:\n"
      ]
    },
    {
      "cell_type": "code",
      "execution_count": null,
      "metadata": {
        "collapsed": false
      },
      "outputs": [],
      "source": [
        "p.plane_clipped_meshes"
      ]
    },
    {
      "cell_type": "markdown",
      "metadata": {},
      "source": [
        "And here is a screen capture of a user interacting with this\n\n![image](../../images/gifs/plane-clip.gif)\n"
      ]
    },
    {
      "cell_type": "markdown",
      "metadata": {},
      "source": [
        "Or you could slice a mesh using the plane widget:\n"
      ]
    },
    {
      "cell_type": "code",
      "execution_count": null,
      "metadata": {
        "collapsed": false
      },
      "outputs": [],
      "source": [
        "p = pv.Plotter()\np.add_mesh_slice(vol)\np.show()"
      ]
    },
    {
      "cell_type": "markdown",
      "metadata": {},
      "source": [
        "After interacting with the scene, the slice is available as:\n"
      ]
    },
    {
      "cell_type": "code",
      "execution_count": null,
      "metadata": {
        "collapsed": false
      },
      "outputs": [],
      "source": [
        "p.plane_sliced_meshes"
      ]
    },
    {
      "cell_type": "markdown",
      "metadata": {},
      "source": [
        "And here is a screen capture of a user interacting with this\n\n![image](../../images/gifs/plane-slice.gif)\n"
      ]
    },
    {
      "cell_type": "markdown",
      "metadata": {},
      "source": [
        "Or you could leverage the plane widget for some custom task like\nglyphing a vector field along that plane. Note that we have to pass a\n`name` when calling `add_mesh` to ensure that there is only one set of\nglyphs plotted at a time.\n"
      ]
    },
    {
      "cell_type": "code",
      "execution_count": null,
      "metadata": {
        "collapsed": false
      },
      "outputs": [],
      "source": [
        "import pyvista as pv\nfrom pyvista import examples\n\nmesh = examples.download_carotid()\n\np = pv.Plotter()\np.add_mesh(mesh.contour(8).extract_largest(), opacity=0.5)\n\ndef my_plane_func(normal, origin):\n    slc = mesh.slice(normal=normal, origin=origin)\n    arrows = slc.glyph(orient='vectors', scale=\"scalars\", factor=0.01)\n    p.add_mesh(arrows, name='arrows')\n\np.add_plane_widget(my_plane_func)\np.show_grid()\np.add_axes()\np.show()"
      ]
    },
    {
      "cell_type": "markdown",
      "metadata": {},
      "source": [
        "And here is a screen capture of a user interacting with this\n\n![image](../../images/gifs/plane-glyph.gif)\n"
      ]
    },
    {
      "cell_type": "markdown",
      "metadata": {},
      "source": [
        "Further, a user can disable the arrow vector by setting the\n`normal_rotation` argument to `False`. For example, here we\nprogrammatically set the normal vector on which we want to translate the\nplane and we disable the arrow to prevent its rotation.\n"
      ]
    },
    {
      "cell_type": "code",
      "execution_count": null,
      "metadata": {
        "collapsed": false
      },
      "outputs": [],
      "source": [
        "p = pv.Plotter()\np.add_mesh_slice(vol, normal=(1,1,1), normal_rotation=False)\np.show()"
      ]
    },
    {
      "cell_type": "markdown",
      "metadata": {},
      "source": [
        "The vector is also forcibly disabled anytime the `assign_to_axis`\nargument is set.\n"
      ]
    },
    {
      "cell_type": "code",
      "execution_count": null,
      "metadata": {
        "collapsed": false
      },
      "outputs": [],
      "source": [
        "p = pv.Plotter()\np.add_mesh_slice(vol, assign_to_axis='z')\np.show()"
      ]
    }
  ],
  "metadata": {
    "kernelspec": {
      "display_name": "Python 3",
      "language": "python",
      "name": "python3"
    },
    "language_info": {
      "codemirror_mode": {
        "name": "ipython",
        "version": 3
      },
      "file_extension": ".py",
      "mimetype": "text/x-python",
      "name": "python",
      "nbconvert_exporter": "python",
      "pygments_lexer": "ipython3",
      "version": "3.8.10"
    }
  },
  "nbformat": 4,
  "nbformat_minor": 0
}