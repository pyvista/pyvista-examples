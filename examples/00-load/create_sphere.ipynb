{
  "cells": [
    {
      "cell_type": "code",
      "execution_count": null,
      "metadata": {
        "collapsed": false
      },
      "outputs": [],
      "source": [
        "%matplotlib inline"
      ]
    },
    {
      "cell_type": "markdown",
      "metadata": {},
      "source": [
        "Create Sphere Mesh Multiple Ways {#create_sphere_example}\n================================\n\nThis example shows how to create meshes in different ways.\n"
      ]
    },
    {
      "cell_type": "code",
      "execution_count": null,
      "metadata": {
        "collapsed": false
      },
      "outputs": [],
      "source": [
        "from __future__ import annotations\n\nimport numpy as np\n\nimport pyvista as pv"
      ]
    },
    {
      "cell_type": "markdown",
      "metadata": {},
      "source": [
        "Simple Sphere\n=============\n\nThe quickest method to get a Sphere mesh is to use\n`pyvista.Sphere`{.interpreted-text role=\"func\"}.\n"
      ]
    },
    {
      "cell_type": "code",
      "execution_count": null,
      "metadata": {
        "collapsed": false
      },
      "outputs": [],
      "source": [
        "mesh = pv.Sphere()\nmesh.plot(show_edges=True)"
      ]
    },
    {
      "cell_type": "markdown",
      "metadata": {},
      "source": [
        "This gives an `pyvista.PolyData`{.interpreted-text role=\"class\"} mesh,\ni.e. a 2D surface.\n"
      ]
    },
    {
      "cell_type": "code",
      "execution_count": null,
      "metadata": {
        "collapsed": false
      },
      "outputs": [],
      "source": [
        "mesh"
      ]
    },
    {
      "cell_type": "markdown",
      "metadata": {},
      "source": [
        "In this case, it is\n`manifold <pyvista.PolyData.is_manifold>`{.interpreted-text role=\"func\"}\nand encloses a volume. To demonstrate this, there are no boundaries on\nthe mesh as indicated by no points/cells being extracted.\n"
      ]
    },
    {
      "cell_type": "code",
      "execution_count": null,
      "metadata": {
        "collapsed": false
      },
      "outputs": [],
      "source": [
        "boundaries = mesh.extract_feature_edges(\n    non_manifold_edges=True, feature_edges=False, manifold_edges=False\n)\nboundaries"
      ]
    },
    {
      "cell_type": "markdown",
      "metadata": {},
      "source": [
        "The cells are `~pyvista.CellType.TRIANGLE`{.interpreted-text\nrole=\"attr\"} cells. For example, the first cell\n"
      ]
    },
    {
      "cell_type": "code",
      "execution_count": null,
      "metadata": {
        "collapsed": false
      },
      "outputs": [],
      "source": [
        "mesh.get_cell(0).type"
      ]
    },
    {
      "cell_type": "markdown",
      "metadata": {},
      "source": [
        "Structured quadrilateral mesh of Sphere\n=======================================\n\nThe structure of the mesh can be important. Instead of a triangulated\nmesh, it can be useful to have a structured mesh that has an i-j-k\nordering that allows for simplified cell connectivity.\n\nThe points are generated as a regular grid in spherical coordinates\nusing `pyvista.spherical_to_cartesian`{.interpreted-text role=\"func\"}.\nHere, we will used the convention that `theta` is the azimuthal angle,\nsimilar to longitude on the globe. `phi` is the polar angle, similar to\nlatitude on the globe.\n"
      ]
    },
    {
      "cell_type": "code",
      "execution_count": null,
      "metadata": {
        "collapsed": false
      },
      "outputs": [],
      "source": [
        "radius = 0.5\nntheta = 9\nnphi = 12\ntheta = np.linspace(0, 2 * np.pi, ntheta)\nphi = np.linspace(0, np.pi, nphi)\n\nr_, phi_, theta_ = np.meshgrid([radius], phi, theta, indexing='ij')\nx, y, z = pv.spherical_to_cartesian(r_, phi_, theta_)\nmesh = pv.StructuredGrid(x, y, z)"
      ]
    },
    {
      "cell_type": "markdown",
      "metadata": {},
      "source": [
        "The mesh has `~pyvista.CellType.QUAD`{.interpreted-text role=\"attr\"}\ncells. The cells that look triangular at the poles are actually\ndegenerate quadrilaterals, i.e. two points are coincident at the pole,\nas will be shown later.\n"
      ]
    },
    {
      "cell_type": "code",
      "execution_count": null,
      "metadata": {
        "collapsed": false
      },
      "outputs": [],
      "source": [
        "mesh.plot(show_edges=True)"
      ]
    },
    {
      "cell_type": "markdown",
      "metadata": {},
      "source": [
        "The mesh is of type `pyvista.StructuredGrid`{.interpreted-text\nrole=\"class\"}.\n"
      ]
    },
    {
      "cell_type": "code",
      "execution_count": null,
      "metadata": {
        "collapsed": false
      },
      "outputs": [],
      "source": [
        "mesh"
      ]
    },
    {
      "cell_type": "markdown",
      "metadata": {},
      "source": [
        "The first cell is at the top pole, and it is a\n`~pyvista.CellType.QUAD`{.interpreted-text role=\"attr\"} cell.\n"
      ]
    },
    {
      "cell_type": "code",
      "execution_count": null,
      "metadata": {
        "collapsed": false
      },
      "outputs": [],
      "source": [
        "cell = mesh.get_cell(0)\ncell.type"
      ]
    },
    {
      "cell_type": "markdown",
      "metadata": {},
      "source": [
        "The first cell has two degenerate points.\n"
      ]
    },
    {
      "cell_type": "code",
      "execution_count": null,
      "metadata": {
        "collapsed": false
      },
      "outputs": [],
      "source": [
        "cell.points"
      ]
    },
    {
      "cell_type": "markdown",
      "metadata": {},
      "source": [
        "The cells on either side of the \\'seam\\' along the start and end of the\nazimuthal component are not connected. These can be detected by\nextracting the boundary edges.\n"
      ]
    },
    {
      "cell_type": "code",
      "execution_count": null,
      "metadata": {
        "collapsed": false
      },
      "outputs": [],
      "source": [
        "boundaries = mesh.extract_feature_edges(\n    non_manifold_edges=True, feature_edges=False, manifold_edges=False\n)\nboundaries"
      ]
    },
    {
      "cell_type": "markdown",
      "metadata": {},
      "source": [
        "Visualize this by plotting the boundary edges of the mesh.\n"
      ]
    },
    {
      "cell_type": "code",
      "execution_count": null,
      "metadata": {
        "collapsed": false
      },
      "outputs": [],
      "source": [
        "pl = pv.Plotter()\npl.add_mesh(mesh, show_edges=True)\npl.add_mesh(boundaries, line_width=10, color='red')\npl.show()"
      ]
    },
    {
      "cell_type": "markdown",
      "metadata": {},
      "source": [
        "Generate quadrilateral mesh of Sphere\n=====================================\n\nThis example shows how a more complicated mesh can be defined.\n\nIn contrast to the example above, this example generates a mesh that\ndoes not have degenerate points at the poles.\n`~pyvista.CellType.TRIANGLE`{.interpreted-text role=\"attr\"} cells will\nbe used at the poles. First, regenerate the structured data.\n"
      ]
    },
    {
      "cell_type": "code",
      "execution_count": null,
      "metadata": {
        "collapsed": false
      },
      "outputs": [],
      "source": [
        "radius = 0.5\nntheta = 9\nnphi = 12\ntheta = np.linspace(0, 2 * np.pi, ntheta)\nphi = np.linspace(0, np.pi, nphi)"
      ]
    },
    {
      "cell_type": "markdown",
      "metadata": {},
      "source": [
        "We do not want duplicate points, so remove the duplicate in theta, which\nresults in 8 unique points in theta. Similarly, the poles at `phi=0` and\n`phi=pi` will be handled separately to avoid duplicate points, which\nresults in 10 unique points in phi. Remove these from the grid in\nspherical coordinates.\n"
      ]
    },
    {
      "cell_type": "code",
      "execution_count": null,
      "metadata": {
        "collapsed": false
      },
      "outputs": [],
      "source": [
        "theta = theta[:-1]\nntheta -= 1\nphi = phi[1:-1]\nnphi -= 2"
      ]
    },
    {
      "cell_type": "markdown",
      "metadata": {},
      "source": [
        "Use `pyvista.spherical_to_cartesian`{.interpreted-text role=\"func\"} to\ngenerate cartesian coordinates for points in the `(N, 3)` format\nrequired by PyVista. Note that this method results in the theta variable\nchanging the fastest.\n"
      ]
    },
    {
      "cell_type": "code",
      "execution_count": null,
      "metadata": {
        "collapsed": false
      },
      "outputs": [],
      "source": [
        "r_, phi_, theta_ = np.meshgrid([radius], phi, theta, indexing='ij')\nx, y, z = pv.spherical_to_cartesian(r_, phi_, theta_)\npoints = np.vstack((x.ravel(), y.ravel(), z.ravel())).transpose()"
      ]
    },
    {
      "cell_type": "markdown",
      "metadata": {},
      "source": [
        "The first and last points are the poles.\n"
      ]
    },
    {
      "cell_type": "code",
      "execution_count": null,
      "metadata": {
        "collapsed": false
      },
      "outputs": [],
      "source": [
        "points = np.insert(points, 0, [0.0, 0.0, radius], axis=0)\npoints = np.append(points, [[0.0, 0.0, -radius]], axis=0)"
      ]
    },
    {
      "cell_type": "markdown",
      "metadata": {},
      "source": [
        "First we will generate the cell-point connectivity similar to the\nprevious examples. At the poles, we will form triangles with the pole\nand two adjacent points from the closest ring of points at a given `phi`\nposition. Otherwise, we will form quadrilaterals between two adjacent\npoints on consecutive `phi` positions.\n\nThe first triangle in the mesh is point id `0`, i.e. the pole, and the\nfirst two points at the first `phi` position, id\\'s `1` and `2`. the\nnext triangle contains the pole again and the next set of points, id\\'s\n`2` and `3` and so on. The last point in the ring, id `8` connects to\nthe first point in the ring, `1`, to form the last triangle. Exclude it\nfrom the loop and add separately.\n"
      ]
    },
    {
      "cell_type": "code",
      "execution_count": null,
      "metadata": {
        "collapsed": false
      },
      "outputs": [],
      "source": [
        "faces = []\nfor i in range(1, ntheta):\n    faces.extend([3, 0, i, i + 1])\n\nfaces.extend([3, 0, ntheta, 1])"
      ]
    },
    {
      "cell_type": "markdown",
      "metadata": {},
      "source": [
        "Demonstrate the connectivity of the mesh so far.\n"
      ]
    },
    {
      "cell_type": "code",
      "execution_count": null,
      "metadata": {
        "collapsed": false
      },
      "outputs": [],
      "source": [
        "points_to_label = tuple(range(ntheta + 1))\nmesh = pv.PolyData(points, faces=faces)\npl = pv.Plotter()\npl.add_mesh(mesh, show_edges=True)\npl.add_point_labels(\n    mesh.points[points_to_label, :], points_to_label, font_size=30, fill_shape=False\n)\npl.view_xy()\npl.show()"
      ]
    },
    {
      "cell_type": "markdown",
      "metadata": {},
      "source": [
        "Next form the quadrilaterals. This process is the same except by\nconnecting points across two levels of `phi`. For point `1` and point\n`2`, these are connected to point `9` and point `10`. Note for\nquadrilaterals it must be defined in a consistent direction. Again, the\nlast point(s) in the theta direction connect back to the first point(s).\n"
      ]
    },
    {
      "cell_type": "code",
      "execution_count": null,
      "metadata": {
        "collapsed": false
      },
      "outputs": [],
      "source": [
        "for i in range(1, ntheta):\n    faces.extend([4, i, i + 1, i + ntheta + 1, i + ntheta])\n\nfaces.extend([4, ntheta, 1, ntheta + 1, ntheta * 2])"
      ]
    },
    {
      "cell_type": "markdown",
      "metadata": {},
      "source": [
        "Demonstrate the connectivity of the mesh with first quad layer.\n"
      ]
    },
    {
      "cell_type": "code",
      "execution_count": null,
      "metadata": {
        "collapsed": false
      },
      "outputs": [],
      "source": [
        "points_to_label = tuple(range(ntheta * 2 + 1))\nmesh = pv.PolyData(points, faces=faces)\npl = pv.Plotter()\npl.add_mesh(mesh, show_edges=True)\npl.add_point_labels(\n    mesh.points[points_to_label, :],\n    points_to_label,\n    font_size=30,\n    fill_shape=False,\n    always_visible=True,\n)\npl.view_xy()\npl.show()"
      ]
    },
    {
      "cell_type": "markdown",
      "metadata": {},
      "source": [
        "Next we loop over all adjacent levels of phi to form all the\nquadrilaterals and add the layer of triangles on the ending pole. Since\nwe already formed the first layer of quadrilaterals, let\\'s start over\nto make cleaner code.\n"
      ]
    },
    {
      "cell_type": "code",
      "execution_count": null,
      "metadata": {
        "collapsed": false
      },
      "outputs": [],
      "source": [
        "faces = []\nfor i in range(1, ntheta):\n    faces.extend([3, 0, i, i + 1])\n\nfaces.extend([3, 0, ntheta, 1])\n\nfor j in range(nphi - 1):\n    for i in range(1, ntheta):\n        faces.extend(\n            [4, j * ntheta + i, j * ntheta + i + 1, i + (j + 1) * ntheta + 1, i + (j + 1) * ntheta]\n        )\n\n    faces.extend([4, (j + 1) * ntheta, j * ntheta + 1, (j + 1) * ntheta + 1, (j + 2) * ntheta])\n\nfor i in range(1, ntheta):\n    faces.extend([3, nphi * ntheta + 1, (nphi - 1) * ntheta + i, (nphi - 1) * ntheta + i + 1])\n\nfaces.extend([3, nphi * ntheta + 1, nphi * ntheta, (nphi - 1) * ntheta + 1])"
      ]
    },
    {
      "cell_type": "markdown",
      "metadata": {},
      "source": [
        "We will use a `pyvista.PolyData`{.interpreted-text role=\"class\"} mesh\nhere, but a `pyvista.UnstructuredGrid`{.interpreted-text role=\"class\"}\ncould also be used.\n"
      ]
    },
    {
      "cell_type": "code",
      "execution_count": null,
      "metadata": {
        "collapsed": false
      },
      "outputs": [],
      "source": [
        "mesh = pv.PolyData(points, faces=faces)"
      ]
    },
    {
      "cell_type": "markdown",
      "metadata": {},
      "source": [
        "This mesh is `manifold <pyvista.PolyData.is_manifold>`{.interpreted-text\nrole=\"func\"} like `pyvista.Sphere`{.interpreted-text role=\"func\"}. To\ndemonstrate this, there are no boundaries on the mesh as indicated by no\npoints/cells being extracted.\n"
      ]
    },
    {
      "cell_type": "code",
      "execution_count": null,
      "metadata": {
        "collapsed": false
      },
      "outputs": [],
      "source": [
        "boundaries = mesh.extract_feature_edges(\n    non_manifold_edges=True, feature_edges=False, manifold_edges=False\n)\nboundaries"
      ]
    },
    {
      "cell_type": "markdown",
      "metadata": {},
      "source": [
        "All the point labels are messy when plotted, so don\\'t add to the final\nplot.\n"
      ]
    },
    {
      "cell_type": "code",
      "execution_count": null,
      "metadata": {
        "collapsed": false
      },
      "outputs": [],
      "source": [
        "mesh.plot(show_edges=True)"
      ]
    },
    {
      "cell_type": "markdown",
      "metadata": {},
      "source": [
        "::: {.tags}\nload\n:::\n"
      ]
    }
  ],
  "metadata": {
    "kernelspec": {
      "display_name": "Python 3",
      "language": "python",
      "name": "python3"
    },
    "language_info": {
      "codemirror_mode": {
        "name": "ipython",
        "version": 3
      },
      "file_extension": ".py",
      "mimetype": "text/x-python",
      "name": "python",
      "nbconvert_exporter": "python",
      "pygments_lexer": "ipython3",
      "version": "3.13.5"
    }
  },
  "nbformat": 4,
  "nbformat_minor": 0
}