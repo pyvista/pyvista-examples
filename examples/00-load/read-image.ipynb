{
  "cells": [
    {
      "cell_type": "code",
      "execution_count": null,
      "metadata": {
        "collapsed": false
      },
      "outputs": [],
      "source": [
        "%matplotlib inline\nfrom pyvista import set_plot_theme\nset_plot_theme('document')"
      ]
    },
    {
      "cell_type": "markdown",
      "metadata": {},
      "source": [
        "\nRead Image Files\n~~~~~~~~~~~~~~~~\n\nRead and plot image files (JPEG, TIFF, PNG, etc).\n"
      ]
    },
    {
      "cell_type": "code",
      "execution_count": null,
      "metadata": {
        "collapsed": false
      },
      "outputs": [],
      "source": [
        "from pyvista import examples"
      ]
    },
    {
      "cell_type": "markdown",
      "metadata": {},
      "source": [
        "PyVista fully supportes reading images into their own spatially referenced\ndata objects (this example) as well as supports texture mapping of images\nonto datasets (see `ref_texture_example`).\n\nDownload a JPEG image of a puppy and load it to :class:`pyvista.UniformGrid`.\nThis could similarly be implemented with any image file by using the\n:func:`pyvista.read` function and passing the path to the image file.\n\n"
      ]
    },
    {
      "cell_type": "code",
      "execution_count": null,
      "metadata": {
        "collapsed": false
      },
      "outputs": [],
      "source": [
        "image = examples.download_puppy()\n# or...\n# image = pv.read('my_image.jpg')"
      ]
    },
    {
      "cell_type": "markdown",
      "metadata": {},
      "source": [
        "When plotting images stored in :class:`pyvista.UniformGrid` objects, it is\nimportant to specify using the `rgb` option when plotting to ensure that the\nimage's true colors are used and not mapped.\n\n"
      ]
    },
    {
      "cell_type": "code",
      "execution_count": null,
      "metadata": {
        "collapsed": false
      },
      "outputs": [],
      "source": [
        "# True image colors\nimage.plot(rgb=True, cpos=\"xy\")"
      ]
    },
    {
      "cell_type": "code",
      "execution_count": null,
      "metadata": {
        "collapsed": false
      },
      "outputs": [],
      "source": [
        "# Mapped image colors\nimage.plot(cpos=\"xy\")"
      ]
    }
  ],
  "metadata": {
    "kernelspec": {
      "display_name": "Python 3",
      "language": "python",
      "name": "python3"
    },
    "language_info": {
      "codemirror_mode": {
        "name": "ipython",
        "version": 3
      },
      "file_extension": ".py",
      "mimetype": "text/x-python",
      "name": "python",
      "nbconvert_exporter": "python",
      "pygments_lexer": "ipython3",
      "version": "3.7.7"
    }
  },
  "nbformat": 4,
  "nbformat_minor": 0
}