{
  "cells": [
    {
      "cell_type": "code",
      "execution_count": null,
      "metadata": {
        "collapsed": false
      },
      "outputs": [],
      "source": [
        "%matplotlib inline"
      ]
    },
    {
      "cell_type": "markdown",
      "metadata": {},
      "source": [
        "Create a Kochanek Spline {#create_kochanek_spline_example}\n========================\n\nCreate a Kochanek spline/polyline from a numpy array of XYZ vertices.\n"
      ]
    },
    {
      "cell_type": "code",
      "execution_count": null,
      "metadata": {
        "collapsed": false
      },
      "outputs": [],
      "source": [
        "import numpy as np\n\nimport pyvista as pv"
      ]
    },
    {
      "cell_type": "markdown",
      "metadata": {},
      "source": [
        "Create a dataset to plot\n"
      ]
    },
    {
      "cell_type": "code",
      "execution_count": null,
      "metadata": {
        "collapsed": false
      },
      "outputs": [],
      "source": [
        "def make_points():\n    \"\"\"Helper to make XYZ points\"\"\"\n    theta = np.linspace(-4 * np.pi, 4 * np.pi, 6)\n    z = np.linspace(-2, 2, 6)\n    r = z**2 + 1\n    x = r * np.sin(theta)\n    y = r * np.cos(theta)\n    return np.column_stack((x, y, z))\n\n\npoints = make_points()\npoints[0:5, :]"
      ]
    },
    {
      "cell_type": "markdown",
      "metadata": {},
      "source": [
        "Interpolate those points onto a parametric Kochanek spline\n"
      ]
    },
    {
      "cell_type": "code",
      "execution_count": null,
      "metadata": {
        "collapsed": false
      },
      "outputs": [],
      "source": [
        "# Create Kochanek spline with 6 interpolation points\np = pv.Plotter(shape=(3, 5))\n\nc = [-1.0, -0.5, 0.0, 0.5, 1.0]\nfor i in range(5):\n    kochanek_spline = pv.KochanekSpline(points, continuity=[c[i], c[i], c[i]], n_points=1000)\n    p.subplot(0, i)\n    p.add_text(\"c = \" + str(c[i]))\n    p.add_mesh(kochanek_spline, color=\"k\", point_size=10)\n    p.add_mesh(\n        pv.PolyData(points),\n        color=\"k\",\n        point_size=10,\n        render_points_as_spheres=True,\n    )\n\nt = [-1.0, -0.5, 0.0, 0.5, 1.0]\nfor i in range(5):\n    kochanek_spline = pv.KochanekSpline(points, tension=[t[i], t[i], t[i]], n_points=1000)\n    p.subplot(1, i)\n    p.add_text(\"t = \" + str(t[i]))\n    p.add_mesh(kochanek_spline, color=\"k\")\n    p.add_mesh(\n        pv.PolyData(points),\n        color=\"k\",\n        point_size=10,\n        render_points_as_spheres=True,\n    )\n\nb = [-1.0, -0.5, 0.0, 0.5, 1.0]\nfor i in range(5):\n    kochanek_spline = pv.KochanekSpline(points, bias=[b[i], b[i], b[i]], n_points=1000)\n    p.subplot(2, i)\n    p.add_text(\"b = \" + str(b[i]))\n    p.add_mesh(kochanek_spline, color=\"k\")\n    p.add_mesh(\n        pv.PolyData(points),\n        color=\"k\",\n        point_size=10,\n        render_points_as_spheres=True,\n    )\n\np.show(cpos=\"xy\")"
      ]
    }
  ],
  "metadata": {
    "kernelspec": {
      "display_name": "Python 3",
      "language": "python",
      "name": "python3"
    },
    "language_info": {
      "codemirror_mode": {
        "name": "ipython",
        "version": 3
      },
      "file_extension": ".py",
      "mimetype": "text/x-python",
      "name": "python",
      "nbconvert_exporter": "python",
      "pygments_lexer": "ipython3",
      "version": "3.12.0"
    }
  },
  "nbformat": 4,
  "nbformat_minor": 0
}