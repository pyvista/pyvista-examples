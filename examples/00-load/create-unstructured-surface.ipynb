{
  "cells": [
    {
      "cell_type": "code",
      "execution_count": null,
      "metadata": {
        "collapsed": false
      },
      "outputs": [],
      "source": [
        "%matplotlib inline\nfrom pyvista import set_plot_theme\nset_plot_theme('document')"
      ]
    },
    {
      "cell_type": "markdown",
      "metadata": {},
      "source": [
        "Creating an Unstructured Grid {#ref_create_unstructured}\n=============================\n\nCreate an irregular, unstructured grid from NumPy arrays.\n"
      ]
    },
    {
      "cell_type": "code",
      "execution_count": null,
      "metadata": {
        "collapsed": false
      },
      "outputs": [],
      "source": [
        "import pyvista as pv\nimport vtk\nimport numpy as np"
      ]
    },
    {
      "cell_type": "markdown",
      "metadata": {},
      "source": [
        "An unstructured grid can be created directly from NumPy arrays. This is\nuseful when creating a grid from scratch or copying it from another\nformat. See\n[vtkUnstructuredGrid](https://www.vtk.org/doc/nightly/html/classvtkUnstructuredGrid.html)\nfor available cell types and their descriptions.\n"
      ]
    },
    {
      "cell_type": "code",
      "execution_count": null,
      "metadata": {
        "collapsed": false
      },
      "outputs": [],
      "source": [
        "# offset array.  Identifies the start of each cell in the cells array\noffset = np.array([0, 9])\n\n# Contains information on the points composing each cell.\n# Each cell begins with the number of points in the cell and then the points\n# composing the cell\ncells = np.array([8, 0, 1, 2, 3, 4, 5, 6, 7, 8, 8, 9, 10, 11, 12, 13, 14, 15])\n\n# cell type array. Contains the cell type of each cell\ncell_type = np.array([vtk.VTK_HEXAHEDRON, vtk.VTK_HEXAHEDRON])\n\n# in this example, each cell uses separate points\ncell1 = np.array(\n    [\n        [0, 0, 0],\n        [1, 0, 0],\n        [1, 1, 0],\n        [0, 1, 0],\n        [0, 0, 1],\n        [1, 0, 1],\n        [1, 1, 1],\n        [0, 1, 1],\n    ]\n)\n\ncell2 = np.array(\n    [\n        [0, 0, 2],\n        [1, 0, 2],\n        [1, 1, 2],\n        [0, 1, 2],\n        [0, 0, 3],\n        [1, 0, 3],\n        [1, 1, 3],\n        [0, 1, 3],\n    ]\n)\n\n# points of the cell array\npoints = np.vstack((cell1, cell2))\n\n# create the unstructured grid directly from the numpy arrays\n# The offset is optional and will be either calculated if not given (VTK version < 9),\n# or is not necessary anymore (VTK version >= 9)\ngrid = pv.UnstructuredGrid(offset, cells, cell_type, points)\n\n# For cells of fixed sizes (like the mentioned Hexahedra), it is also possible to use the\n# simplified dictionary interface. This automatically calculates the cell array with types\n# and offsets. Note that for mixing with additional cell types, just the appropriate key needs to be\n# added to the dictionary.\ncells_hex = np.arange(16).reshape([2, 8]) # = np.array([[0, 1, 2, 3, 4, 5, 6, 7], [8, 9, 10, 11, 12, 13, 14, 15]])\ngrid = pv.UnstructuredGrid({vtk.VTK_HEXAHEDRON: cells_hex}, points)\n\n# plot the grid (and suppress the camera position output)\n_ = grid.plot(show_edges=True)"
      ]
    },
    {
      "cell_type": "markdown",
      "metadata": {},
      "source": [
        "UnstructuredGrid with Shared Points\n===================================\n\nThe next example again creates an unstructured grid containing\nhexahedral cells, but using common points between the cells.\n"
      ]
    },
    {
      "cell_type": "code",
      "execution_count": null,
      "metadata": {
        "collapsed": false
      },
      "outputs": [],
      "source": [
        "# these points will all be shared between the cells\npoints = np.array([[0. , 0. , 0. ],\n                   [1. , 0. , 0. ],\n                   [0.5, 0. , 0. ],\n                   [1. , 1. , 0. ],\n                   [1. , 0.5, 0. ],\n                   [0. , 1. , 0. ],\n                   [0.5, 1. , 0. ],\n                   [0. , 0.5, 0. ],\n                   [0.5, 0.5, 0. ],\n                   [1. , 0. , 0.5],\n                   [1. , 0. , 1. ],\n                   [0. , 0. , 0.5],\n                   [0. , 0. , 1. ],\n                   [0.5, 0. , 0.5],\n                   [0.5, 0. , 1. ],\n                   [1. , 1. , 0.5],\n                   [1. , 1. , 1. ],\n                   [1. , 0.5, 0.5],\n                   [1. , 0.5, 1. ],\n                   [0. , 1. , 0.5],\n                   [0. , 1. , 1. ],\n                   [0.5, 1. , 0.5],\n                   [0.5, 1. , 1. ],\n                   [0. , 0.5, 0.5],\n                   [0. , 0.5, 1. ],\n                   [0.5, 0.5, 0.5],\n                   [0.5, 0.5, 1. ]])\n\n\n# Each cell in the cell array needs to include the size of the cell\n# and the points belonging to the cell.  In this example, there are 8\n# hexahedral cells that have common points between them.\ncells = np.array([[ 8,  0,  2,  8,  7, 11, 13, 25, 23],\n                  [ 8,  2,  1,  4,  8, 13,  9, 17, 25],\n                  [ 8,  7,  8,  6,  5, 23, 25, 21, 19],\n                  [ 8,  8,  4,  3,  6, 25, 17, 15, 21],\n                  [ 8, 11, 13, 25, 23, 12, 14, 26, 24],\n                  [ 8, 13,  9, 17, 25, 14, 10, 18, 26],\n                  [ 8, 23, 25, 21, 19, 24, 26, 22, 20],\n                  [ 8, 25, 17, 15, 21, 26, 18, 16, 22]]).ravel()\n\n# each cell is a VTK_HEXAHEDRON\ncelltypes = np.empty(8, dtype=np.uint8)\ncelltypes[:] = vtk.VTK_HEXAHEDRON\n\n# the offset array points to the start of each cell (via flat indexing)\noffset = np.array([ 0, 9, 18, 27, 36, 45, 54, 63])\n\n# Effectively, when visualizing a VTK unstructured grid, it will\n# sequentially access the cell array by first looking at each index of\n# cell array (based on the offset array), and then read the number of\n# points based on the first value of the cell.  In this case, the\n# VTK_HEXAHEDRON is described by 8 points.\n\n# for example, the 5th cell would be accessed by vtk with:\nstart_of_cell = offset[4]\nn_points_in_cell = cells[start_of_cell]\nindices_in_cell = cells[start_of_cell + 1: start_of_cell + n_points_in_cell + 1]\nprint(indices_in_cell)"
      ]
    },
    {
      "cell_type": "markdown",
      "metadata": {},
      "source": [
        "Finally, create the unstructured grid and plot it\n"
      ]
    },
    {
      "cell_type": "code",
      "execution_count": null,
      "metadata": {
        "collapsed": false
      },
      "outputs": [],
      "source": [
        "# if you are using VTK 9.0 or newer, you do not need to input the offset array:\n# grid = pv.UnstructuredGrid(cells, celltypes, points)\n\n# if you are not using VTK 9.0 or newer, you must use the offset array\ngrid = pv.UnstructuredGrid(offset, cells, celltypes, points)\n\n# Alternate versions:\ngrid = pv.UnstructuredGrid({vtk.VTK_HEXAHEDRON: cells.reshape([-1, 9])[:, 1:]}, points)\ngrid = pv.UnstructuredGrid({vtk.VTK_HEXAHEDRON: np.delete(cells, np.arange(0, cells.size, 9))}, points)\n\n# plot the grid (and suppress the camera position output)\n_ = grid.plot(show_edges=True)"
      ]
    }
  ],
  "metadata": {
    "kernelspec": {
      "display_name": "Python 3",
      "language": "python",
      "name": "python3"
    },
    "language_info": {
      "codemirror_mode": {
        "name": "ipython",
        "version": 3
      },
      "file_extension": ".py",
      "mimetype": "text/x-python",
      "name": "python",
      "nbconvert_exporter": "python",
      "pygments_lexer": "ipython3",
      "version": "3.8.10"
    }
  },
  "nbformat": 4,
  "nbformat_minor": 0
}