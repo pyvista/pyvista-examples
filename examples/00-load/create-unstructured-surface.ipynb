{
  "cells": [
    {
      "cell_type": "code",
      "execution_count": null,
      "metadata": {
        "collapsed": false
      },
      "outputs": [],
      "source": [
        "%matplotlib inline\nfrom pyvista import set_plot_theme\nset_plot_theme('document')"
      ]
    },
    {
      "cell_type": "markdown",
      "metadata": {},
      "source": [
        "Creating an Unstructured Grid {#create_unstructured_example}\n=============================\n\nCreate an irregular, unstructured grid from NumPy arrays.\n"
      ]
    },
    {
      "cell_type": "code",
      "execution_count": null,
      "metadata": {
        "collapsed": false
      },
      "outputs": [],
      "source": [
        "import numpy as np\n\nimport pyvista as pv\nfrom pyvista import CellType"
      ]
    },
    {
      "cell_type": "markdown",
      "metadata": {},
      "source": [
        "An unstructured grid can be created directly from NumPy arrays. This is\nuseful when creating a grid from scratch or copying it from another\nformat. See\n[vtkUnstructuredGrid](https://www.vtk.org/doc/nightly/html/classvtkUnstructuredGrid.html)\nfor available cell types and their descriptions.\n"
      ]
    },
    {
      "cell_type": "code",
      "execution_count": null,
      "metadata": {
        "collapsed": false
      },
      "outputs": [],
      "source": [
        "# Contains information on the points composing each cell.\n# Each cell begins with the number of points in the cell and then the points\n# composing the cell\ncells = np.array([8, 0, 1, 2, 3, 4, 5, 6, 7, 8, 8, 9, 10, 11, 12, 13, 14, 15])\n\n# cell type array. Contains the cell type of each cell\ncell_type = np.array([CellType.HEXAHEDRON, CellType.HEXAHEDRON])\n\n# in this example, each cell uses separate points\ncell1 = np.array(\n    [\n        [0, 0, 0],\n        [1, 0, 0],\n        [1, 1, 0],\n        [0, 1, 0],\n        [0, 0, 1],\n        [1, 0, 1],\n        [1, 1, 1],\n        [0, 1, 1],\n    ]\n)\n\ncell2 = np.array(\n    [\n        [0, 0, 2],\n        [1, 0, 2],\n        [1, 1, 2],\n        [0, 1, 2],\n        [0, 0, 3],\n        [1, 0, 3],\n        [1, 1, 3],\n        [0, 1, 3],\n    ]\n)\n\n# points of the cell array\npoints = np.vstack((cell1, cell2)).astype(float)\n\n# create the unstructured grid directly from the numpy arrays\ngrid = pv.UnstructuredGrid(cells, cell_type, points)\n\n# For cells of fixed sizes (like the mentioned Hexahedra), it is also possible to use the\n# simplified dictionary interface. This automatically calculates the cell array.\n# Note that for mixing with additional cell types, just the appropriate key needs to be\n# added to the dictionary.\ncells_hex = np.arange(16).reshape([2, 8])\n# = np.array([[0, 1, 2, 3, 4, 5, 6, 7], [8, 9, 10, 11, 12, 13, 14, 15]])\ngrid = pv.UnstructuredGrid({CellType.HEXAHEDRON: cells_hex}, points)\n\n# plot the grid (and suppress the camera position output)\n_ = grid.plot(show_edges=True)"
      ]
    },
    {
      "cell_type": "markdown",
      "metadata": {},
      "source": [
        "UnstructuredGrid with Shared Points\n===================================\n\nThe next example again creates an unstructured grid containing\nhexahedral cells, but using common points between the cells.\n"
      ]
    },
    {
      "cell_type": "code",
      "execution_count": null,
      "metadata": {
        "collapsed": false
      },
      "outputs": [],
      "source": [
        "# these points will all be shared between the cells\npoints = np.array(\n    [\n        [0.0, 0.0, 0.0],\n        [1.0, 0.0, 0.0],\n        [0.5, 0.0, 0.0],\n        [1.0, 1.0, 0.0],\n        [1.0, 0.5, 0.0],\n        [0.0, 1.0, 0.0],\n        [0.5, 1.0, 0.0],\n        [0.0, 0.5, 0.0],\n        [0.5, 0.5, 0.0],\n        [1.0, 0.0, 0.5],\n        [1.0, 0.0, 1.0],\n        [0.0, 0.0, 0.5],\n        [0.0, 0.0, 1.0],\n        [0.5, 0.0, 0.5],\n        [0.5, 0.0, 1.0],\n        [1.0, 1.0, 0.5],\n        [1.0, 1.0, 1.0],\n        [1.0, 0.5, 0.5],\n        [1.0, 0.5, 1.0],\n        [0.0, 1.0, 0.5],\n        [0.0, 1.0, 1.0],\n        [0.5, 1.0, 0.5],\n        [0.5, 1.0, 1.0],\n        [0.0, 0.5, 0.5],\n        [0.0, 0.5, 1.0],\n        [0.5, 0.5, 0.5],\n        [0.5, 0.5, 1.0],\n    ]\n)\n\n\n# Each cell in the cell array needs to include the size of the cell\n# and the points belonging to the cell.  In this example, there are 8\n# hexahedral cells that have common points between them.\ncells = np.array(\n    [\n        [8, 0, 2, 8, 7, 11, 13, 25, 23],\n        [8, 2, 1, 4, 8, 13, 9, 17, 25],\n        [8, 7, 8, 6, 5, 23, 25, 21, 19],\n        [8, 8, 4, 3, 6, 25, 17, 15, 21],\n        [8, 11, 13, 25, 23, 12, 14, 26, 24],\n        [8, 13, 9, 17, 25, 14, 10, 18, 26],\n        [8, 23, 25, 21, 19, 24, 26, 22, 20],\n        [8, 25, 17, 15, 21, 26, 18, 16, 22],\n    ]\n).ravel()\n\n# each cell is a HEXAHEDRON\ncelltypes = np.full(8, CellType.HEXAHEDRON, dtype=np.uint8)"
      ]
    },
    {
      "cell_type": "markdown",
      "metadata": {},
      "source": [
        "Finally, create the unstructured grid and plot it\n"
      ]
    },
    {
      "cell_type": "code",
      "execution_count": null,
      "metadata": {
        "collapsed": false
      },
      "outputs": [],
      "source": [
        "grid = pv.UnstructuredGrid(cells, celltypes, points)\n\n# Alternate versions:\ngrid = pv.UnstructuredGrid({CellType.HEXAHEDRON: cells.reshape([-1, 9])[:, 1:]}, points)\ngrid = pv.UnstructuredGrid(\n    {CellType.HEXAHEDRON: np.delete(cells, np.arange(0, cells.size, 9))}, points\n)\n\n# plot the grid (and suppress the camera position output)\n_ = grid.plot(show_edges=True)"
      ]
    },
    {
      "cell_type": "markdown",
      "metadata": {},
      "source": [
        "Tetrahedral Grid\n================\n\nHere is how we can create an unstructured tetrahedral grid.\n"
      ]
    },
    {
      "cell_type": "code",
      "execution_count": null,
      "metadata": {
        "collapsed": false
      },
      "outputs": [],
      "source": [
        "# There are 10 cells here, each cell is [4, INDEX0, INDEX1, INDEX2, INDEX3]\n# where INDEX is one of the corners of the tetrahedron.\n#\n# Note that the array does not need to be shaped like this, we could have a\n# flat array, but it's easier to make out the structure of the array this way.\ncells = np.array(\n    [\n        [4, 6, 5, 8, 7],\n        [4, 7, 3, 8, 9],\n        [4, 7, 3, 1, 5],\n        [4, 9, 3, 1, 7],\n        [4, 2, 6, 5, 8],\n        [4, 2, 6, 0, 4],\n        [4, 6, 2, 0, 8],\n        [4, 5, 2, 8, 3],\n        [4, 5, 3, 8, 7],\n        [4, 2, 6, 4, 5],\n    ]\n)\n\ncelltypes = np.full(10, fill_value=CellType.TETRA, dtype=np.uint8)\n\n# These are the 10 points. The number of cells does not need to match the\n# number of points, they just happen to in this example\npoints = np.array(\n    [\n        [-0.0, 0.0, -0.5],\n        [0.0, 0.0, 0.5],\n        [-0.43, 0.0, -0.25],\n        [-0.43, 0.0, 0.25],\n        [-0.0, 0.43, -0.25],\n        [0.0, 0.43, 0.25],\n        [0.43, 0.0, -0.25],\n        [0.43, 0.0, 0.25],\n        [0.0, -0.43, -0.25],\n        [0.0, -0.43, 0.25],\n    ]\n)\n\n# Create and plot the unstructured grid\ngrid = pv.UnstructuredGrid(cells, celltypes, points)\ngrid.plot(show_edges=True)"
      ]
    },
    {
      "cell_type": "markdown",
      "metadata": {},
      "source": [
        "For fun, let\\'s separate all the cells and plot out the individual\ncells. Shift them a little bit from the center to create an \\\"exploded\nview\\\".\n"
      ]
    },
    {
      "cell_type": "code",
      "execution_count": null,
      "metadata": {
        "collapsed": false
      },
      "outputs": [],
      "source": [
        "split_cells = grid.explode(0.5)\nsplit_cells.plot(show_edges=True, ssao=True)"
      ]
    }
  ],
  "metadata": {
    "kernelspec": {
      "display_name": "Python 3",
      "language": "python",
      "name": "python3"
    },
    "language_info": {
      "codemirror_mode": {
        "name": "ipython",
        "version": 3
      },
      "file_extension": ".py",
      "mimetype": "text/x-python",
      "name": "python",
      "nbconvert_exporter": "python",
      "pygments_lexer": "ipython3",
      "version": "3.11.5"
    }
  },
  "nbformat": 4,
  "nbformat_minor": 0
}