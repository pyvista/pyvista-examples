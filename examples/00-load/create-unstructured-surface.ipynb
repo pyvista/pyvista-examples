{
  "cells": [
    {
      "cell_type": "code",
      "execution_count": null,
      "metadata": {
        "collapsed": false
      },
      "outputs": [],
      "source": [
        "%matplotlib inline\nfrom pyvista import set_plot_theme\nset_plot_theme('document')"
      ]
    },
    {
      "cell_type": "markdown",
      "metadata": {},
      "source": [
        "\n\nCreating an Unstructured Surface\n~~~~~~~~~~~~~~~~~~~~~~~~~~~~~~~~\n\nCreate an irregular, unstructured grid from NumPy arrays.\n"
      ]
    },
    {
      "cell_type": "code",
      "execution_count": null,
      "metadata": {
        "collapsed": false
      },
      "outputs": [],
      "source": [
        "import pyvista as pv\nimport vtk\nimport numpy as np"
      ]
    },
    {
      "cell_type": "markdown",
      "metadata": {},
      "source": [
        "An unstructured grid can be created directly from NumPy arrays.\nThis is useful when creating a grid from scratch or copying it from another\nformat.  See `vtkUnstructuredGrid <https://www.vtk.org/doc/nightly/html/classvtkUnstructuredGrid.html>`_\nfor available cell types and their descriptions.\n\n"
      ]
    },
    {
      "cell_type": "code",
      "execution_count": null,
      "metadata": {
        "collapsed": false
      },
      "outputs": [],
      "source": [
        "# offset array.  Identifies the start of each cell in the cells array\noffset = np.array([0, 9])\n\n# Contains information on the points composing each cell.\n# Each cell begins with the number of points in the cell and then the points\n# composing the cell\ncells = np.array([8, 0, 1, 2, 3, 4, 5, 6, 7, 8, 8, 9, 10, 11, 12, 13, 14, 15])\n\n# cell type array. Contains the cell type of each cell\ncell_type = np.array([vtk.VTK_HEXAHEDRON, vtk.VTK_HEXAHEDRON])\n\ncell1 = np.array(\n    [\n        [0, 0, 0],\n        [1, 0, 0],\n        [1, 1, 0],\n        [0, 1, 0],\n        [0, 0, 1],\n        [1, 0, 1],\n        [1, 1, 1],\n        [0, 1, 1],\n    ]\n)\n\ncell2 = np.array(\n    [\n        [0, 0, 2],\n        [1, 0, 2],\n        [1, 1, 2],\n        [0, 1, 2],\n        [0, 0, 3],\n        [1, 0, 3],\n        [1, 1, 3],\n        [0, 1, 3],\n    ]\n)\n\n# points of the cell array\npoints = np.vstack((cell1, cell2))\n\n# create the unstructured grid directly from the numpy arrays\ngrid = pv.UnstructuredGrid(offset, cells, cell_type, points)\n\n# plot the grid\ngrid.plot(show_edges=True)"
      ]
    }
  ],
  "metadata": {
    "kernelspec": {
      "display_name": "Python 3",
      "language": "python",
      "name": "python3"
    },
    "language_info": {
      "codemirror_mode": {
        "name": "ipython",
        "version": 3
      },
      "file_extension": ".py",
      "mimetype": "text/x-python",
      "name": "python",
      "nbconvert_exporter": "python",
      "pygments_lexer": "ipython3",
      "version": "3.7.7"
    }
  },
  "nbformat": 4,
  "nbformat_minor": 0
}