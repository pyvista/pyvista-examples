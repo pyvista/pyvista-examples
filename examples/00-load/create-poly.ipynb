{
  "cells": [
    {
      "cell_type": "code",
      "execution_count": null,
      "metadata": {
        "collapsed": false
      },
      "outputs": [],
      "source": [
        "%matplotlib inline\nfrom pyvista import set_plot_theme\nset_plot_theme('document')"
      ]
    },
    {
      "cell_type": "markdown",
      "metadata": {},
      "source": [
        "Create PolyData {#ref_create_poly}\n===============\n\nCreating a PolyData (triangulated surface) object from NumPy arrays of\nthe vertices and faces.\n"
      ]
    },
    {
      "cell_type": "code",
      "execution_count": null,
      "metadata": {
        "collapsed": false
      },
      "outputs": [],
      "source": [
        "import numpy as np\nimport pyvista as pv"
      ]
    },
    {
      "cell_type": "markdown",
      "metadata": {},
      "source": [
        "A PolyData object can be created quickly from numpy arrays. The vertex\narray contains the locations of the points in the mesh and the face\narray contains the number of points of each face and the indices of the\nvertices which comprise that face.\n"
      ]
    },
    {
      "cell_type": "code",
      "execution_count": null,
      "metadata": {
        "collapsed": false
      },
      "outputs": [],
      "source": [
        "# mesh points\nvertices = np.array([[0, 0, 0],\n                     [1, 0, 0],\n                     [1, 1, 0],\n                     [0, 1, 0],\n                     [0.5, 0.5, -1]])\n\n# mesh faces\nfaces = np.hstack([[4, 0, 1, 2, 3],  # square\n                   [3, 0, 1, 4],     # triangle\n                   [3, 1, 2, 4]])    # triangle\n\nsurf = pv.PolyData(vertices, faces)\n\n# plot each face with a different color\nsurf.plot(scalars=np.arange(3), cpos=[-1, 1, 0.5])"
      ]
    }
  ],
  "metadata": {
    "kernelspec": {
      "display_name": "Python 3",
      "language": "python",
      "name": "python3"
    },
    "language_info": {
      "codemirror_mode": {
        "name": "ipython",
        "version": 3
      },
      "file_extension": ".py",
      "mimetype": "text/x-python",
      "name": "python",
      "nbconvert_exporter": "python",
      "pygments_lexer": "ipython3",
      "version": "3.8.10"
    }
  },
  "nbformat": 4,
  "nbformat_minor": 0
}