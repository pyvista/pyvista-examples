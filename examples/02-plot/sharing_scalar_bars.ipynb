{
  "cells": [
    {
      "cell_type": "code",
      "execution_count": null,
      "metadata": {
        "collapsed": false
      },
      "outputs": [],
      "source": [
        "%matplotlib inline"
      ]
    },
    {
      "cell_type": "markdown",
      "metadata": {},
      "source": [
        "Sharing Scalar Bars {#sharing_scalar_bars_example}\n===================\n\nUse `~pyvista.Plotter.subplot`{.interpreted-text role=\"meth\"} and show\nto share scalar bars among plotted arrays or use a unique scalar bar for\neach plotted array.\n"
      ]
    },
    {
      "cell_type": "code",
      "execution_count": null,
      "metadata": {
        "collapsed": false
      },
      "outputs": [],
      "source": [
        "from __future__ import annotations\n\nimport pyvista as pv"
      ]
    },
    {
      "cell_type": "markdown",
      "metadata": {},
      "source": [
        "By default, a single scalar bar is used for all plotted scalars with the\nsame name:\n"
      ]
    },
    {
      "cell_type": "code",
      "execution_count": null,
      "metadata": {
        "collapsed": false
      },
      "outputs": [],
      "source": [
        "# Create two cube meshes containing the scalar array scalars1\ncube = pv.Cube()\ncube.cell_data['scalars1'] = range(0, 6, 1)\nsecond_cube = cube.copy()\nsecond_cube.cell_data['scalars1'] = range(0, 12, 2)\n\n# Plot the scalars1 array for each cube - note how there is only one scalar bar\npl = pv.Plotter(shape=(1, 2), border_width=1)\npl.add_mesh(cube, scalars='scalars1', cmap='coolwarm')\npl.subplot(0, 1)\npl.add_mesh(second_cube, scalars='scalars1', cmap='coolwarm')\npl.show()"
      ]
    },
    {
      "cell_type": "markdown",
      "metadata": {},
      "source": [
        "To use a separate scalar bar for each plotted scalar, set the scalar bar\ntitle to a unique string for each plot:\n"
      ]
    },
    {
      "cell_type": "code",
      "execution_count": null,
      "metadata": {
        "collapsed": false
      },
      "outputs": [],
      "source": [
        "pl = pv.Plotter(shape=(1, 2), border_width=1)\npl.add_mesh(\n    cube, scalars='scalars1', cmap='coolwarm', scalar_bar_args={'title': 'Cube 1: scalars1'}\n)  # Unique title\npl.subplot(0, 1)\npl.add_mesh(\n    second_cube, scalars='scalars1', cmap='coolwarm', scalar_bar_args={'title': 'Cube 2: scalars1'}\n)  # Unique title\npl.show()"
      ]
    },
    {
      "cell_type": "markdown",
      "metadata": {},
      "source": [
        "By default, a unique scalar bar is used for all plotted scalars with\nunique names:\n"
      ]
    },
    {
      "cell_type": "code",
      "execution_count": null,
      "metadata": {
        "collapsed": false
      },
      "outputs": [],
      "source": [
        "# Create a cube mesh with four scalar arrays\ncube = pv.Cube()\ncube.cell_data['scalars1'] = range(0, 6, 1)\ncube.cell_data['scalars2'] = range(0, 12, 2)\ncube.cell_data['scalars3'] = range(0, 18, 3)\ncube.cell_data['scalars4'] = range(0, 24, 4)\n\n# Plot the four scalar arrays - note how there is one scalar bar for each plotted\n# scalar. A shallow copy of cube is made when plotting each scalar array since\n# a mesh can have only one active scalar\npl = pv.Plotter(shape=(2, 2), border_width=1)\npl.add_mesh(cube, scalars='scalars1', cmap='coolwarm')\npl.camera.zoom(0.75)\npl.subplot(0, 1)\npl.add_mesh(cube.copy(deep=False), scalars='scalars2', cmap='coolwarm')\npl.camera.zoom(0.75)\npl.subplot(1, 0)\npl.add_mesh(cube.copy(deep=False), scalars='scalars3', cmap='coolwarm')\npl.camera.zoom(0.75)\npl.subplot(1, 1)\npl.add_mesh(cube.copy(deep=False), scalars='scalars4', cmap='coolwarm')\npl.camera.zoom(0.75)\npl.show()"
      ]
    },
    {
      "cell_type": "markdown",
      "metadata": {},
      "source": [
        "To share a scalar bar among different subplots, use a common scalar bar\ntitle among those subplots:\n"
      ]
    },
    {
      "cell_type": "code",
      "execution_count": null,
      "metadata": {
        "collapsed": false
      },
      "outputs": [],
      "source": [
        "# Plot the four scalar arrays - use one scalar bar for each row\npl = pv.Plotter(shape=(2, 2), border_width=1)\npl.add_mesh(cube, scalars='scalars1', cmap='coolwarm', scalar_bar_args={'title': 'Scalars 1 & 2'})\npl.camera.zoom(0.75)\npl.subplot(0, 1)\npl.add_mesh(\n    cube.copy(deep=False),\n    scalars='scalars2',\n    cmap='coolwarm',\n    scalar_bar_args={'title': 'Scalars 1 & 2'},\n)\npl.camera.zoom(0.75)\npl.subplot(1, 0)\npl.add_mesh(\n    cube.copy(deep=False),\n    scalars='scalars3',\n    cmap='coolwarm',\n    scalar_bar_args={'title': 'Scalars 3 & 4'},\n)\npl.camera.zoom(0.75)\npl.subplot(1, 1)\npl.add_mesh(\n    cube.copy(deep=False),\n    scalars='scalars4',\n    cmap='coolwarm',\n    scalar_bar_args={'title': 'Scalars 3 & 4'},\n)\npl.camera.zoom(0.75)\npl.show()"
      ]
    },
    {
      "cell_type": "markdown",
      "metadata": {},
      "source": [
        "::: {.tags}\nplot\n:::\n"
      ]
    }
  ],
  "metadata": {
    "kernelspec": {
      "display_name": "Python 3",
      "language": "python",
      "name": "python3"
    },
    "language_info": {
      "codemirror_mode": {
        "name": "ipython",
        "version": 3
      },
      "file_extension": ".py",
      "mimetype": "text/x-python",
      "name": "python",
      "nbconvert_exporter": "python",
      "pygments_lexer": "ipython3",
      "version": "3.13.5"
    }
  },
  "nbformat": 4,
  "nbformat_minor": 0
}