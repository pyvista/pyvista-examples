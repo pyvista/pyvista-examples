{
  "cells": [
    {
      "cell_type": "code",
      "execution_count": null,
      "metadata": {
        "collapsed": false
      },
      "outputs": [],
      "source": [
        "%matplotlib inline\nfrom pyvista import set_plot_theme\nset_plot_theme('document')"
      ]
    },
    {
      "cell_type": "markdown",
      "metadata": {},
      "source": [
        "Create a GIF Movie\n==================\n\nGenerate a moving gif from an active plotter\n"
      ]
    },
    {
      "cell_type": "code",
      "execution_count": null,
      "metadata": {
        "collapsed": false
      },
      "outputs": [],
      "source": [
        "import pyvista as pv\nimport numpy as np\n\nx = np.arange(-10, 10, 0.25)\ny = np.arange(-10, 10, 0.25)\nx, y = np.meshgrid(x, y)\nr = np.sqrt(x ** 2 + y ** 2)\nz = np.sin(r)\n\n# Create and structured surface\ngrid = pv.StructuredGrid(x, y, z)\n\n# Create a plotter object and set the scalars to the Z height\nplotter = pv.Plotter(notebook=False, off_screen=True)\nplotter.add_mesh(grid, scalars=z.ravel(), smooth_shading=True)\n\n# Open a gif\nplotter.open_gif(\"wave.gif\")\n\npts = grid.points.copy()\n\n# Update Z and write a frame for each updated position\nnframe = 15\nfor phase in np.linspace(0, 2 * np.pi, nframe + 1)[:nframe]:\n    z = np.sin(r + phase)\n    pts[:, -1] = z.ravel()\n    plotter.update_coordinates(pts, render=False)\n    plotter.update_scalars(z.ravel(), render=False)\n\n    # must update normals when smooth shading is enabled\n    plotter.mesh.compute_normals(cell_normals=False, inplace=True)\n    plotter.render()\n    plotter.write_frame()\n\n# Closes and finalizes movie\nplotter.close()"
      ]
    }
  ],
  "metadata": {
    "kernelspec": {
      "display_name": "Python 3",
      "language": "python",
      "name": "python3"
    },
    "language_info": {
      "codemirror_mode": {
        "name": "ipython",
        "version": 3
      },
      "file_extension": ".py",
      "mimetype": "text/x-python",
      "name": "python",
      "nbconvert_exporter": "python",
      "pygments_lexer": "ipython3",
      "version": "3.8.10"
    }
  },
  "nbformat": 4,
  "nbformat_minor": 0
}