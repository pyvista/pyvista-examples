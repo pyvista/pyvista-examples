{
  "cells": [
    {
      "cell_type": "code",
      "execution_count": null,
      "metadata": {
        "collapsed": false
      },
      "outputs": [],
      "source": [
        "%matplotlib inline"
      ]
    },
    {
      "cell_type": "markdown",
      "metadata": {},
      "source": [
        "Measuring distance {#distance_measurement_example}\n==================\n\nThis example demonstrates how to measure distance between two points.\n`add_measurement_widget() <pyvista.Plotter.add_measurement_widget>`{.interpreted-text\nrole=\"func\"}.\n"
      ]
    },
    {
      "cell_type": "code",
      "execution_count": null,
      "metadata": {
        "collapsed": false
      },
      "outputs": [],
      "source": [
        "import pyvista as pv\n\ncube = pv.Cube()\ncube2 = pv.Cube([10, 10, 0])\n\npl = pv.Plotter()\npl.add_mesh(cube)\npl.add_mesh(cube2)\n\n\ndef callback(a, b, distance):\n    pl.add_text(f'Distance: {distance:.2f}', name='dist')\n\n\npl.add_measurement_widget(callback)\npl.show()"
      ]
    }
  ],
  "metadata": {
    "kernelspec": {
      "display_name": "Python 3",
      "language": "python",
      "name": "python3"
    },
    "language_info": {
      "codemirror_mode": {
        "name": "ipython",
        "version": 3
      },
      "file_extension": ".py",
      "mimetype": "text/x-python",
      "name": "python",
      "nbconvert_exporter": "python",
      "pygments_lexer": "ipython3",
      "version": "3.12.0"
    }
  },
  "nbformat": 4,
  "nbformat_minor": 0
}