{
  "cells": [
    {
      "cell_type": "code",
      "execution_count": null,
      "metadata": {
        "collapsed": false
      },
      "outputs": [],
      "source": [
        "%matplotlib inline\nfrom pyvista import set_plot_theme\nset_plot_theme('document')"
      ]
    },
    {
      "cell_type": "markdown",
      "metadata": {},
      "source": [
        "Plot with Opacity\n=================\n\nPlot a mesh\\'s scalar array with an opacity transfer function or opacity\nmapping based on a scalar array.\n"
      ]
    },
    {
      "cell_type": "code",
      "execution_count": null,
      "metadata": {
        "collapsed": false
      },
      "outputs": [],
      "source": [
        "# sphinx_gallery_thumbnail_number = 2\nimport pyvista as pv\nfrom pyvista import examples\n\n# Load St Helens DEM and warp the topography\nimage = examples.download_st_helens()\nmesh = image.warp_by_scalar()"
      ]
    },
    {
      "cell_type": "markdown",
      "metadata": {},
      "source": [
        "Global Value\n============\n\nYou can also apply a global opacity value to the mesh by passing a\nsingle float between 0 and 1 which would enable you to see objects\nbehind the mesh:\n"
      ]
    },
    {
      "cell_type": "code",
      "execution_count": null,
      "metadata": {
        "collapsed": false
      },
      "outputs": [],
      "source": [
        "p = pv.Plotter()\np.add_mesh(image.contour(), line_width=5,)\np.add_mesh(mesh, opacity=0.85, color=True)\np.show()"
      ]
    },
    {
      "cell_type": "markdown",
      "metadata": {},
      "source": [
        "Note that you can specify `use_transparency=True` to convert opacities\nto transparencies in any of the following examples.\n"
      ]
    },
    {
      "cell_type": "markdown",
      "metadata": {},
      "source": [
        "Transfer Functions\n==================\n\nIt\\'s possible to apply an opacity mapping to any scalar array plotted.\nYou can specify either a single static value to make the mesh\ntransparent on all cells, or use a transfer function where the scalar\narray plotted is mapped to the opacity. We have several predefined\ntransfer functions.\n\nOpacity transfer functions are:\n\n-   `'linear'`: linearly vary (increase) opacity across the plotted\n    scalar range from low to high\n-   `'linear_r'`: linearly vary (increase) opacity across the plotted\n    scalar range from high to low\n-   `'geom'`: on a log scale, vary (increase) opacity across the plotted\n    scalar range from low to high\n-   `'geom_r'`: on a log scale, vary (increase) opacity across the\n    plotted scalar range from high to low\n-   `'sigmoid'`: vary (increase) opacity on a sigmoidal s-curve across\n    the plotted scalar range from low to high\n-   `'sigmoid_r'`: vary (increase) opacity on a sigmoidal s-curve across\n    the plotted scalar range from high to low\n"
      ]
    },
    {
      "cell_type": "code",
      "execution_count": null,
      "metadata": {
        "collapsed": false
      },
      "outputs": [],
      "source": [
        "# Show the linear opacity transfer function\nmesh.plot(opacity=\"linear\")"
      ]
    },
    {
      "cell_type": "code",
      "execution_count": null,
      "metadata": {
        "collapsed": false
      },
      "outputs": [],
      "source": [
        "# Show the sigmoid opacity transfer function\nmesh.plot(opacity=\"sigmoid\")"
      ]
    },
    {
      "cell_type": "markdown",
      "metadata": {},
      "source": [
        "It\\'s also possible to use your own transfer function that will be\nlinearly mapped to the scalar array plotted. For example, we can create\nan opacity mapping as:\n"
      ]
    },
    {
      "cell_type": "code",
      "execution_count": null,
      "metadata": {
        "collapsed": false
      },
      "outputs": [],
      "source": [
        "opacity = [0, 0.2, 0.9, 0.6, 0.3]"
      ]
    },
    {
      "cell_type": "markdown",
      "metadata": {},
      "source": [
        "When given a minimized opacity mapping like that above, PyVista\ninterpolates it across a range of how many colors are shown when mapping\nthe scalars. If `scipy` is available, then a quadratic interpolation is\nused -otherwise, a simple linear interpolation is used. Curious what\nthat opacity transfer function looks like? You can fetch it:\n"
      ]
    },
    {
      "cell_type": "code",
      "execution_count": null,
      "metadata": {
        "collapsed": false
      },
      "outputs": [],
      "source": [
        "# Have PyVista interpolate the transfer function\ntf = pv.opacity_transfer_function(opacity, 256).astype(float) / 255.\n\nimport matplotlib.pyplot as plt\nplt.plot(tf)\nplt.title('My Interpolated Opacity Transfer Function')\nplt.ylabel('Opacity')\nplt.xlabel('Index along scalar mapping')\nplt.show()"
      ]
    },
    {
      "cell_type": "markdown",
      "metadata": {},
      "source": [
        "That opacity mapping will have an opacity of 0.0 at the minimum scalar\nrange, a value or 0.9 at the middle of the scalar range, and a value of\n0.3 at the maximum of the scalar range:\n"
      ]
    },
    {
      "cell_type": "code",
      "execution_count": null,
      "metadata": {
        "collapsed": false
      },
      "outputs": [],
      "source": [
        "mesh.plot(opacity=opacity)"
      ]
    },
    {
      "cell_type": "markdown",
      "metadata": {},
      "source": [
        "Opacity mapping is often useful when plotting DICOM images. For example,\ndownload the sample knee DICOM image:\n"
      ]
    },
    {
      "cell_type": "code",
      "execution_count": null,
      "metadata": {
        "collapsed": false
      },
      "outputs": [],
      "source": [
        "knee = examples.download_knee()"
      ]
    },
    {
      "cell_type": "markdown",
      "metadata": {},
      "source": [
        "And here we inspect the DICOM image with a few different opacity\nmappings:\n"
      ]
    },
    {
      "cell_type": "code",
      "execution_count": null,
      "metadata": {
        "collapsed": false
      },
      "outputs": [],
      "source": [
        "p = pv.Plotter(shape=(2, 2), border=False)\n\np.add_mesh(knee, cmap=\"bone\", scalar_bar_args={'title': \"No Opacity\"})\np.view_xy()\n\np.subplot(0, 1)\np.add_mesh(knee, cmap=\"bone\", opacity=\"linear\",\n           scalar_bar_args={'title': \"Linear Opacity\"})\np.view_xy()\n\np.subplot(1, 0)\np.add_mesh(knee, cmap=\"bone\", opacity=\"sigmoid\",\n           scalar_bar_args={'title': \"Sigmoidal Opacity\"})\np.view_xy()\n\np.subplot(1, 1)\np.add_mesh(knee, cmap=\"bone\", opacity=\"geom_r\",\n           scalar_bar_args={'title': \"Log Scale Opacity\"})\np.view_xy()\n\np.show()"
      ]
    },
    {
      "cell_type": "markdown",
      "metadata": {},
      "source": [
        "Opacity by Array\n================\n\nYou can also use a scalar array associated with the mesh to give each\ncell its own opacity/transparency value derived from a scalar field. For\nexample, an uncertainty array from a modelling result could be used to\nhide regions of a mesh that are uncertain and highlight regions that are\nwell resolved.\n\nThe following is a demonstration of plotting a mesh with colored values\nand using a second array to control the transparency of the mesh\n"
      ]
    },
    {
      "cell_type": "code",
      "execution_count": null,
      "metadata": {
        "collapsed": false
      },
      "outputs": [],
      "source": [
        "model = examples.download_model_with_variance()\ncontours = model.contour(10, scalars='Temperature')\ncontours.array_names"
      ]
    },
    {
      "cell_type": "markdown",
      "metadata": {},
      "source": [
        "Make sure to flag `use_transparency=True` since we want areas of high\nvariance to have high transparency.\n\nAlso, since the opacity array must be between 0 and 1, we normalize the\ntemperature variance array by the maximum value. That way high variance\nwill be completely transparent.\n"
      ]
    },
    {
      "cell_type": "code",
      "execution_count": null,
      "metadata": {
        "collapsed": false
      },
      "outputs": [],
      "source": [
        "contours['Temperature_var'] /= contours['Temperature_var'].max()\n\np = pv.Plotter(shape=(1, 2))\n\np.subplot(0, 0)\np.add_text('Opacity by Array')\np.add_mesh(contours.copy(), scalars='Temperature',\n           opacity='Temperature_var',\n           use_transparency=True,\n           cmap='bwr')\n\np.subplot(0, 1)\np.add_text('No Opacity')\np.add_mesh(contours, scalars='Temperature',\n           cmap='bwr')\np.show()"
      ]
    }
  ],
  "metadata": {
    "kernelspec": {
      "display_name": "Python 3",
      "language": "python",
      "name": "python3"
    },
    "language_info": {
      "codemirror_mode": {
        "name": "ipython",
        "version": 3
      },
      "file_extension": ".py",
      "mimetype": "text/x-python",
      "name": "python",
      "nbconvert_exporter": "python",
      "pygments_lexer": "ipython3",
      "version": "3.8.10"
    }
  },
  "nbformat": 4,
  "nbformat_minor": 0
}