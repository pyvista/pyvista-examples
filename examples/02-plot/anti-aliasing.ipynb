{
  "cells": [
    {
      "cell_type": "code",
      "execution_count": null,
      "metadata": {
        "collapsed": false
      },
      "outputs": [],
      "source": [
        "%matplotlib inline\nfrom pyvista import set_plot_theme\nset_plot_theme('document')"
      ]
    },
    {
      "cell_type": "markdown",
      "metadata": {},
      "source": [
        "Anti-Aliasing {#anti_aliasing_example}\n=============\n\nDemonstrate anti-aliasing within PyVista.\n\nPyVista supports three types of anti-aliasing:\n\n-   `\"ssaa\"` - Super-Sample Anti-Aliasing\n-   `\"msaa\"` - Multi-Sample Anti-Aliasing\n-   `\"fxaa\"` - Fast Approximate Anti-Aliasing\n\nBy default, anti-aliasing is disabled, but can be enabled globally with:\n\n``` {.sourceCode .python}\n>>> import pyvista as pv\n>>> pv.global_theme.anti_aliasing = 'ssaa'\n```\n\n**Which anti-aliasing technique should you use?**\n\nThose who have PCs with high-end configuration should opt for `\"ssaa\"`\nor `\"msaa\"`. Low-end PCs should use `\"fxaa\"`.\n"
      ]
    },
    {
      "cell_type": "code",
      "execution_count": null,
      "metadata": {
        "collapsed": false
      },
      "outputs": [],
      "source": [
        "import pyvista as pv\nfrom pyvista import examples\n\nbunny = examples.download_bunny()"
      ]
    },
    {
      "cell_type": "markdown",
      "metadata": {},
      "source": [
        "No Anti-Aliasing\n================\n\nFirst, let\\'s show a plot without any anti-aliasing.\n"
      ]
    },
    {
      "cell_type": "code",
      "execution_count": null,
      "metadata": {
        "collapsed": false
      },
      "outputs": [],
      "source": [
        "# obtained with `cpos = pl.show(return_cpos=True)`\ncpos = [(-0.08566, 0.18735, 0.20116), (-0.05332, 0.12168, -0.01215), (-0.00151, 0.95566, -0.29446)]\n\npl = pv.Plotter()\npl.add_mesh(bunny, show_edges=True)\npl.disable_anti_aliasing()\npl.camera_position = cpos\npl.show()"
      ]
    },
    {
      "cell_type": "markdown",
      "metadata": {},
      "source": [
        "Fast Approximate Anti-Aliasing (FXAA)\n=====================================\n\nFXAA is the most performant of all three anti-aliasing techniques. This\nis because, in terms of hardware or GPU, FXAA is not that demanding. It\ndirectly smooths the 2D image and this reduces the strain over GPU,\nmaking it best for low-end PCs.\n\nBecause FXAA only operates on the rendered image, FXAA may result in\nsmoothing out parts of the visual overlay that are usually kept sharp\nfor reasons of clarity as well as smoothing out textures. In general,\nFXAA is inferior to MSAA and SSAA.\n"
      ]
    },
    {
      "cell_type": "code",
      "execution_count": null,
      "metadata": {
        "collapsed": false
      },
      "outputs": [],
      "source": [
        "pl = pv.Plotter()\npl.add_mesh(bunny, show_edges=True)\npl.enable_anti_aliasing('fxaa')\npl.camera_position = cpos\npl.show()"
      ]
    },
    {
      "cell_type": "markdown",
      "metadata": {},
      "source": [
        "Multi-Sample Anti-Aliasing (MSAA)\n=================================\n\nMSAA, or Multi-Sample Anti-Aliasing is an optimization of SSAA that\nreduces the amount of pixel shader evaluations that need to be computed\nby focusing on overlapping regions of the scene. The result is\nanti-aliasing along edges that is on par with SSAA and less\nanti-aliasing along surfaces as these make up the bulk of SSAA\ncomputations. MSAA is substantially less computationally expensive than\nSSAA and results in comparable image quality.\n"
      ]
    },
    {
      "cell_type": "code",
      "execution_count": null,
      "metadata": {
        "collapsed": false
      },
      "outputs": [],
      "source": [
        "pl = pv.Plotter()\npl.add_mesh(bunny, show_edges=True)\npl.enable_anti_aliasing('msaa')\npl.camera_position = cpos\npl.show()"
      ]
    },
    {
      "cell_type": "markdown",
      "metadata": {},
      "source": [
        "Super-Sample Anti-Aliasing (SSAA)\n=================================\n\nSSAA, or Super-Sample Anti-Aliasing is a brute force method of\nanti-aliasing. It results in the best image quality but comes at a\ntremendous resource cost. SSAA works by rendering the scene at a higher\nresolution. The final image is produced by downsampling the massive\nsource image using an averaging filter. This acts as a low pass filter\nwhich removes the high frequency components that would cause jaggedness.\n"
      ]
    },
    {
      "cell_type": "code",
      "execution_count": null,
      "metadata": {
        "collapsed": false
      },
      "outputs": [],
      "source": [
        "pl = pv.Plotter()\npl.add_mesh(bunny, show_edges=True, line_width=2)  # lines are thinner in SSAA\npl.enable_anti_aliasing('ssaa')\npl.camera_position = cpos\npl.show()"
      ]
    }
  ],
  "metadata": {
    "kernelspec": {
      "display_name": "Python 3",
      "language": "python",
      "name": "python3"
    },
    "language_info": {
      "codemirror_mode": {
        "name": "ipython",
        "version": 3
      },
      "file_extension": ".py",
      "mimetype": "text/x-python",
      "name": "python",
      "nbconvert_exporter": "python",
      "pygments_lexer": "ipython3",
      "version": "3.11.4"
    }
  },
  "nbformat": 4,
  "nbformat_minor": 0
}