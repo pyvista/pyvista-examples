{
  "cells": [
    {
      "cell_type": "code",
      "execution_count": null,
      "metadata": {
        "collapsed": false
      },
      "outputs": [],
      "source": [
        "%matplotlib inline"
      ]
    },
    {
      "cell_type": "markdown",
      "metadata": {},
      "source": [
        "Axes Objects {#axes_objects_example}\n============\n\nPyVista has many axes objects which can be used for plotting. This\nexample highlights many of these objects and shows how to use them with\nrelated plotting methods.\n"
      ]
    },
    {
      "cell_type": "code",
      "execution_count": null,
      "metadata": {
        "collapsed": false
      },
      "outputs": [],
      "source": [
        "from __future__ import annotations\n\nimport pyvista as pv\nfrom pyvista import examples"
      ]
    },
    {
      "cell_type": "markdown",
      "metadata": {},
      "source": [
        "Cube Axes\n=========\n\nShow axes bounds as a cube with\n`~pyvista.CubeAxesActor`{.interpreted-text role=\"class\"}.\n"
      ]
    },
    {
      "cell_type": "code",
      "execution_count": null,
      "metadata": {
        "collapsed": false
      },
      "outputs": [],
      "source": [
        "mesh = examples.download_bunny_coarse()\n\npl = pv.Plotter()\npl.add_mesh(mesh)\naxes = pv.CubeAxesActor(camera=pl.camera)\naxes.bounds = mesh.bounds\npl.add_actor(axes)\npl.background_color = pv.Color('paraview')\npl.show()"
      ]
    },
    {
      "cell_type": "markdown",
      "metadata": {},
      "source": [
        "Adding the axes like this can be a bit cumbersome since the camera,\nbounds, and color must be set manually. Instead, use\n`~pyvista.Plotter.show_bounds`{.interpreted-text role=\"meth\"} to add a\n`~pyvista.CubeAxesActor`{.interpreted-text role=\"class\"} with\npre-configured parameters.\n"
      ]
    },
    {
      "cell_type": "code",
      "execution_count": null,
      "metadata": {
        "collapsed": false
      },
      "outputs": [],
      "source": [
        "pl = pv.Plotter()\npl.add_mesh(mesh)\npl.show_bounds()\npl.show()"
      ]
    },
    {
      "cell_type": "markdown",
      "metadata": {},
      "source": [
        "Alternatively, use `~pyvista.Plotter.show_grid`{.interpreted-text\nrole=\"meth\"}. This also adds a\n`~pyvista.CubeAxesActor`{.interpreted-text role=\"class\"} to the plot but\nwith different default options.\n"
      ]
    },
    {
      "cell_type": "code",
      "execution_count": null,
      "metadata": {
        "collapsed": false
      },
      "outputs": [],
      "source": [
        "pl = pv.Plotter()\npl.add_mesh(mesh)\npl.show_grid()\npl.show()"
      ]
    },
    {
      "cell_type": "markdown",
      "metadata": {},
      "source": [
        "::: {.seealso}\n`~pyvista.Plotter.remove_bounds_axes`{.interpreted-text role=\"meth\"}\n`~pyvista.Plotter.update_bounds_axes`{.interpreted-text role=\"meth\"}\n`bounds_example`{.interpreted-text role=\"ref\"}\n:::\n"
      ]
    },
    {
      "cell_type": "markdown",
      "metadata": {},
      "source": [
        "Arrow Axes\n==========\n\nArrow-style axes include `~pyvista.AxesActor`{.interpreted-text\nrole=\"class\"}, `~pyvista.AxesAssembly`{.interpreted-text role=\"class\"},\nand `~pyvista.AxesAssemblySymmetric`{.interpreted-text role=\"class\"}.\n\n`AxesActor` is primarily intended for use as an orientation widget (see\nnext section), but can also be added to a plot as a normal actor. Use\n`~pyvista.Plotter.add_axes_at_origin`{.interpreted-text role=\"meth\"} to\nadd `AxesActor` at the origin.\n"
      ]
    },
    {
      "cell_type": "code",
      "execution_count": null,
      "metadata": {
        "collapsed": false
      },
      "outputs": [],
      "source": [
        "pl = pv.Plotter()\npl.add_mesh(mesh)\naxes = pl.add_axes_at_origin()\npl.show()"
      ]
    },
    {
      "cell_type": "markdown",
      "metadata": {},
      "source": [
        "The axes are too large and should be scaled down. Transformations with\n[AxesActor]{.title-ref} are possible, but with some caveats:\n\n-   The bounds of `AxesActor` are hard-coded as `+/- 1`, which makes it\n    challenging to configure the camera bounds for the plot.\n-   The user matrix must be used for transformations (scale and position\n    properties do not work).\n\nCreate new axes, disable its bounds, and apply a scaling\n`~pyvista.Transform`{.interpreted-text role=\"class\"}.\n"
      ]
    },
    {
      "cell_type": "code",
      "execution_count": null,
      "metadata": {
        "collapsed": false
      },
      "outputs": [],
      "source": [
        "trans = pv.Transform().scale(0.25)\naxes = pv.AxesActor()\naxes.UseBoundsOff()\naxes.SetUserMatrix(pv.vtkmatrix_from_array(trans.matrix))"
      ]
    },
    {
      "cell_type": "markdown",
      "metadata": {},
      "source": [
        "Plot the axes with a mesh. Note that since the bounds of the axes are\nnot used, the tip of the z-axis appears clipped, which is not ideal.\n"
      ]
    },
    {
      "cell_type": "code",
      "execution_count": null,
      "metadata": {
        "collapsed": false
      },
      "outputs": [],
      "source": [
        "pl = pv.Plotter()\npl.add_mesh(mesh)\npl.add_actor(axes)\npl.show()"
      ]
    },
    {
      "cell_type": "markdown",
      "metadata": {},
      "source": [
        "Instead of using `~pyvista.AxesActor`{.interpreted-text role=\"class\"},\n`~pyvista.AxesAssembly`{.interpreted-text role=\"class\"} is recommended\nfor positioning axes in a scene.\n"
      ]
    },
    {
      "cell_type": "code",
      "execution_count": null,
      "metadata": {
        "collapsed": false
      },
      "outputs": [],
      "source": [
        "axes = pv.AxesAssembly(scale=0.25)\npl = pv.Plotter()\npl.add_mesh(mesh)\npl.add_actor(axes)\npl.show()"
      ]
    },
    {
      "cell_type": "markdown",
      "metadata": {},
      "source": [
        "Alternatively, use `~pyvista.AxesAssemblySymmetric`{.interpreted-text\nrole=\"class\"} for adding symmetric axes to a scene.\n"
      ]
    },
    {
      "cell_type": "code",
      "execution_count": null,
      "metadata": {
        "collapsed": false
      },
      "outputs": [],
      "source": [
        "axes = pv.AxesAssemblySymmetric(scale=0.25)\npl = pv.Plotter()\npl.add_mesh(mesh)\npl.add_actor(axes)\npl.show()"
      ]
    },
    {
      "cell_type": "markdown",
      "metadata": {},
      "source": [
        "Axes Widgets\n============\n\nAny actor can also be used as an axes orientation widget. Here, we\ndemonstrate using four separate axes widgets:\n\n1.  Use `~pyvista.Plotter.add_axes`{.interpreted-text role=\"meth\"} to\n    add an arrow-style orientation widget. The widget uses\n    `~pyvista.AxesActor`{.interpreted-text role=\"class\"} by default.\n2.  Use `~pyvista.Plotter.add_box_axes`{.interpreted-text role=\"meth\"}\n    to add a box-style orientation widget.\n3.  Use `~pyvista.Plotter.add_north_arrow_widget`{.interpreted-text\n    role=\"meth\"} to add a north arrow orientation widget.\n4.  Add `~pyvista.AxesAssemblySymmetric`{.interpreted-text role=\"class\"}\n    as a custom orientation widget using\n    `~pyvista.Plotter.add_orientation_widget`{.interpreted-text\n    role=\"meth\"}.\n"
      ]
    },
    {
      "cell_type": "code",
      "execution_count": null,
      "metadata": {
        "collapsed": false
      },
      "outputs": [],
      "source": [
        "# Load a dataset\nmesh = examples.load_airplane()\n\n# Create a plotter with four linked views.\nviewport = (0, 0, 0.5, 0.5)\npl = pv.Plotter(shape=(2, 2))\npl.link_views()\n\n# Add arrow-style axes\npl.subplot(0, 0)\npl.add_mesh(mesh)\npl.add_axes(viewport=viewport)\n\n# Add box-style axes\npl.subplot(0, 1)\npl.add_mesh(mesh)\npl.add_box_axes(viewport=viewport)\n\n# Add north arrow\npl.subplot(1, 0)\npl.add_mesh(mesh)\npl.add_north_arrow_widget(viewport=viewport)\n\n# Add symmetric arrow-style axes\npl.subplot(1, 1)\npl.add_mesh(mesh)\naxes = pv.AxesAssemblySymmetric(label_size=25)\npl.add_orientation_widget(axes, viewport=viewport)\n\npl.show()"
      ]
    },
    {
      "cell_type": "markdown",
      "metadata": {},
      "source": [
        "Camera Orientation Widget\n=========================\n\nThere is also a specialized camera widget which can added to a plot with\n`~pyvista.Plotter.add_camera_orientation_widget`{.interpreted-text\nrole=\"class\"}.\n"
      ]
    },
    {
      "cell_type": "code",
      "execution_count": null,
      "metadata": {
        "collapsed": false
      },
      "outputs": [],
      "source": [
        "pl = pv.Plotter()\npl.add_mesh(mesh)\npl.add_camera_orientation_widget()\npl.show()"
      ]
    },
    {
      "cell_type": "markdown",
      "metadata": {},
      "source": [
        "::: {.tags}\nplot\n:::\n"
      ]
    }
  ],
  "metadata": {
    "kernelspec": {
      "display_name": "Python 3",
      "language": "python",
      "name": "python3"
    },
    "language_info": {
      "codemirror_mode": {
        "name": "ipython",
        "version": 3
      },
      "file_extension": ".py",
      "mimetype": "text/x-python",
      "name": "python",
      "nbconvert_exporter": "python",
      "pygments_lexer": "ipython3",
      "version": "3.13.5"
    }
  },
  "nbformat": 4,
  "nbformat_minor": 0
}