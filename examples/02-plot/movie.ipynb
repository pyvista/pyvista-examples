{
  "cells": [
    {
      "cell_type": "code",
      "execution_count": null,
      "metadata": {
        "collapsed": false
      },
      "outputs": [],
      "source": [
        "%matplotlib inline\nfrom pyvista import set_plot_theme\nset_plot_theme('document')"
      ]
    },
    {
      "cell_type": "markdown",
      "metadata": {},
      "source": [
        "Create a MP4 Movie\n==================\n\nCreate an animated MP4 movie of a rendering scene.\n\n::: {.note}\n::: {.admonition-title}\nNote\n:::\n\nThis movie will appear static since MP4 movies will not be rendered on a\nsphinx gallery example.\n:::\n"
      ]
    },
    {
      "cell_type": "code",
      "execution_count": null,
      "metadata": {
        "collapsed": false
      },
      "outputs": [],
      "source": [
        "import pyvista as pv\nimport numpy as np\n\nfilename = \"sphere-shrinking.mp4\"\n\nmesh = pv.Sphere()\nmesh.cell_arrays[\"data\"] = np.random.random(mesh.n_cells)\n\nplotter = pv.Plotter()\n# Open a movie file\nplotter.open_movie(filename)\n\n# Add initial mesh\nplotter.add_mesh(mesh, scalars=\"data\", clim=[0, 1])\n# Add outline for shrinking reference\nplotter.add_mesh(mesh.outline_corners())\n\nplotter.show(auto_close=False)  # only necessary for an off-screen movie\n\n# Run through each frame\nplotter.write_frame()  # write initial data\n\n# Update scalars on each frame\nfor i in range(100):\n    random_points = np.random.random(mesh.points.shape)\n    mesh.points = random_points * 0.01 + mesh.points * 0.99\n    mesh.points -= mesh.points.mean(0)\n    mesh.cell_arrays[\"data\"] = np.random.random(mesh.n_cells)\n    plotter.add_text(f\"Iteration: {i}\", name='time-label')\n    plotter.write_frame()  # Write this frame\n\n# Be sure to close the plotter when finished\nplotter.close()"
      ]
    }
  ],
  "metadata": {
    "kernelspec": {
      "display_name": "Python 3",
      "language": "python",
      "name": "python3"
    },
    "language_info": {
      "codemirror_mode": {
        "name": "ipython",
        "version": 3
      },
      "file_extension": ".py",
      "mimetype": "text/x-python",
      "name": "python",
      "nbconvert_exporter": "python",
      "pygments_lexer": "ipython3",
      "version": "3.8.10"
    }
  },
  "nbformat": 4,
  "nbformat_minor": 0
}