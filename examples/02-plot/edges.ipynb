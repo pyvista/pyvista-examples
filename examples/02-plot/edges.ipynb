{
  "cells": [
    {
      "cell_type": "code",
      "execution_count": null,
      "metadata": {
        "collapsed": false
      },
      "outputs": [],
      "source": [
        "%matplotlib inline\nfrom pyvista import set_plot_theme\nset_plot_theme('document')"
      ]
    },
    {
      "cell_type": "markdown",
      "metadata": {},
      "source": [
        "Show Edges\n==========\n\nShow the edges of all geometries within a mesh\n"
      ]
    },
    {
      "cell_type": "markdown",
      "metadata": {},
      "source": [
        "Sometimes it can be useful to show all of the edges of a mesh when\nrendering to communicate aspects of the dataset like resolution.\n\nShowing the edges for any rendered dataset is as simple as specifying\nthe the `show_edges` keyword argument to `True` when plotting a dataset.\n"
      ]
    },
    {
      "cell_type": "code",
      "execution_count": null,
      "metadata": {
        "collapsed": false
      },
      "outputs": [],
      "source": [
        "# sphinx_gallery_thumbnail_number = 1\nfrom pyvista import examples\n\nnefertiti = examples.download_nefertiti()\n\n# Camera position to zoom to face\nface_view = [\n    (194.57658338658473, -327.5539184202715, 28.106692235139377),\n    (-10.46795453395034, -67.33281919301498, -19.938084799559192),\n    (-0.05444711191580967, 0.13964269728441056, 0.9887039137674948),\n]\n\n\nnefertiti.plot(cpos=face_view, show_edges=True, color=True)"
      ]
    }
  ],
  "metadata": {
    "kernelspec": {
      "display_name": "Python 3",
      "language": "python",
      "name": "python3"
    },
    "language_info": {
      "codemirror_mode": {
        "name": "ipython",
        "version": 3
      },
      "file_extension": ".py",
      "mimetype": "text/x-python",
      "name": "python",
      "nbconvert_exporter": "python",
      "pygments_lexer": "ipython3",
      "version": "3.8.10"
    }
  },
  "nbformat": 4,
  "nbformat_minor": 0
}