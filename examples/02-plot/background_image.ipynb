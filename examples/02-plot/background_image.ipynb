{
  "cells": [
    {
      "cell_type": "code",
      "execution_count": null,
      "metadata": {
        "collapsed": false
      },
      "outputs": [],
      "source": [
        "%matplotlib inline\nfrom pyvista import set_plot_theme\nset_plot_theme('document')"
      ]
    },
    {
      "cell_type": "markdown",
      "metadata": {},
      "source": [
        "Background Image\n================\n\nAdd a background image with `add_background_image`\n"
      ]
    },
    {
      "cell_type": "code",
      "execution_count": null,
      "metadata": {
        "collapsed": false
      },
      "outputs": [],
      "source": [
        "import pyvista as pv\nfrom pyvista import examples"
      ]
    },
    {
      "cell_type": "markdown",
      "metadata": {},
      "source": [
        "Plot an airplane with the map of the earth in the background\n"
      ]
    },
    {
      "cell_type": "code",
      "execution_count": null,
      "metadata": {
        "collapsed": false
      },
      "outputs": [],
      "source": [
        "earth_alt = examples.download_topo_global()\n\npl = pv.Plotter()\nactor = pl.add_mesh(examples.load_airplane(), smooth_shading=True)\npl.add_background_image(examples.mapfile)\npl.show()"
      ]
    },
    {
      "cell_type": "markdown",
      "metadata": {},
      "source": [
        "Plot several earth related plots\n"
      ]
    },
    {
      "cell_type": "code",
      "execution_count": null,
      "metadata": {
        "collapsed": false
      },
      "outputs": [],
      "source": [
        "pl = pv.Plotter(shape=(2, 2))\n\npl.subplot(0, 0)\npl.add_text('Earth Visible as Map')\npl.add_background_image(examples.mapfile, as_global=False)\n\npl.subplot(0, 1)\npl.add_text('Earth Altitude')\nactor = pl.add_mesh(earth_alt, cmap='gist_earth')\n\npl.subplot(1, 0)\ntopo = examples.download_topo_land()\nactor = pl.add_mesh(topo, cmap='gist_earth')\npl.add_text('Earth Land Altitude')\n\npl.subplot(1, 1)\npl.add_text('Earth Visible as Globe')\npl.add_mesh(examples.load_globe(), smooth_shading=True)\n\npl.show()"
      ]
    }
  ],
  "metadata": {
    "kernelspec": {
      "display_name": "Python 3",
      "language": "python",
      "name": "python3"
    },
    "language_info": {
      "codemirror_mode": {
        "name": "ipython",
        "version": 3
      },
      "file_extension": ".py",
      "mimetype": "text/x-python",
      "name": "python",
      "nbconvert_exporter": "python",
      "pygments_lexer": "ipython3",
      "version": "3.8.10"
    }
  },
  "nbformat": 4,
  "nbformat_minor": 0
}