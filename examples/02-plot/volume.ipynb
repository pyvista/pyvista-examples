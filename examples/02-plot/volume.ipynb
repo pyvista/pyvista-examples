{
  "cells": [
    {
      "cell_type": "code",
      "execution_count": null,
      "metadata": {
        "collapsed": false
      },
      "outputs": [],
      "source": [
        "%matplotlib inline\nfrom pyvista import set_plot_theme\nset_plot_theme('document')"
      ]
    },
    {
      "cell_type": "markdown",
      "metadata": {},
      "source": [
        "Volume Rendering\n================\n\nVolume render uniform mesh types like\n`pyvista.UniformGrid`{.interpreted-text role=\"class\"} or 3D NumPy\narrays.\n\nThis also explores how to extract a volume of interest (VOI) from a\n`pyvista.UniformGrid`{.interpreted-text role=\"class\"} using the\n`pyvista.UniformGridFilters.extract_subset`{.interpreted-text\nrole=\"func\"} filter.\n"
      ]
    },
    {
      "cell_type": "code",
      "execution_count": null,
      "metadata": {
        "collapsed": false
      },
      "outputs": [],
      "source": [
        "# sphinx_gallery_thumbnail_number = 3\nimport pyvista as pv\nfrom pyvista import examples\n\n# Download a volumetric dataset\nvol = examples.download_knee_full()\nvol"
      ]
    },
    {
      "cell_type": "markdown",
      "metadata": {},
      "source": [
        "Simple Volume Render\n====================\n"
      ]
    },
    {
      "cell_type": "code",
      "execution_count": null,
      "metadata": {
        "collapsed": false
      },
      "outputs": [],
      "source": [
        "# A nice camera position\ncpos = [(-381.74, -46.02, 216.54), (74.8305, 89.2905, 100.0), (0.23, 0.072, 0.97)]\n\nvol.plot(volume=True, cmap=\"bone\", cpos=cpos)"
      ]
    },
    {
      "cell_type": "markdown",
      "metadata": {},
      "source": [
        "Opacity Mappings\n================\n\nOr use the `pyvista.BasePlotter.add_volume`{.interpreted-text\nrole=\"func\"} method like below. Note that here we use a non-default\nopacity mapping to a sigmoid:\n"
      ]
    },
    {
      "cell_type": "code",
      "execution_count": null,
      "metadata": {
        "collapsed": false
      },
      "outputs": [],
      "source": [
        "p = pv.Plotter()\np.add_volume(vol, cmap=\"bone\", opacity=\"sigmoid\")\np.camera_position = cpos\np.show()"
      ]
    },
    {
      "cell_type": "markdown",
      "metadata": {},
      "source": [
        "You can also use a custom opacity mapping\n"
      ]
    },
    {
      "cell_type": "code",
      "execution_count": null,
      "metadata": {
        "collapsed": false
      },
      "outputs": [],
      "source": [
        "opacity = [0, 0, 0, 0.1, 0.3, 0.6, 1]\n\np = pv.Plotter()\np.add_volume(vol, cmap=\"viridis\", opacity=opacity)\np.camera_position = cpos\np.show()"
      ]
    },
    {
      "cell_type": "markdown",
      "metadata": {},
      "source": [
        "We can also use a shading technique when volume rendering with the\n`shade` option\n"
      ]
    },
    {
      "cell_type": "code",
      "execution_count": null,
      "metadata": {
        "collapsed": false
      },
      "outputs": [],
      "source": [
        "p = pv.Plotter(shape=(1,2))\np.add_volume(vol, cmap=\"viridis\", opacity=opacity, shade=False)\np.add_text(\"No shading\")\np.subplot(0,1)\np.add_volume(vol, cmap=\"viridis\", opacity=opacity, shade=True)\np.add_text(\"Shading\")\np.link_views()\np.camera_position = cpos\np.show()"
      ]
    },
    {
      "cell_type": "markdown",
      "metadata": {},
      "source": [
        "Cool Volume Examples\n====================\n\nHere are a few more cool volume rendering examples\n"
      ]
    },
    {
      "cell_type": "code",
      "execution_count": null,
      "metadata": {
        "collapsed": false
      },
      "outputs": [],
      "source": [
        "head = examples.download_head()\n\np = pv.Plotter()\np.add_volume(head, cmap=\"cool\", opacity=\"sigmoid_6\")\np.camera_position = [(-228.0, -418.0, -158.0), (94.0, 122.0, 82.0), (-0.2, -0.3, 0.9)]\np.show()"
      ]
    },
    {
      "cell_type": "code",
      "execution_count": null,
      "metadata": {
        "collapsed": false
      },
      "outputs": [],
      "source": [
        "bolt_nut = examples.download_bolt_nut()\n\np = pv.Plotter()\np.add_volume(bolt_nut, cmap=\"coolwarm\", opacity=\"sigmoid_5\")\np.show()"
      ]
    },
    {
      "cell_type": "code",
      "execution_count": null,
      "metadata": {
        "collapsed": false
      },
      "outputs": [],
      "source": [
        "frog = examples.download_frog()\n\np = pv.Plotter()\np.add_volume(frog, cmap=\"viridis\", opacity=\"sigmoid_6\")\np.camera_position = [(929., 1067., -278.9),\n                     (249.5, 234.5, 101.25),\n                     (-0.2048, -0.2632, -0.9427)]\np.show()"
      ]
    },
    {
      "cell_type": "markdown",
      "metadata": {},
      "source": [
        "Extracting a VOI\n================\n\nUse the `pyvista.UniformGridFilters.extract_subset`{.interpreted-text\nrole=\"func\"} filter to extract a volume of interest/subset volume to\nvolume render. This is ideal when dealing with particularly large\nvolumes and you want to volume render only a specific region.\n"
      ]
    },
    {
      "cell_type": "code",
      "execution_count": null,
      "metadata": {
        "collapsed": false
      },
      "outputs": [],
      "source": [
        "# Load a particularly large volume\nlarge_vol = examples.download_damavand_volcano()\nlarge_vol"
      ]
    },
    {
      "cell_type": "code",
      "execution_count": null,
      "metadata": {
        "collapsed": false
      },
      "outputs": [],
      "source": [
        "opacity = [0, 0.75, 0, 0.75, 1.0]\nclim = [0, 100]\n\np = pv.Plotter()\np.add_volume(large_vol, cmap=\"magma\", clim=clim,\n             opacity=opacity, opacity_unit_distance=6000,)\np.show()"
      ]
    },
    {
      "cell_type": "markdown",
      "metadata": {},
      "source": [
        "Woah, that\\'s a big volume! We probably don\\'t want to volume render the\nwhole thing. So let\\'s extract a region of interest under the volcano.\n\nThe region we will extract will be between nodes 175 and 200 on the\nx-axis, between nodes 105 and 132 on the y-axis, and between nodes 98\nand 170 on the z-axis.\n"
      ]
    },
    {
      "cell_type": "code",
      "execution_count": null,
      "metadata": {
        "collapsed": false
      },
      "outputs": [],
      "source": [
        "voi = large_vol.extract_subset([175, 200, 105, 132, 98, 170])\n\np = pv.Plotter()\np.add_mesh(large_vol.outline(), color=\"k\")\np.add_mesh(voi, cmap=\"magma\")\np.show()"
      ]
    },
    {
      "cell_type": "markdown",
      "metadata": {},
      "source": [
        "Ah, much better. Let\\'s now volume render that region of interest!\n"
      ]
    },
    {
      "cell_type": "code",
      "execution_count": null,
      "metadata": {
        "collapsed": false
      },
      "outputs": [],
      "source": [
        "p = pv.Plotter()\np.add_volume(voi, cmap=\"magma\", clim=clim, opacity=opacity,\n             opacity_unit_distance=2000)\np.camera_position = [(531554.5542909054, 3944331.800171338, 26563.04809259223),\n (599088.1433822059, 3982089.287834022, -11965.14728669936),\n (0.3738545892415734, 0.244312810377319, 0.8947312427698892)]\np.show()"
      ]
    }
  ],
  "metadata": {
    "kernelspec": {
      "display_name": "Python 3",
      "language": "python",
      "name": "python3"
    },
    "language_info": {
      "codemirror_mode": {
        "name": "ipython",
        "version": 3
      },
      "file_extension": ".py",
      "mimetype": "text/x-python",
      "name": "python",
      "nbconvert_exporter": "python",
      "pygments_lexer": "ipython3",
      "version": "3.8.10"
    }
  },
  "nbformat": 4,
  "nbformat_minor": 0
}