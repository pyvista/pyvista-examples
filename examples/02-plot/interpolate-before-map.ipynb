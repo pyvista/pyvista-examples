{
  "cells": [
    {
      "cell_type": "code",
      "execution_count": null,
      "metadata": {
        "collapsed": false
      },
      "outputs": [],
      "source": [
        "%matplotlib inline\nfrom pyvista import set_plot_theme\nset_plot_theme('document')"
      ]
    },
    {
      "cell_type": "markdown",
      "metadata": {},
      "source": [
        "\nInterpolate Before Mapping\n~~~~~~~~~~~~~~~~~~~~~~~~~~\n\nThe ``add_mesh`` function has an ``interpolate_before_map`` argument - this\naffects the way scalar data is visualized with colors.\nThe effect can of this can vary depending on the dataset's topology and the\nchosen colormap.\n\nThis example serves to demo the difference and why we've chosen to enable this\nby default.\n\nFor more details, please see `this blog post <https://blog.kitware.com/what-is-interpolatescalarsbeforemapping-in-vtk/>`_\n"
      ]
    },
    {
      "cell_type": "code",
      "execution_count": null,
      "metadata": {
        "collapsed": false
      },
      "outputs": [],
      "source": [
        "# sphinx_gallery_thumbnail_number = 4\nimport pyvista as pv"
      ]
    },
    {
      "cell_type": "markdown",
      "metadata": {},
      "source": [
        "Meshes are colored by the data on their nodes or cells - when coloring a mesh\nby data on its nodes, the values must be interpolated across the faces of\ncells. The process by which those scalars are interpolated is critical.\nIf the ``interpolate_before_map`` is left off, the color mapping occurs at\npolygon points and  colors are interpolated, which is generally less accurate\nwhereas if the ``interpolate_before_map`` is on, then the scalars will be\ninterpolated across the topology of the dataset which is more accurate.\n\nTo summarize, when ``interpolate_before_map`` is off, the colors are\ninterpolated after rendering and when ``interpolate_before_map`` is on, the\nscalars are interpolated across the mesh and those values are mapped to\ncolors.\n\nSo lets take a look at the difference:\n\n"
      ]
    },
    {
      "cell_type": "code",
      "execution_count": null,
      "metadata": {
        "collapsed": false
      },
      "outputs": [],
      "source": [
        "# Load a cylider which has cells with a wide spread\ncyl = pv.Cylinder(direction=(0,0,1), height=2).elevation()\n\n# Common display argument to make sure all else is constant\ndargs = dict(scalars='Elevation', cmap='rainbow', show_edges=True)\n\np = pv.Plotter(shape=(1,2))\np.add_mesh(cyl, interpolate_before_map=False,\n           stitle='Elevation - not interpolated', **dargs)\np.subplot(0,1)\np.add_mesh(cyl, interpolate_before_map=True,\n           stitle='Elevation - interpolated', **dargs)\np.link_views()\np.camera_position = [(-1.67, -5.10, 2.06),\n                     (0.0, 0.0, 0.0),\n                     (0.00, 0.37, 0.93)]\np.show()"
      ]
    },
    {
      "cell_type": "markdown",
      "metadata": {},
      "source": [
        "Shown in the figure above, when not interpolating the scalars before mapping,\nthe colors (RGB values, not scalars) are interpolated between the vertices by\nthe underlying graphics library (OpenGL), and the colors shown are not\naccurate.\n\nThe same interpolation effect occurs for wireframe visualization too:\n\n"
      ]
    },
    {
      "cell_type": "code",
      "execution_count": null,
      "metadata": {
        "collapsed": false
      },
      "outputs": [],
      "source": [
        "# Common display argument to make sure all else is constant\ndargs = dict(scalars='Elevation', cmap='rainbow', show_edges=True,\n             style='wireframe')\n\np = pv.Plotter(shape=(1,2))\np.add_mesh(cyl, interpolate_before_map=False,\n           stitle='Elevation - not interpolated', **dargs)\np.subplot(0,1)\np.add_mesh(cyl, interpolate_before_map=True,\n           stitle='Elevation - interpolated', **dargs)\np.link_views()\np.camera_position = [(-1.67, -5.10, 2.06),\n                     (0.0, 0.0, 0.0),\n                     (0.00, 0.37, 0.93)]\np.show()"
      ]
    },
    {
      "cell_type": "markdown",
      "metadata": {},
      "source": [
        "The cylider mesh above is a great example dataset for this as it has a wide\nspread between the vertices (points are only at the top and bottom of the\ncylinder) which means high surface are of the mesh has to be interpolated.\n\nHowever, most meshes don't have such a wide spread and the effects of\ncolor interpolating are harder to notice. Let's take a look at a wavelet\nexample and try to figure out how the ``interpolate_before_map`` option\naffects its rendering.\n\n"
      ]
    },
    {
      "cell_type": "code",
      "execution_count": null,
      "metadata": {
        "collapsed": false
      },
      "outputs": [],
      "source": [
        "wavelet = pv.Wavelet().clip('x')\n\n# Common display argument to make sure all else is constant\ndargs = dict(scalars='RTData', cmap='rainbow', show_edges=True)\n\np = pv.Plotter(shape=(1,2))\np.add_mesh(wavelet, interpolate_before_map=False,\n           stitle='RTData - not interpolated', **dargs)\np.subplot(0,1)\np.add_mesh(wavelet, interpolate_before_map=True,\n           stitle='RTData - interpolated', **dargs)\np.link_views()\np.camera_position = [(55., 16, 31),\n                     (-5.0, 0.0, 0.0),\n                     (-0.22, 0.97, -0.09)]\np.show()"
      ]
    },
    {
      "cell_type": "markdown",
      "metadata": {},
      "source": [
        "This time is pretty difficult to notice the differences - they are there,\nsubtle, but present. The differences become more apperant when we decrease\nthe number of colors in colormap.\nLet's take a look at the differences when using eight discrete colors via\nthe ``n_colors`` argument:\n\n"
      ]
    },
    {
      "cell_type": "code",
      "execution_count": null,
      "metadata": {
        "collapsed": false
      },
      "outputs": [],
      "source": [
        "dargs = dict(scalars='RTData', cmap='rainbow', show_edges=True, n_colors=8)\n\np = pv.Plotter(shape=(1,2))\np.add_mesh(wavelet, interpolate_before_map=False,\n           stitle='RTData - not interpolated', **dargs)\np.subplot(0,1)\np.add_mesh(wavelet, interpolate_before_map=True,\n           stitle='RTData - interpolated', **dargs)\np.link_views()\np.camera_position = [(55., 16, 31),\n                     (-5.0, 0.0, 0.0),\n                     (-0.22, 0.97, -0.09)]\np.show()"
      ]
    },
    {
      "cell_type": "markdown",
      "metadata": {},
      "source": [
        "Left, ``interpolate_before_map`` OFF.  Right, ``interpolate_before_map`` ON.\n\nNow that is much more compelling! On the right, the contours of the scalar\nfield are visible, but on the left, the contours are obscured due to the color\ninterpolation by OpenGL. In both cases, the colors at the vertices are the\nsame, the difference is how color is assigned between the vertices.\n\nIn our opinion, color interpolation is not a preferred default for scientific\nvisualization and is why we have chosen to set the ``interpolate_before_map``\nflag to ``True``.\n\n"
      ]
    }
  ],
  "metadata": {
    "kernelspec": {
      "display_name": "Python 3",
      "language": "python",
      "name": "python3"
    },
    "language_info": {
      "codemirror_mode": {
        "name": "ipython",
        "version": 3
      },
      "file_extension": ".py",
      "mimetype": "text/x-python",
      "name": "python",
      "nbconvert_exporter": "python",
      "pygments_lexer": "ipython3",
      "version": "3.7.7"
    }
  },
  "nbformat": 4,
  "nbformat_minor": 0
}