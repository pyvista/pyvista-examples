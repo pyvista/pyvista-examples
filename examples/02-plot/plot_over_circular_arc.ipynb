{
  "cells": [
    {
      "cell_type": "code",
      "execution_count": null,
      "metadata": {
        "collapsed": false
      },
      "outputs": [],
      "source": [
        "%matplotlib inline"
      ]
    },
    {
      "cell_type": "markdown",
      "metadata": {},
      "source": [
        "Plot Scalars Over a Circular Arc {#plot_over_circular_arc_example}\n================================\n\nInterpolate the scalars of a dataset over a circular arc using\n`~pyvista.DataSetFilters.plot_over_circular_arc_normal`{.interpreted-text\nrole=\"meth\"}.\n"
      ]
    },
    {
      "cell_type": "code",
      "execution_count": null,
      "metadata": {
        "collapsed": false
      },
      "outputs": [],
      "source": [
        "from __future__ import annotations\n\nimport pyvista as pv\nfrom pyvista import examples"
      ]
    },
    {
      "cell_type": "markdown",
      "metadata": {},
      "source": [
        "Volumetric Mesh\n===============\n\nAdd the height scalars to a uniform 3D mesh.\n"
      ]
    },
    {
      "cell_type": "code",
      "execution_count": null,
      "metadata": {
        "collapsed": false
      },
      "outputs": [],
      "source": [
        "mesh = examples.load_uniform()\nmesh['height'] = mesh.points[:, 2]\n\n# Make two points at the bounds of the mesh and one at the center to\n# construct a circular arc.\nnormal = [0, 1, 0]\nbnds = mesh.bounds\npolar = [bnds.x_min, bnds.y_min, bnds.z_max]\ncenter = [bnds.x_min, bnds.y_min, bnds.z_min]\nangle = 90.0\n\n# Preview how this circular arc intersects this mesh\n# with :func:`~pyvista.CircularArcFromNormal`.\narc = pv.CircularArcFromNormal(\n    center=center, resolution=100, normal=normal, polar=polar, angle=angle\n)\n\np = pv.Plotter()\np.add_mesh(mesh, style='wireframe', color='w')\np.add_mesh(arc, color='b')\na = arc.points[0]\nb = arc.points[-1]\np.add_point_labels([a, b], ['A', 'B'], font_size=48, point_color='red', text_color='red')\np.show()"
      ]
    },
    {
      "cell_type": "markdown",
      "metadata": {},
      "source": [
        "Run the filter and produce a line plot.\n"
      ]
    },
    {
      "cell_type": "code",
      "execution_count": null,
      "metadata": {
        "collapsed": false
      },
      "outputs": [],
      "source": [
        "mesh.plot_over_circular_arc_normal(\n    center=center, resolution=100, normal=normal, polar=polar, angle=angle, scalars='height'\n)"
      ]
    },
    {
      "cell_type": "markdown",
      "metadata": {},
      "source": [
        "::: {.tags}\nplot\n:::\n"
      ]
    }
  ],
  "metadata": {
    "kernelspec": {
      "display_name": "Python 3",
      "language": "python",
      "name": "python3"
    },
    "language_info": {
      "codemirror_mode": {
        "name": "ipython",
        "version": 3
      },
      "file_extension": ".py",
      "mimetype": "text/x-python",
      "name": "python",
      "nbconvert_exporter": "python",
      "pygments_lexer": "ipython3",
      "version": "3.13.5"
    }
  },
  "nbformat": 4,
  "nbformat_minor": 0
}