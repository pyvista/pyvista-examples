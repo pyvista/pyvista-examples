{
  "cells": [
    {
      "cell_type": "code",
      "execution_count": null,
      "metadata": {
        "collapsed": false
      },
      "outputs": [],
      "source": [
        "%matplotlib inline\nfrom pyvista import set_plot_theme\nset_plot_theme('document')"
      ]
    },
    {
      "cell_type": "markdown",
      "metadata": {},
      "source": [
        "Silhouette Highlight\n====================\n\nExtract a subset of the edges of a polygonal mesh to generate an outline\n(silhouette) of a mesh.\n"
      ]
    },
    {
      "cell_type": "code",
      "execution_count": null,
      "metadata": {
        "collapsed": false
      },
      "outputs": [],
      "source": [
        "import pyvista\nfrom pyvista import examples"
      ]
    },
    {
      "cell_type": "markdown",
      "metadata": {},
      "source": [
        "Prepare a triangulated `PolyData`\n"
      ]
    },
    {
      "cell_type": "code",
      "execution_count": null,
      "metadata": {
        "collapsed": false
      },
      "outputs": [],
      "source": [
        "bunny = examples.download_bunny()"
      ]
    },
    {
      "cell_type": "markdown",
      "metadata": {},
      "source": [
        "Now we can display the silhouette of the mesh and compare the result:\n"
      ]
    },
    {
      "cell_type": "code",
      "execution_count": null,
      "metadata": {
        "collapsed": false
      },
      "outputs": [],
      "source": [
        "plotter = pyvista.Plotter(shape=(1, 2))\nplotter.subplot(0, 0)\nplotter.add_mesh(bunny, color='tan', silhouette=True)\nplotter.add_text(\"Silhouette\")\nplotter.view_xy()\nplotter.subplot(0, 1)\nplotter.add_mesh(bunny, color='tan')\nplotter.add_text(\"No silhouette\")\nplotter.view_xy()\nplotter.show()"
      ]
    },
    {
      "cell_type": "markdown",
      "metadata": {},
      "source": [
        "Maybe the default parameters are not enough to really notice the\nsilhouette. But by using a `dict`, it is possible to modify the\nproperties of the outline. For example, color and width could be\nspecified like so:\n"
      ]
    },
    {
      "cell_type": "code",
      "execution_count": null,
      "metadata": {
        "collapsed": false
      },
      "outputs": [],
      "source": [
        "plotter = pyvista.Plotter()\nsilhouette = dict(\n    color='red',\n    line_width=8.0,\n)\nplotter.add_mesh(bunny, silhouette=silhouette)\nplotter.view_xy()\nplotter.show()"
      ]
    },
    {
      "cell_type": "markdown",
      "metadata": {},
      "source": [
        "By default, PyVista uses a pretty aggressive decimation level but we\nmight want to disable it. It is also possible to display sharp edges:\n"
      ]
    },
    {
      "cell_type": "code",
      "execution_count": null,
      "metadata": {
        "collapsed": false
      },
      "outputs": [],
      "source": [
        "cylinder = pyvista.Cylinder(center=(0, 0.04, 0), direction=(0, 1, 0),\n                            radius=0.15, height=0.03).triangulate()\n\nplotter = pyvista.Plotter(shape=(1, 3))\nplotter.subplot(0, 0)\nplotter.add_mesh(cylinder, color='tan', smooth_shading=True,\n                 silhouette=dict(\n                    color='red',\n                    line_width=8.0,\n                    decimate=None,\n                    feature_angle=True))\nplotter.add_text(\"Silhouette with sharp edges\")\nplotter.view_isometric()\nplotter.subplot(0, 1)\nplotter.add_mesh(cylinder, color='tan', smooth_shading=True,\n                 silhouette=dict(\n                    color='red',\n                    line_width=8.0,\n                    decimate=None))\nplotter.add_text(\"Silhouette without sharp edges\")\nplotter.view_isometric()\nplotter.subplot(0, 2)\nplotter.add_mesh(cylinder, color='tan', smooth_shading=True)\nplotter.add_text(\"No silhouette\")\nplotter.view_isometric()\nplotter.show()"
      ]
    },
    {
      "cell_type": "markdown",
      "metadata": {},
      "source": [
        "Here is another example:\n"
      ]
    },
    {
      "cell_type": "code",
      "execution_count": null,
      "metadata": {
        "collapsed": false
      },
      "outputs": [],
      "source": [
        "dragon = examples.download_dragon()\nplotter = pyvista.Plotter()\nplotter.set_background('black', 'blue')\nplotter.add_mesh(dragon, color=\"green\", specular=1, smooth_shading=True,\n                 silhouette=dict(line_width=8, color='white'))\n\nplotter.add_mesh(cylinder, color='tan', smooth_shading=True,\n                 silhouette=dict(decimate=None, feature_angle=True,\n                                 line_width=8, color='white'))\nplotter.camera_position = [\n    (-0.2936731887752889, 0.2389060430625446, 0.35138839367034236),\n    (-0.005878899246454239, 0.12495124898850918, -0.004603400826454163),\n    (0.34348225747312017, 0.8567703221182346, -0.38466160965007384)\n]\nplotter.show()"
      ]
    }
  ],
  "metadata": {
    "kernelspec": {
      "display_name": "Python 3",
      "language": "python",
      "name": "python3"
    },
    "language_info": {
      "codemirror_mode": {
        "name": "ipython",
        "version": 3
      },
      "file_extension": ".py",
      "mimetype": "text/x-python",
      "name": "python",
      "nbconvert_exporter": "python",
      "pygments_lexer": "ipython3",
      "version": "3.8.10"
    }
  },
  "nbformat": 4,
  "nbformat_minor": 0
}