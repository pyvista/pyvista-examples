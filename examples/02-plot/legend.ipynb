{
  "cells": [
    {
      "cell_type": "code",
      "execution_count": null,
      "metadata": {
        "collapsed": false
      },
      "outputs": [],
      "source": [
        "%matplotlib inline"
      ]
    },
    {
      "cell_type": "markdown",
      "metadata": {},
      "source": [
        "Legends and glyphs\n==================\n\nUsing custom legends and glyphs within PyVista.\n"
      ]
    },
    {
      "cell_type": "code",
      "execution_count": null,
      "metadata": {
        "collapsed": false
      },
      "outputs": [],
      "source": [
        "from __future__ import annotations\n\nimport pyvista as pv\nfrom pyvista import examples"
      ]
    },
    {
      "cell_type": "markdown",
      "metadata": {},
      "source": [
        "Default legend for glyphs\n=========================\n\nThe method `pyvista.PolyData.add_legend`{.interpreted-text role=\"func\"}\nis able to retrieve and use the glyphs for each plot.\n"
      ]
    },
    {
      "cell_type": "code",
      "execution_count": null,
      "metadata": {
        "collapsed": false
      },
      "outputs": [],
      "source": [
        "pl = pv.Plotter()\n\n# Loading mesh\nmesh = examples.load_random_hills()\n\n# Adding another set of glyphs with opposite value.\nmesh[\"NormalInversed\"] = -1 * mesh[\"Normals\"].copy()\n\n# Generating glyph meshes\narrows = mesh.glyph(scale=\"Normals\", orient=\"Normals\", tolerance=0.05)\npl.add_mesh(arrows, color=\"blue\", label=\"Top pressure\")\n\narrows_inversed = mesh.glyph(scale=\"NormalInversed\", orient=\"NormalInversed\", tolerance=0.05)\npl.add_mesh(arrows_inversed, color=\"red\", label=\"Lower pressure\")\n\n# Adding surface mesh\npl.add_mesh(mesh, scalars=\"Elevation\", cmap=\"terrain\", show_scalar_bar=False)\n\n# Add default legend\npl.add_legend()\n\n# Plot\npl.show()"
      ]
    },
    {
      "cell_type": "markdown",
      "metadata": {},
      "source": [
        "Using custom legends\n====================\n\nYou can use specific labels with\n`pyvista.PolyData.add_legend`{.interpreted-text role=\"func\"}\n"
      ]
    },
    {
      "cell_type": "code",
      "execution_count": null,
      "metadata": {
        "collapsed": false
      },
      "outputs": [],
      "source": [
        "pl = pv.Plotter()\n\n# Adding glyph meshes\npl.add_mesh(arrows, color=\"blue\", label=\"Top pressure\")\npl.add_mesh(arrows_inversed, color=\"red\", label=\"Lower pressure\")\n\n# Adding surface mesh\npl.add_mesh(mesh, scalars=\"Elevation\", cmap=\"terrain\", show_scalar_bar=False)\n\n# adding legend\nlegend = [\"New top pressure\", \"New lower pressure\"]\n\n# You can\npl.add_legend(legend)\n\n# In this case, the default values are used, not the ones from the\n# :func:`pyvista.PolyData.add_mesh`.\n\npl.show()"
      ]
    },
    {
      "cell_type": "markdown",
      "metadata": {},
      "source": [
        "Using custom legend and glyphs\n==============================\n\nYou can use specific labels or glyphs even if they have been specified\nbefore.\n"
      ]
    },
    {
      "cell_type": "code",
      "execution_count": null,
      "metadata": {
        "collapsed": false
      },
      "outputs": [],
      "source": [
        "pl = pv.Plotter()\n\n# Adding glyph meshes\npl.add_mesh(arrows, color=\"blue\", label=\"Top pressure\")\npl.add_mesh(arrows_inversed, color=\"red\", label=\"Lower pressure\")\n\n# Adding surface mesh\npl.add_mesh(mesh, scalars=\"Elevation\", cmap=\"terrain\", show_scalar_bar=False)\n\n# You can use custom glyphs even if they don't match the plot.\n# You can use either ``list`` or ``dict`` for passing the data.\nlegend = [\n    [\"Top pressure\", \"blue\"],  # no custom glyph\n    [\"Middle point pressure\", \"green\", \"circle\"],  # Using a defaults glyph\n    {\"label\": \"Lower pressure\", \"color\": \"red\", \"face\": pv.Box()},\n]\n\n# You can\npl.add_legend(legend)\n\n# Plot\npl.show()"
      ]
    }
  ],
  "metadata": {
    "kernelspec": {
      "display_name": "Python 3",
      "language": "python",
      "name": "python3"
    },
    "language_info": {
      "codemirror_mode": {
        "name": "ipython",
        "version": 3
      },
      "file_extension": ".py",
      "mimetype": "text/x-python",
      "name": "python",
      "nbconvert_exporter": "python",
      "pygments_lexer": "ipython3",
      "version": "3.12.4"
    }
  },
  "nbformat": 4,
  "nbformat_minor": 0
}