{
  "cells": [
    {
      "cell_type": "code",
      "execution_count": null,
      "metadata": {
        "collapsed": false
      },
      "outputs": [],
      "source": [
        "%matplotlib inline\nfrom pyvista import set_plot_theme\nset_plot_theme('document')"
      ]
    },
    {
      "cell_type": "markdown",
      "metadata": {},
      "source": [
        "Surface Space Ambient Occlusion {#ssao_example}\n===============================\n\nDemonstrate the usage of surface space ambient occlusion.\n\nSurface space ambient occlusion (SSAO) can approximate shadows more\nefficiently than ray-tracing and produce similar results. Use this when\nyou wish to plot the occlusion effect that nearby meshes have on each\nother by blocking nearby light sources.\n\nSee [Kitware: Screen-Space Ambient\nOcclusion](https://www.kitware.com/ssao/) for more details\n"
      ]
    },
    {
      "cell_type": "code",
      "execution_count": null,
      "metadata": {
        "collapsed": false
      },
      "outputs": [],
      "source": [
        "# First, let's create several cubes nearby each other\n\nimport pyvista as pv\nfrom pyvista import examples\n\ngrid = pv.ImageData(dimensions=(5, 5, 5)).explode(0.2)"
      ]
    },
    {
      "cell_type": "markdown",
      "metadata": {},
      "source": [
        "Plot with defaults\n==================\n\nLet\\'s plot this without SSAO. Note how the lighting is identical for\neach cube.\n"
      ]
    },
    {
      "cell_type": "code",
      "execution_count": null,
      "metadata": {
        "collapsed": false
      },
      "outputs": [],
      "source": [
        "pl = pv.Plotter()\npl.add_mesh(grid)\npl.show()"
      ]
    },
    {
      "cell_type": "markdown",
      "metadata": {},
      "source": [
        "Plot with SSAO\n==============\n\nNow plot this with SSAO. Note how adjacent cubes affect the lighting of\neach other to make it look less artificial.\n\nWith a low `kernel_size`, the image will be rendered quickly at the\nexpense of quality.\n"
      ]
    },
    {
      "cell_type": "code",
      "execution_count": null,
      "metadata": {
        "collapsed": false
      },
      "outputs": [],
      "source": [
        "pl = pv.Plotter()\npl.add_mesh(grid)\npl.enable_ssao(kernel_size=32)\npl.show()"
      ]
    },
    {
      "cell_type": "markdown",
      "metadata": {},
      "source": [
        "Improve the SSAO rendering\n==========================\n\nHere we\\'ve increased the `kernel_size` to improve the quality of the\nSSAO and also enabled SSAA anti-aliasing to smooth out any of the\nartifacts created from SSAO.\n"
      ]
    },
    {
      "cell_type": "code",
      "execution_count": null,
      "metadata": {
        "collapsed": false
      },
      "outputs": [],
      "source": [
        "pl = pv.Plotter()\npl.add_mesh(grid)\npl.enable_ssao(kernel_size=128)\npl.enable_anti_aliasing('ssaa')\npl.show()"
      ]
    },
    {
      "cell_type": "markdown",
      "metadata": {},
      "source": [
        "Plot a CAD model without SSAO\n=============================\n\nHere\\'s another example without SSAO. This is a CAD model of a Raspberry\nPI case.\n"
      ]
    },
    {
      "cell_type": "code",
      "execution_count": null,
      "metadata": {
        "collapsed": false
      },
      "outputs": [],
      "source": [
        "mesh = examples.download_cad_model_case()\n\npl = pv.Plotter()\npl.add_mesh(mesh, smooth_shading=True, split_sharp_edges=True)\npl.enable_anti_aliasing('ssaa')\npl.camera.zoom(1.7)\npl.show()"
      ]
    },
    {
      "cell_type": "markdown",
      "metadata": {},
      "source": [
        "Plot with SSAO\n==============\n\nHere\\'s the same CAD model with SSAO. Note how we had to increase both\n`radius` and `bias` due to the relative scene size.\n\nNote that the occlusion still seems quite small. In the next example we\nwill increase the `radius` to increase the effect of the occlusion.\n"
      ]
    },
    {
      "cell_type": "code",
      "execution_count": null,
      "metadata": {
        "collapsed": false
      },
      "outputs": [],
      "source": [
        "pl = pv.Plotter()\npl.add_mesh(mesh, smooth_shading=True, split_sharp_edges=True)\npl.enable_ssao(radius=2, bias=0.5)\npl.enable_anti_aliasing('ssaa')\npl.camera.zoom(1.7)\npl.show()"
      ]
    },
    {
      "cell_type": "markdown",
      "metadata": {},
      "source": [
        "Increase the Radius\n===================\n\nHere we\\'ve increased the `radius` to the point where the case occlusion\nnow seems realistic without it becoming overwhelming.\n"
      ]
    },
    {
      "cell_type": "code",
      "execution_count": null,
      "metadata": {
        "collapsed": false
      },
      "outputs": [],
      "source": [
        "pl = pv.Plotter()\npl.add_mesh(mesh, smooth_shading=True, split_sharp_edges=True)\npl.enable_ssao(radius=15, bias=0.5)\npl.enable_anti_aliasing('ssaa')\npl.camera.zoom(1.7)\npl.show()"
      ]
    }
  ],
  "metadata": {
    "kernelspec": {
      "display_name": "Python 3",
      "language": "python",
      "name": "python3"
    },
    "language_info": {
      "codemirror_mode": {
        "name": "ipython",
        "version": 3
      },
      "file_extension": ".py",
      "mimetype": "text/x-python",
      "name": "python",
      "nbconvert_exporter": "python",
      "pygments_lexer": "ipython3",
      "version": "3.11.4"
    }
  },
  "nbformat": 4,
  "nbformat_minor": 0
}