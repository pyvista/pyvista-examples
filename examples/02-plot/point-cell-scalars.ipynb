{
  "cells": [
    {
      "cell_type": "code",
      "execution_count": null,
      "metadata": {
        "collapsed": false
      },
      "outputs": [],
      "source": [
        "%matplotlib inline\nfrom pyvista import set_plot_theme\nset_plot_theme('document')"
      ]
    },
    {
      "cell_type": "markdown",
      "metadata": {},
      "source": [
        "Point Cell Scalars {#point_cell_scalars_example}\n==================\n\nThis example demonstrates how to add point scalars for each individual\ncell to a dataset.\n"
      ]
    },
    {
      "cell_type": "code",
      "execution_count": null,
      "metadata": {
        "collapsed": false
      },
      "outputs": [],
      "source": [
        "import numpy as np\n\nfrom pyvista import examples"
      ]
    },
    {
      "cell_type": "markdown",
      "metadata": {},
      "source": [
        "load the first 4 cells from the example UnstructuredGrid. Note how the\nnumber of points is less than 32 since all the points are joined in the\ncenter.\n"
      ]
    },
    {
      "cell_type": "code",
      "execution_count": null,
      "metadata": {
        "collapsed": false
      },
      "outputs": [],
      "source": [
        "grid = examples.load_hexbeam().extract_cells(range(4))\ngrid"
      ]
    },
    {
      "cell_type": "markdown",
      "metadata": {},
      "source": [
        "Plot Point Scalars\n==================\n\nAt this point it\\'s possible to assign only point or cell scalars to\nthis dataset. First, let\\'s just plot some simple point scalars.\n"
      ]
    },
    {
      "cell_type": "code",
      "execution_count": null,
      "metadata": {
        "collapsed": false
      },
      "outputs": [],
      "source": [
        "grid.point_data['Point Data'] = range(grid.n_points)\ngrid.plot(scalars='Point Data')"
      ]
    },
    {
      "cell_type": "markdown",
      "metadata": {},
      "source": [
        "Plot Cell Scalars\n=================\n\nNext, let\\'s plot cell scalars. We\\'re simply assigning based on the\ncell index.\n"
      ]
    },
    {
      "cell_type": "code",
      "execution_count": null,
      "metadata": {
        "collapsed": false
      },
      "outputs": [],
      "source": [
        "grid.cell_data['Cell Data'] = range(grid.n_cells)\ngrid.plot(scalars='Cell Data')"
      ]
    },
    {
      "cell_type": "markdown",
      "metadata": {},
      "source": [
        "Splitting the Cells\n===================\n\nIf you wanted to assign data to each point of each cell and plot that,\nit\\'s simply not possible since these hexahedral cells all share the\nsame points. To split up individual cells, separate them using\n`pyvista.DataSetFilters.separate_cells`{.interpreted-text role=\"func\"}.\n\nWith this filter the resulting\n`pyvista.UnstructuredGrid`{.interpreted-text role=\"class\"} now contains\n32 points, or 8 for each cell. They are now fully separated with no\nshared points.\n"
      ]
    },
    {
      "cell_type": "code",
      "execution_count": null,
      "metadata": {
        "collapsed": false
      },
      "outputs": [],
      "source": [
        "split_cells = grid.separate_cells()\nsplit_cells"
      ]
    },
    {
      "cell_type": "markdown",
      "metadata": {},
      "source": [
        "Plot Point Cell Data\n====================\n\nNow we can plot values for each point for each cell. This will still be\nassigned to the point data.\n\nHere we use `numpy.hstack`{.interpreted-text role=\"func\"} for clarity,\nbut as long as the length of the data matches the number of points,\nyou\\'ll be able to use this approach.\n\nSee how the plotted values appear continuous within a cell and\ndiscontinuous between cells. This matches how stresses and strains are\ncalculated from finite element solutions.\n"
      ]
    },
    {
      "cell_type": "code",
      "execution_count": null,
      "metadata": {
        "collapsed": false
      },
      "outputs": [],
      "source": [
        "split_cells.point_data['Point Cell Data'] = np.hstack(\n    (\n        np.linspace(0, 8, 8),  # cell 0\n        np.linspace(0, 12, 8),  # cell 1\n        np.linspace(0, 16, 8),  # cell 2\n        np.linspace(0, 20, 8),  # cell 3\n    )\n)\nsplit_cells.plot(scalars='Point Cell Data')"
      ]
    }
  ],
  "metadata": {
    "kernelspec": {
      "display_name": "Python 3",
      "language": "python",
      "name": "python3"
    },
    "language_info": {
      "codemirror_mode": {
        "name": "ipython",
        "version": 3
      },
      "file_extension": ".py",
      "mimetype": "text/x-python",
      "name": "python",
      "nbconvert_exporter": "python",
      "pygments_lexer": "ipython3",
      "version": "3.11.3"
    }
  },
  "nbformat": 4,
  "nbformat_minor": 0
}