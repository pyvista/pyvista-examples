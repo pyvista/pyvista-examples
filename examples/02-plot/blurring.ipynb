{
  "cells": [
    {
      "cell_type": "code",
      "execution_count": null,
      "metadata": {
        "collapsed": false
      },
      "outputs": [],
      "source": [
        "%matplotlib inline"
      ]
    },
    {
      "cell_type": "markdown",
      "metadata": {},
      "source": [
        "Blurring {#blur_example}\n========\n\nThis example shows how you can use `add_blurring\n<pyvista.Plotter.add_blurring>`{.interpreted-text role=\"func\"} to blur a\nplot, or use\n`enable_depth_of_field <pyvista.Plotter.enable_depth_of_field>`{.interpreted-text\nrole=\"func\"} to highlight part of your plot.\n"
      ]
    },
    {
      "cell_type": "code",
      "execution_count": null,
      "metadata": {
        "collapsed": false
      },
      "outputs": [],
      "source": [
        "import pyvista as pv"
      ]
    },
    {
      "cell_type": "markdown",
      "metadata": {},
      "source": [
        "Create several spheres\n======================\n"
      ]
    },
    {
      "cell_type": "code",
      "execution_count": null,
      "metadata": {
        "collapsed": false
      },
      "outputs": [],
      "source": [
        "# We use a uniform grid here simply to create equidistantly spaced points for\n# our glyph filter\ngrid = pv.ImageData(dimensions=(4, 4, 4), spacing=(1, 1, 1))\n\nspheres = grid.glyph(geom=pv.Sphere(), scale=False, orient=False)"
      ]
    },
    {
      "cell_type": "markdown",
      "metadata": {},
      "source": [
        "Blur the plot\n=============\n\nAdd a few blur passes to blur the plot\n"
      ]
    },
    {
      "cell_type": "code",
      "execution_count": null,
      "metadata": {
        "collapsed": false
      },
      "outputs": [],
      "source": [
        "pl = pv.Plotter()\npl.add_mesh(spheres, smooth_shading=True, show_edges=True)\npl.add_blurring()\npl.add_blurring()\npl.add_blurring()\npl.camera.zoom(1.5)\npl.enable_anti_aliasing('ssaa')\npl.show()"
      ]
    },
    {
      "cell_type": "markdown",
      "metadata": {},
      "source": [
        "Note how this is different than selectively blurring part of the mesh\nbehind the focal plane\n"
      ]
    },
    {
      "cell_type": "code",
      "execution_count": null,
      "metadata": {
        "collapsed": false
      },
      "outputs": [],
      "source": [
        "pl = pv.Plotter()\npl.add_mesh(spheres, smooth_shading=True, show_edges=True)\npl.enable_depth_of_field()\npl.camera.zoom(1.5)\npl.enable_anti_aliasing('ssaa')\npl.show()"
      ]
    }
  ],
  "metadata": {
    "kernelspec": {
      "display_name": "Python 3",
      "language": "python",
      "name": "python3"
    },
    "language_info": {
      "codemirror_mode": {
        "name": "ipython",
        "version": 3
      },
      "file_extension": ".py",
      "mimetype": "text/x-python",
      "name": "python",
      "nbconvert_exporter": "python",
      "pygments_lexer": "ipython3",
      "version": "3.12.0"
    }
  },
  "nbformat": 4,
  "nbformat_minor": 0
}