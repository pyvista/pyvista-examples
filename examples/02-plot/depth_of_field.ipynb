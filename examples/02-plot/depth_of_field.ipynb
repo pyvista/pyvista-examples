{
  "cells": [
    {
      "cell_type": "code",
      "execution_count": null,
      "metadata": {
        "collapsed": false
      },
      "outputs": [],
      "source": [
        "%matplotlib inline\nfrom pyvista import set_plot_theme\nset_plot_theme('document')"
      ]
    },
    {
      "cell_type": "markdown",
      "metadata": {},
      "source": [
        "Depth of Field Plotting {#depth_of_field_example}\n=======================\n\nThis example shows how you can use `enable_depth_of_field\n<pyvista.Plotter.enable_depth_of_field>`{.interpreted-text role=\"func\"}\nto highlight part of your plot.\n"
      ]
    },
    {
      "cell_type": "code",
      "execution_count": null,
      "metadata": {
        "collapsed": false
      },
      "outputs": [],
      "source": [
        "import numpy as np\n\nimport pyvista as pv\nfrom pyvista import examples"
      ]
    },
    {
      "cell_type": "markdown",
      "metadata": {},
      "source": [
        "Generate a bunch of bunnies\n===========================\n\nCreate many bunnies using the\n`glyph <pyvista.DataSetFilters.glyph>`{.interpreted-text role=\"func\"}\nfilter.\n"
      ]
    },
    {
      "cell_type": "code",
      "execution_count": null,
      "metadata": {
        "collapsed": false
      },
      "outputs": [],
      "source": [
        "# download the stanford bunny and rotate it into a good position\nmesh = examples.download_bunny()\nmesh = mesh.rotate_x(90, inplace=False).rotate_z(90, inplace=False).scale(4, 4, 4)\n\n# We use a uniform grid here simply to create equidistantly spaced points for\n# our glyph filter\ngrid = pv.ImageData(dimensions=(4, 3, 3), spacing=(3, 1, 1))\n\nbunnies = grid.glyph(geom=mesh, scale=False, orient=False)\nbunnies"
      ]
    },
    {
      "cell_type": "markdown",
      "metadata": {},
      "source": [
        "Show the plot without enabling depth of field\n=============================================\n"
      ]
    },
    {
      "cell_type": "code",
      "execution_count": null,
      "metadata": {
        "collapsed": false
      },
      "outputs": [],
      "source": [
        "# convert points into rgba colors\ncolors = bunnies.points - bunnies.bounds[::2]\ncolors /= colors.max(axis=0)\ncolors *= 255\ncolors = colors.astype(np.uint8)\n\n# obtained camera position with `cpos = pl.show(return_cpos)`\ncpos = [(11.6159, -1.2803, 1.5338), (4.1354, 1.4796, 1.2711), (-0.0352, -0.0004, 1.0)]\n\n# Since we're using physically based rendering (PBR), let's also download a\n# skybox cubemap use it as an environment texture. For PBR to work well you\n# should have a environment texture.\ncubemap = examples.download_sky_box_cube_map()\n\npl = pv.Plotter()\npl.background_color = 'w'\npl.add_mesh(bunnies, scalars=colors, rgb=True, pbr=True, metallic=0.85)\npl.camera_position = cpos\npl.set_environment_texture(cubemap)\npl.show()"
      ]
    },
    {
      "cell_type": "markdown",
      "metadata": {},
      "source": [
        "Show the plot while enabling depth of field\n===========================================\n"
      ]
    },
    {
      "cell_type": "code",
      "execution_count": null,
      "metadata": {
        "collapsed": false
      },
      "outputs": [],
      "source": [
        "pl = pv.Plotter()\npl.background_color = 'w'\npl.add_mesh(bunnies, scalars=colors, rgb=True, pbr=True, metallic=0.85)\npl.camera_position = cpos\npl.enable_depth_of_field()\npl.enable_anti_aliasing('ssaa')\npl.set_environment_texture(cubemap)\npl.show()"
      ]
    }
  ],
  "metadata": {
    "kernelspec": {
      "display_name": "Python 3",
      "language": "python",
      "name": "python3"
    },
    "language_info": {
      "codemirror_mode": {
        "name": "ipython",
        "version": 3
      },
      "file_extension": ".py",
      "mimetype": "text/x-python",
      "name": "python",
      "nbconvert_exporter": "python",
      "pygments_lexer": "ipython3",
      "version": "3.11.5"
    }
  },
  "nbformat": 4,
  "nbformat_minor": 0
}