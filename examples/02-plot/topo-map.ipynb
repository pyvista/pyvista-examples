{
  "cells": [
    {
      "cell_type": "code",
      "execution_count": null,
      "metadata": {
        "collapsed": false
      },
      "outputs": [],
      "source": [
        "%matplotlib inline\nfrom pyvista import set_plot_theme\nset_plot_theme('document')"
      ]
    },
    {
      "cell_type": "markdown",
      "metadata": {},
      "source": [
        "Topographic Map {#ref_topo_map_example}\n===============\n\nThis is very similar to the `ref_texture_example`{.interpreted-text\nrole=\"ref\"} example except it is focused on plotting aerial imagery from\na GeoTIFF on top of some topography mesh.\n"
      ]
    },
    {
      "cell_type": "code",
      "execution_count": null,
      "metadata": {
        "collapsed": false
      },
      "outputs": [],
      "source": [
        "import matplotlib as mpl\nimport matplotlib.pyplot as plt\n\nimport pyvista as pv\nfrom pyvista import examples"
      ]
    },
    {
      "cell_type": "markdown",
      "metadata": {},
      "source": [
        "Start by loading the elevation data and a topographic map.\n"
      ]
    },
    {
      "cell_type": "code",
      "execution_count": null,
      "metadata": {
        "collapsed": false
      },
      "outputs": [],
      "source": [
        "# Load the elevation data as a surface\nelevation = examples.download_crater_topo().warp_by_scalar()\n# Load the topographic map from a GeoTiff\ntopo_map = examples.download_crater_imagery()\ntopo_map = topo_map.flip_y()  # flip to align to our dataset\n\nelevation"
      ]
    },
    {
      "cell_type": "markdown",
      "metadata": {},
      "source": [
        "Let\\'s inspect the imagery that we just loaded.\n"
      ]
    },
    {
      "cell_type": "code",
      "execution_count": null,
      "metadata": {
        "collapsed": false
      },
      "outputs": [],
      "source": [
        "mpl.rcParams['figure.dpi'] = 500\nplt.imshow(topo_map.to_array())"
      ]
    },
    {
      "cell_type": "markdown",
      "metadata": {},
      "source": [
        "Once you have a topography mesh loaded as a surface mesh (we use a\n`pyvista.StructuredGrid`{.interpreted-text role=\"class\"} here) and an\nimage loaded as a `pyvista.Texture`{.interpreted-text role=\"class\"}\nusing `pyvista.read_texture`{.interpreted-text role=\"func\"}, then you\ncan map that imagery to the surface mesh as follows:\n"
      ]
    },
    {
      "cell_type": "code",
      "execution_count": null,
      "metadata": {
        "collapsed": false
      },
      "outputs": [],
      "source": [
        "# Bounds of the aerial imagery - given to us\nbounds = (1818000, 1824500, 5645000, 5652500, 0, 3000)\n# Clip the elevation dataset to the map's extent\nlocal = elevation.clip_box(bounds, invert=False)\n# Apply texturing coordinates to associate the image to the surface\nlocal.texture_map_to_plane(use_bounds=True, inplace=True)"
      ]
    },
    {
      "cell_type": "markdown",
      "metadata": {},
      "source": [
        "Now display it. Note that the imagery is aligned as we expect.\n"
      ]
    },
    {
      "cell_type": "code",
      "execution_count": null,
      "metadata": {
        "collapsed": false
      },
      "outputs": [],
      "source": [
        "local.plot(texture=topo_map, cpos=\"xy\")"
      ]
    },
    {
      "cell_type": "markdown",
      "metadata": {},
      "source": [
        "And here is a 3D perspective.\n"
      ]
    },
    {
      "cell_type": "code",
      "execution_count": null,
      "metadata": {
        "collapsed": false
      },
      "outputs": [],
      "source": [
        "local.plot(texture=topo_map)"
      ]
    },
    {
      "cell_type": "markdown",
      "metadata": {},
      "source": [
        "We could also display the entire region by extracting the surrounding\nregion and plotting the texture mapped local topography and the outside\narea\n"
      ]
    },
    {
      "cell_type": "code",
      "execution_count": null,
      "metadata": {
        "collapsed": false
      },
      "outputs": [],
      "source": [
        "# Extract surrounding region from elevation data\nsurrounding = elevation.clip_box(bounds, invert=True)\n\n# Display with a shading technique\np = pv.Plotter()\np.add_mesh(local, texture=topo_map)\np.add_mesh(surrounding, color=\"white\")\np.enable_eye_dome_lighting()\np.camera_position = [\n    (1831100.0, 5642142.0, 8168.0),\n    (1820841.0, 5648745.0, 1104.0),\n    (-0.435, 0.248, 0.865),\n]\np.show()"
      ]
    }
  ],
  "metadata": {
    "kernelspec": {
      "display_name": "Python 3",
      "language": "python",
      "name": "python3"
    },
    "language_info": {
      "codemirror_mode": {
        "name": "ipython",
        "version": 3
      },
      "file_extension": ".py",
      "mimetype": "text/x-python",
      "name": "python",
      "nbconvert_exporter": "python",
      "pygments_lexer": "ipython3",
      "version": "3.11.3"
    }
  },
  "nbformat": 4,
  "nbformat_minor": 0
}