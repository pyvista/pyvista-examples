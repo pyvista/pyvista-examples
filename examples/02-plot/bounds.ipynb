{
  "cells": [
    {
      "cell_type": "code",
      "execution_count": null,
      "metadata": {
        "collapsed": false
      },
      "outputs": [],
      "source": [
        "%matplotlib inline\nfrom pyvista import set_plot_theme\nset_plot_theme('document')"
      ]
    },
    {
      "cell_type": "markdown",
      "metadata": {},
      "source": [
        "Plotting Bounds {#bounds_example}\n===============\n\nThis example demonstrates to show bounds within a\n`pyvista.Plotter`{.interpreted-text role=\"class\"} using\n`show_grid() <pyvista.Plotter.show_grid>`{.interpreted-text role=\"func\"}\n"
      ]
    },
    {
      "cell_type": "code",
      "execution_count": null,
      "metadata": {
        "collapsed": false
      },
      "outputs": [],
      "source": [
        "import pyvista as pv\nfrom pyvista import examples"
      ]
    },
    {
      "cell_type": "markdown",
      "metadata": {},
      "source": [
        "Show All Bounds\n===============\n\nIn this plot we show the bounds for all axes by setting\n`location='all'`.\n"
      ]
    },
    {
      "cell_type": "code",
      "execution_count": null,
      "metadata": {
        "collapsed": false
      },
      "outputs": [],
      "source": [
        "plotter = pv.Plotter()\nplotter.add_mesh(pv.Sphere(), smooth_shading=True)\nplotter.show_bounds(location='all')\nplotter.show()"
      ]
    },
    {
      "cell_type": "markdown",
      "metadata": {},
      "source": [
        "Override Shown Values Limits\n============================\n\nIn this example, we override the values shown along the X and Y axes\nwith our own custom values. This can be useful when you wish to display\ndifferent values along the axes without having to scale the dataset.\nAlso, note how we hide the Z labels by setting `show_zlabels=False`.\n"
      ]
    },
    {
      "cell_type": "code",
      "execution_count": null,
      "metadata": {
        "collapsed": false
      },
      "outputs": [],
      "source": [
        "gears = examples.download_gears()\n\nplotter = pv.Plotter()\nplotter.add_mesh(gears, smooth_shading=True, split_sharp_edges=True)\nplotter.show_bounds(axes_ranges=[0, 5, 0, 5, 0, 2], show_zlabels=False)\nplotter.show()\n\nprint(f'Actual dataset bounds: {gears.bounds}')"
      ]
    },
    {
      "cell_type": "markdown",
      "metadata": {},
      "source": [
        "Show Bounds for Only One Dataset\n================================\n\nThis example shows only the bounds for a single dataset. Again we use\n`axes_ranges` here since in this example we want to show the size of the\nsingle central gear.\n"
      ]
    },
    {
      "cell_type": "code",
      "execution_count": null,
      "metadata": {
        "collapsed": false
      },
      "outputs": [],
      "source": [
        "# separate and shift the central gear\nsplit_gears = gears.split_bodies()\ncentral_gear = split_gears.pop(1)\ncentral_gear.translate([0, 60, 60], inplace=True)\n\n# also, grab the size of the central gear\nx_size = central_gear.bounds[1] - central_gear.bounds[0]\ny_size = central_gear.bounds[3] - central_gear.bounds[2]\nz_size = central_gear.bounds[5] - central_gear.bounds[4]\n\nplotter = pv.Plotter()\nplotter.add_mesh(split_gears, smooth_shading=True, split_sharp_edges=True)\nplotter.add_mesh(central_gear, smooth_shading=True, split_sharp_edges=True)\nplotter.show_grid(\n    mesh=central_gear,\n    axes_ranges=[0, x_size, 0, y_size, 0, z_size],\n    show_xaxis=False,\n    bold=True,\n    grid=False,\n)\nplotter.show()"
      ]
    }
  ],
  "metadata": {
    "kernelspec": {
      "display_name": "Python 3",
      "language": "python",
      "name": "python3"
    },
    "language_info": {
      "codemirror_mode": {
        "name": "ipython",
        "version": 3
      },
      "file_extension": ".py",
      "mimetype": "text/x-python",
      "name": "python",
      "nbconvert_exporter": "python",
      "pygments_lexer": "ipython3",
      "version": "3.11.5"
    }
  },
  "nbformat": 4,
  "nbformat_minor": 0
}