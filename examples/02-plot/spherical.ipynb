{
  "cells": [
    {
      "cell_type": "code",
      "execution_count": null,
      "metadata": {
        "collapsed": false
      },
      "outputs": [],
      "source": [
        "%matplotlib inline\nfrom pyvista import set_plot_theme\nset_plot_theme('document')"
      ]
    },
    {
      "cell_type": "markdown",
      "metadata": {},
      "source": [
        "Plot data in spherical coordinates\n==================================\n\nGenerate and visualize meshes from data in longitude-latitude\ncoordinates.\n"
      ]
    },
    {
      "cell_type": "code",
      "execution_count": null,
      "metadata": {
        "collapsed": false
      },
      "outputs": [],
      "source": [
        "import numpy as np\n\nimport pyvista as pv\n\n\ndef _cell_bounds(points, bound_position=0.5):\n    \"\"\"\n    Calculate coordinate cell boundaries.\n\n    Parameters\n    ----------\n    points: numpy.ndarray\n        One-dimensional array of uniformly spaced values of shape (M,).\n\n    bound_position: bool, optional\n        The desired position of the bounds relative to the position\n        of the points.\n\n    Returns\n    -------\n    bounds: numpy.ndarray\n        Array of shape (M+1,)\n\n    Examples\n    --------\n    >>> a = np.arange(-1, 2.5, 0.5)\n    >>> a\n    array([-1. , -0.5,  0. ,  0.5,  1. ,  1.5,  2. ])\n    >>> cell_bounds(a)\n    array([-1.25, -0.75, -0.25,  0.25,  0.75,  1.25,  1.75,  2.25])\n    \"\"\"\n    if points.ndim != 1:\n        raise ValueError(\"Only 1D points are allowed.\")\n    diffs = np.diff(points)\n    delta = diffs[0] * bound_position\n    bounds = np.concatenate([[points[0] - delta], points + delta])\n    return bounds\n\n\n# First, create some dummy data\n\n# Approximate radius of the Earth\nRADIUS = 6371.0\n\n# Longitudes and latitudes\nx = np.arange(0, 360, 5)\ny = np.arange(-90, 91, 10)\ny_polar = 90.0 - y  # grid_from_sph_coords() expects polar angle\n\nxx, yy = np.meshgrid(x, y)\n\n\n# x- and y-components of the wind vector\nu_vec = np.cos(np.radians(xx))  # zonal\nv_vec = np.sin(np.radians(yy))  # meridional\n\n# Scalar data\nscalar = u_vec**2 + v_vec**2\n\n# Create arrays of grid cell boundaries, which have shape of (x.shape[0] + 1)\nxx_bounds = _cell_bounds(x)\nyy_bounds = _cell_bounds(y_polar)\n# Vertical levels\n# in this case a single level slightly above the surface of a sphere\nlevels = [RADIUS * 1.01]"
      ]
    },
    {
      "cell_type": "markdown",
      "metadata": {},
      "source": [
        "Create a structured grid\n"
      ]
    },
    {
      "cell_type": "code",
      "execution_count": null,
      "metadata": {
        "collapsed": false
      },
      "outputs": [],
      "source": [
        "grid_scalar = pv.grid_from_sph_coords(xx_bounds, yy_bounds, levels)\n\n# And fill its cell arrays with the scalar data\ngrid_scalar.cell_data[\"example\"] = np.array(scalar).swapaxes(-2, -1).ravel(\"C\")\n\n# Make a plot\np = pv.Plotter()\np.add_mesh(pv.Sphere(radius=RADIUS))\np.add_mesh(grid_scalar, clim=[0.1, 2.0], opacity=0.5, cmap=\"plasma\")\np.show()"
      ]
    },
    {
      "cell_type": "markdown",
      "metadata": {},
      "source": [
        "Visualize vectors in spherical coordinates Vertical wind\n"
      ]
    },
    {
      "cell_type": "code",
      "execution_count": null,
      "metadata": {
        "collapsed": false
      },
      "outputs": [],
      "source": [
        "w_vec = np.random.rand(*u_vec.shape)\n\nwind_level = [RADIUS * 1.2]\n\n# Sequence of axis indices for transpose()\n# (1, 0) for 2D arrays\n# (2, 1, 0) for 3D arrays\ninv_axes = [*range(u_vec.ndim)[::-1]]\n\n# Transform vectors to cartesian coordinates\nvectors = np.stack(\n    [\n        i.transpose(inv_axes).swapaxes(-2, -1).ravel(\"C\")\n        for i in pv.transform_vectors_sph_to_cart(\n            x,\n            y_polar,\n            wind_level,\n            u_vec.transpose(inv_axes),\n            -v_vec.transpose(inv_axes),  # Minus sign because y-vector in polar coords is required\n            w_vec.transpose(inv_axes),\n        )\n    ],\n    axis=1,\n)\n\n# Scale vectors to make them visible\nvectors *= RADIUS * 0.1\n\n# Create a grid for the vectors\ngrid_winds = pv.grid_from_sph_coords(x, y_polar, wind_level)\n\n# Add vectors to the grid\ngrid_winds.point_data[\"example\"] = vectors\n\n# Show the result\np = pv.Plotter()\np.add_mesh(pv.Sphere(radius=RADIUS))\np.add_mesh(grid_winds.glyph(orient=\"example\", scale=\"example\", tolerance=0.005))\np.show()"
      ]
    },
    {
      "cell_type": "markdown",
      "metadata": {},
      "source": [
        "Isurfaces of 3D data in spherical coordinates\n"
      ]
    },
    {
      "cell_type": "code",
      "execution_count": null,
      "metadata": {
        "collapsed": false
      },
      "outputs": [],
      "source": [
        "# Number of vertical levels\nnlev = 10\n\n# Dummy 3D scalar data\nscalar_3d = (\n    scalar.repeat(nlev).reshape((*scalar.shape, nlev)) * np.arange(nlev)[np.newaxis, np.newaxis, :]\n).transpose(2, 0, 1)\n\n\nz_scale = 10\nz_offset = RADIUS * 1.1\n\n# Now it's not a single level but an array of levels\nlevels = z_scale * (np.arange(scalar_3d.shape[0] + 1)) ** 2 + z_offset\n\n# Create a structured grid by transforming coordinates\ngrid_scalar_3d = pv.grid_from_sph_coords(xx_bounds, yy_bounds, levels)\n\n# Add data to the grid\ngrid_scalar_3d.cell_data[\"example\"] = np.array(scalar_3d).swapaxes(-2, -1).ravel(\"C\")\n\n# Create a set of isosurfaces\nsurfaces = grid_scalar_3d.cell_data_to_point_data().contour(isosurfaces=[1, 5, 10, 15])\n\n# Show the result\np = pv.Plotter()\np.add_mesh(pv.Sphere(radius=RADIUS))\np.add_mesh(surfaces)\np.show()"
      ]
    }
  ],
  "metadata": {
    "kernelspec": {
      "display_name": "Python 3",
      "language": "python",
      "name": "python3"
    },
    "language_info": {
      "codemirror_mode": {
        "name": "ipython",
        "version": 3
      },
      "file_extension": ".py",
      "mimetype": "text/x-python",
      "name": "python",
      "nbconvert_exporter": "python",
      "pygments_lexer": "ipython3",
      "version": "3.11.5"
    }
  },
  "nbformat": 4,
  "nbformat_minor": 0
}