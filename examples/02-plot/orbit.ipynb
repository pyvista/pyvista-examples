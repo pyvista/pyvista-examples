{
  "cells": [
    {
      "cell_type": "code",
      "execution_count": null,
      "metadata": {
        "collapsed": false
      },
      "outputs": [],
      "source": [
        "%matplotlib inline\nfrom pyvista import set_plot_theme\nset_plot_theme('document')"
      ]
    },
    {
      "cell_type": "markdown",
      "metadata": {},
      "source": [
        "Orbiting\n========\n\nOrbit around a scene.\n\nNOTE: using `p.open_movie('orbit.mp4')` is better than\n`p.open_gif('orbit.gif')`\n\nFor orbiting to work you first have to show the scene and leave the\nplotter open with `.show(auto_close=False)`.\n"
      ]
    },
    {
      "cell_type": "code",
      "execution_count": null,
      "metadata": {
        "collapsed": false
      },
      "outputs": [],
      "source": [
        "# sphinx_gallery_thumbnail_number = 2\nimport pyvista as pv\nfrom pyvista import examples\n\nmesh = examples.download_st_helens().warp_by_scalar()"
      ]
    },
    {
      "cell_type": "code",
      "execution_count": null,
      "metadata": {
        "collapsed": false
      },
      "outputs": [],
      "source": [
        "p = pv.Plotter()\np.add_mesh(mesh)\np.show(auto_close=False)\npath = p.generate_orbital_path(n_points=36, shift=mesh.length)\np.open_gif(\"orbit.gif\")\np.orbit_on_path(path, write_frames=True)\np.close()"
      ]
    },
    {
      "cell_type": "code",
      "execution_count": null,
      "metadata": {
        "collapsed": false
      },
      "outputs": [],
      "source": [
        "p = pv.Plotter()\np.add_mesh(mesh)\np.show_grid()\np.show(auto_close=False)\nviewup = [0.5, 0.5, 1]\npath = p.generate_orbital_path(factor=2.0, shift=10000, viewup=viewup, n_points=36)\np.open_gif(\"orbit.gif\")\np.orbit_on_path(path, write_frames=True, viewup=[0, 0, 1])\np.close()"
      ]
    },
    {
      "cell_type": "code",
      "execution_count": null,
      "metadata": {
        "collapsed": false
      },
      "outputs": [],
      "source": [
        "mesh = examples.download_dragon()\nviewup = [0, 1, 0]"
      ]
    },
    {
      "cell_type": "code",
      "execution_count": null,
      "metadata": {
        "collapsed": false
      },
      "outputs": [],
      "source": [
        "p = pv.Plotter()\np.add_mesh(mesh)\np.show(auto_close=False)\npath = p.generate_orbital_path(factor=2.0, n_points=36, viewup=viewup, shift=0.2)\np.open_gif(\"orbit.gif\")\np.orbit_on_path(path, write_frames=True, viewup=viewup)\np.close()"
      ]
    }
  ],
  "metadata": {
    "kernelspec": {
      "display_name": "Python 3",
      "language": "python",
      "name": "python3"
    },
    "language_info": {
      "codemirror_mode": {
        "name": "ipython",
        "version": 3
      },
      "file_extension": ".py",
      "mimetype": "text/x-python",
      "name": "python",
      "nbconvert_exporter": "python",
      "pygments_lexer": "ipython3",
      "version": "3.8.10"
    }
  },
  "nbformat": 4,
  "nbformat_minor": 0
}