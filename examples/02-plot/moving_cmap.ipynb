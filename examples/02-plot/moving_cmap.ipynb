{
  "cells": [
    {
      "cell_type": "code",
      "execution_count": null,
      "metadata": {
        "collapsed": false
      },
      "outputs": [],
      "source": [
        "%matplotlib inline\nfrom pyvista import set_plot_theme\nset_plot_theme('document')"
      ]
    },
    {
      "cell_type": "markdown",
      "metadata": {},
      "source": [
        "Create a GIF Movie of a Static Object with a Moving Colormap {#moving_cmap_example}\n============================================================\n\nGenerate a gif movie of a Hopf torus with a moving colormap, by updating\nthe scalars.\n"
      ]
    },
    {
      "cell_type": "code",
      "execution_count": null,
      "metadata": {
        "collapsed": false
      },
      "outputs": [],
      "source": [
        "import numpy as np\n\nimport pyvista as pv\n\n\n# A spherical curve\ndef scurve(t):\n    alpha = np.pi / 2 - (np.pi / 2 - 0.44) * np.cos(3 * t)\n    beta = t + 0.44 * np.sin(6 * t)\n    return np.array([np.sin(alpha) * np.cos(beta), np.sin(alpha) * np.sin(beta), np.cos(alpha)])\n\n\n# Hopf fiber\ndef hopf_fiber(p, phi):\n    return np.array(\n        [\n            (1 + p[2]) * np.cos(phi),\n            p[0] * np.sin(phi) - p[1] * np.cos(phi),\n            p[0] * np.cos(phi) + p[1] * np.sin(phi),\n            (1 + p[2]) * np.sin(phi),\n        ]\n    ) / np.sqrt(2 * (1 + p[2]))\n\n\n# Stereographic projection\ndef stereo_proj(q):\n    return q[0:3] / (1 - q[3])\n\n\n# Parameterization of the Hopf torus\ndef hopf_torus(t, phi):\n    return stereo_proj(hopf_fiber(scurve(t), phi))\n\n\n# Create the mesh\nangle_u = np.linspace(-np.pi, np.pi, 400)\nangle_v = np.linspace(0, np.pi, 200)\nu, v = np.meshgrid(angle_u, angle_v)\nx, y, z = hopf_torus(u, v)\ngrid = pv.StructuredGrid(x, y, z)\nmesh = grid.extract_geometry().clean(tolerance=1e-6)\n\n# Distances normalized to [0, 2*pi]\ndists = np.linalg.norm(mesh.points, axis=1)\ndists = 2 * np.pi * (dists - dists.min()) / (dists.max() - dists.min())\n\n# Make the movie\npltr = pv.Plotter(window_size=[512, 512])\npltr.set_focus([0, 0, 0])\npltr.set_position([40, 0, 0])\npltr.add_mesh(\n    mesh,\n    scalars=np.sin(dists),\n    smooth_shading=True,\n    specular=1,\n    cmap=\"nipy_spectral\",\n    show_scalar_bar=False,\n)\npltr.open_gif(\"Hopf_torus.gif\")\n\nfor t in np.linspace(0, 2 * np.pi, 60, endpoint=False):\n    pltr.update_scalars(np.sin(dists - t), render=False)\n    pltr.write_frame()\n\npltr.show()"
      ]
    }
  ],
  "metadata": {
    "kernelspec": {
      "display_name": "Python 3",
      "language": "python",
      "name": "python3"
    },
    "language_info": {
      "codemirror_mode": {
        "name": "ipython",
        "version": 3
      },
      "file_extension": ".py",
      "mimetype": "text/x-python",
      "name": "python",
      "nbconvert_exporter": "python",
      "pygments_lexer": "ipython3",
      "version": "3.11.3"
    }
  },
  "nbformat": 4,
  "nbformat_minor": 0
}